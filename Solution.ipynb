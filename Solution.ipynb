{
 "cells": [
  {
   "cell_type": "markdown",
   "metadata": {},
   "source": [
    "# Data Scientist Challenge | Marcelo Torres Cisterna"
   ]
  },
  {
   "cell_type": "markdown",
   "metadata": {},
   "source": [
    "El presente notebook tiene por objetivo el desarrollo de un modelo de IA que permita identificar la probabilidad que un vuelo se atrase o no. Es conocido que éste es un problema que se da en la realidad y lo ideal es minimizar estos atrasos lo máximo posible."
   ]
  },
  {
   "cell_type": "markdown",
   "metadata": {},
   "source": [
    "# <font color='darkblue'>Estructura del Notebook</font>"
   ]
  },
  {
   "cell_type": "markdown",
   "metadata": {},
   "source": [
    "[Sección 1 : Exploratory Data Analysis](#Sección-1-:-Exploratory-Data-Analysis)    \n",
    "- [Sección 1.1 : Análisis Por Fechas](#Sección-1.1-:-Análisis-Por-Fechas)\n",
    "- [Sección 1.2 : Análisis Por Origen y Destino](#Sección-1.2-:-Análisis-Por-Origen-y-Destino)\n",
    "- [Sección 1.3 : Análisis Por Aerolínea](#Sección-1.3-:-Análisis-Por-Aerolínea)\n",
    "\n",
    "[Sección 2 : Synthetic Features](#Sección-2-:-Synthetic-Features) \n",
    "- [Sección 2.1 : Temporada Alta](#Sección-2.1-:-Temporada-Alta)\n",
    "- [Sección 2.2 : Diferencia Minutos](#Sección-2.2-:-Diferencia-Minutos)\n",
    "- [Sección 2.3 : Atraso 15](#Sección-2.3-:-Atraso-15)\n",
    "- [Sección 2.4 : Período Día](#Sección-2.4-:-Período-Día)\n",
    "\n",
    "[Sección 3 : Tasas de Atrasos](#Sección-3-:-Tasas-de-Atrasos) \n",
    "- [Sección 3.1 : Destino](#Sección-3.1-:-Destino) \n",
    "- [Sección 3.2 : Aerolínea](#Sección-3.2-:-Aerolínea)\n",
    "- [Sección 3.3 : Mes](#Sección-3.3-:-Mes)\n",
    "- [Sección 3.4 : Día](#Sección-3.4-:-Día)\n",
    "- [Sección 3.5 : Temporada](#Sección-3.5-:-Temporada)\n",
    "- [Sección 3.6 : Tipo de Vuelo](#Sección-3.6-:-Tipo-de-Vuelo)\n",
    "- [Sección 3.7 : Período Día](#Sección-3.7-:-Período-Día)\n",
    "- [Sección 3.8 : Variables Interesantes para el Estudio](#Sección-3.8-:-Variables-Interesantes-para-el-Estudio)\n",
    "\n",
    "[Sección 4 : Desarrollo de Modelos](#Sección-4-:-Desarrollo-de-Modelos) \n",
    "- [Sección 4.1 : Preparando un poco más los Datos](#Sección-4.1-:-Preparando-un-poco-más-los-Datos)\n",
    "- [Sección 4.2 : Analizando Solo Los Vuelos Atrasados](#Sección-4.2-:-Analizando-Solo-Los-Vuelos-Atrasados)\n",
    "- [Sección 4.3 : Modelo sin incluir las Tasas](#Sección-4.3-:-Modelo-sin-incluir-las-Tasas)\n",
    " - [Sección 4.3.1 : Logistic Regression](#Sección-4.3.1-:-Logistic-Regression)\n",
    "  - [Sección 4.3.2 : XGBoost](#Sección-4.3.2-:-XGBoost)\n",
    "  - [Sección 4.3.3 : Random Forest](#Sección-4.3.3-:-Random-Forest)\n",
    "  - [Sección 4.3.4 : Decision Tree](#Sección-4.3.4-:-Decision-Tree)\n",
    "  \n",
    "  \n",
    "- [Sección 4.4 : Modelo incluyendo Tasas y Variables Anteriores](#Sección-4.4-:-Modelo-incluyendo-Tasas-y-Variables-Anteriores)\n",
    " - [Sección 4.4.1 : Logistic Regression](#Sección-4.4.1-:-Logistic-Regression)\n",
    "  - [Sección 4.4.2 : XGBoost](#Sección-4.4.2-:-XGBoost)\n",
    "  - [Sección 4.4.3 : Random Forest](#Sección-4.4.3-:-Random-Forest)\n",
    "  - [Sección 4.4.4 : Decision Tree](#Sección-4.4.4-:-Decision-Tree)\n",
    "\n",
    "[Sección 5 : Evaluación de Modelos](#Sección-5-:-Evaluación-de-Modelos)  \n"
   ]
  },
  {
   "cell_type": "code",
   "execution_count": 101,
   "metadata": {},
   "outputs": [],
   "source": [
    "import pandas as pd\n",
    "import numpy as np\n",
    "import seaborn as sns\n",
    "import matplotlib.pyplot as plt\n",
    "pd.set_option('display.max_columns', None)\n",
    "from sklearn.metrics import accuracy_score,precision_score,recall_score\n",
    "from sklearn.metrics import confusion_matrix, classification_report\n",
    "from sklearn.model_selection import train_test_split\n",
    "from sklearn.linear_model import LogisticRegression\n",
    "from sklearn.ensemble import RandomForestClassifier\n",
    "from sklearn.tree import DecisionTreeClassifier\n",
    "from sklearn.model_selection import cross_val_score\n",
    "from sklearn.model_selection import GridSearchCV\n",
    "import xgboost as xgb"
   ]
  },
  {
   "cell_type": "code",
   "execution_count": 2,
   "metadata": {},
   "outputs": [
    {
     "name": "stderr",
     "output_type": "stream",
     "text": [
      "C:\\Users\\marce\\anaconda3\\lib\\site-packages\\IPython\\core\\interactiveshell.py:3071: DtypeWarning: Columns (1,6) have mixed types.Specify dtype option on import or set low_memory=False.\n",
      "  has_raised = await self.run_ast_nodes(code_ast.body, cell_name,\n"
     ]
    }
   ],
   "source": [
    "data = pd.read_csv(\"dataset_SCL.csv\")"
   ]
  },
  {
   "cell_type": "markdown",
   "metadata": {},
   "source": [
    "# Sección 1 : Exploratory Data Analysis"
   ]
  },
  {
   "cell_type": "code",
   "execution_count": 3,
   "metadata": {},
   "outputs": [
    {
     "name": "stdout",
     "output_type": "stream",
     "text": [
      "<class 'pandas.core.frame.DataFrame'>\n",
      "RangeIndex: 68206 entries, 0 to 68205\n",
      "Data columns (total 18 columns):\n",
      " #   Column     Non-Null Count  Dtype \n",
      "---  ------     --------------  ----- \n",
      " 0   Fecha-I    68206 non-null  object\n",
      " 1   Vlo-I      68206 non-null  object\n",
      " 2   Ori-I      68206 non-null  object\n",
      " 3   Des-I      68206 non-null  object\n",
      " 4   Emp-I      68206 non-null  object\n",
      " 5   Fecha-O    68206 non-null  object\n",
      " 6   Vlo-O      68205 non-null  object\n",
      " 7   Ori-O      68206 non-null  object\n",
      " 8   Des-O      68206 non-null  object\n",
      " 9   Emp-O      68206 non-null  object\n",
      " 10  DIA        68206 non-null  int64 \n",
      " 11  MES        68206 non-null  int64 \n",
      " 12  AÑO        68206 non-null  int64 \n",
      " 13  DIANOM     68206 non-null  object\n",
      " 14  TIPOVUELO  68206 non-null  object\n",
      " 15  OPERA      68206 non-null  object\n",
      " 16  SIGLAORI   68206 non-null  object\n",
      " 17  SIGLADES   68206 non-null  object\n",
      "dtypes: int64(3), object(15)\n",
      "memory usage: 9.4+ MB\n"
     ]
    }
   ],
   "source": [
    "data.info()"
   ]
  },
  {
   "cell_type": "code",
   "execution_count": 4,
   "metadata": {},
   "outputs": [
    {
     "data": {
      "text/html": [
       "<div>\n",
       "<style scoped>\n",
       "    .dataframe tbody tr th:only-of-type {\n",
       "        vertical-align: middle;\n",
       "    }\n",
       "\n",
       "    .dataframe tbody tr th {\n",
       "        vertical-align: top;\n",
       "    }\n",
       "\n",
       "    .dataframe thead th {\n",
       "        text-align: right;\n",
       "    }\n",
       "</style>\n",
       "<table border=\"1\" class=\"dataframe\">\n",
       "  <thead>\n",
       "    <tr style=\"text-align: right;\">\n",
       "      <th></th>\n",
       "      <th>DIA</th>\n",
       "      <th>MES</th>\n",
       "      <th>AÑO</th>\n",
       "    </tr>\n",
       "  </thead>\n",
       "  <tbody>\n",
       "    <tr>\n",
       "      <th>count</th>\n",
       "      <td>68206.000000</td>\n",
       "      <td>68206.000000</td>\n",
       "      <td>68206.000000</td>\n",
       "    </tr>\n",
       "    <tr>\n",
       "      <th>mean</th>\n",
       "      <td>15.714790</td>\n",
       "      <td>6.622585</td>\n",
       "      <td>2017.000029</td>\n",
       "    </tr>\n",
       "    <tr>\n",
       "      <th>std</th>\n",
       "      <td>8.782886</td>\n",
       "      <td>3.523321</td>\n",
       "      <td>0.005415</td>\n",
       "    </tr>\n",
       "    <tr>\n",
       "      <th>min</th>\n",
       "      <td>1.000000</td>\n",
       "      <td>1.000000</td>\n",
       "      <td>2017.000000</td>\n",
       "    </tr>\n",
       "    <tr>\n",
       "      <th>25%</th>\n",
       "      <td>8.000000</td>\n",
       "      <td>3.000000</td>\n",
       "      <td>2017.000000</td>\n",
       "    </tr>\n",
       "    <tr>\n",
       "      <th>50%</th>\n",
       "      <td>16.000000</td>\n",
       "      <td>7.000000</td>\n",
       "      <td>2017.000000</td>\n",
       "    </tr>\n",
       "    <tr>\n",
       "      <th>75%</th>\n",
       "      <td>23.000000</td>\n",
       "      <td>10.000000</td>\n",
       "      <td>2017.000000</td>\n",
       "    </tr>\n",
       "    <tr>\n",
       "      <th>max</th>\n",
       "      <td>31.000000</td>\n",
       "      <td>12.000000</td>\n",
       "      <td>2018.000000</td>\n",
       "    </tr>\n",
       "  </tbody>\n",
       "</table>\n",
       "</div>"
      ],
      "text/plain": [
       "                DIA           MES           AÑO\n",
       "count  68206.000000  68206.000000  68206.000000\n",
       "mean      15.714790      6.622585   2017.000029\n",
       "std        8.782886      3.523321      0.005415\n",
       "min        1.000000      1.000000   2017.000000\n",
       "25%        8.000000      3.000000   2017.000000\n",
       "50%       16.000000      7.000000   2017.000000\n",
       "75%       23.000000     10.000000   2017.000000\n",
       "max       31.000000     12.000000   2018.000000"
      ]
     },
     "execution_count": 4,
     "metadata": {},
     "output_type": "execute_result"
    }
   ],
   "source": [
    "data.describe()"
   ]
  },
  {
   "cell_type": "markdown",
   "metadata": {},
   "source": [
    "Primero, notamos que existen algunas Features que corresponden a fechas, pero no están en formato datetime, formato que nos facilita mucho más el trabajo para obtener datos a partir de fechas."
   ]
  },
  {
   "cell_type": "code",
   "execution_count": 5,
   "metadata": {},
   "outputs": [],
   "source": [
    "data[[\"Fecha-I\", \"Fecha-O\"]] = data[[\"Fecha-I\", \"Fecha-O\"]].apply(pd.to_datetime)"
   ]
  },
  {
   "cell_type": "markdown",
   "metadata": {},
   "source": [
    "Usando el nuevo formato, obtenemos algunas Features nuevas para nuestro análisis."
   ]
  },
  {
   "cell_type": "code",
   "execution_count": 6,
   "metadata": {},
   "outputs": [],
   "source": [
    "data['year-I'] = [x.year for x in data[\"Fecha-I\"]]\n",
    "data['year-O'] = [x.year for x in data[\"Fecha-O\"]]\n",
    "data['month-I'] = [x.month for x in data[\"Fecha-I\"]]\n",
    "data['month-O'] = [x.month for x in data[\"Fecha-O\"]]    \n",
    "data['day-I'] = [x.day for x in data[\"Fecha-I\"]]\n",
    "data['day-O'] = [x.day for x in data[\"Fecha-O\"]]    "
   ]
  },
  {
   "cell_type": "markdown",
   "metadata": {},
   "source": [
    "Borramos features repetidas"
   ]
  },
  {
   "cell_type": "code",
   "execution_count": 7,
   "metadata": {},
   "outputs": [],
   "source": [
    "data.drop([\"DIA\" , \"MES\" , \"AÑO\"] , axis = 1 , inplace = True)"
   ]
  },
  {
   "cell_type": "code",
   "execution_count": 8,
   "metadata": {},
   "outputs": [
    {
     "data": {
      "text/plain": [
       "year-I  year-O\n",
       "2017    2017      68204\n",
       "        2018          2\n",
       "dtype: int64"
      ]
     },
     "execution_count": 8,
     "metadata": {},
     "output_type": "execute_result"
    }
   ],
   "source": [
    "data.groupby([\"year-I\",\"year-O\"]).size()"
   ]
  },
  {
   "cell_type": "markdown",
   "metadata": {},
   "source": [
    "Notamos que el dataset se basa en datos del año 2017, hay dos vuelos cuya fecha de operación es de 2018 y eso es porque el vuelo estaba programado para el 31 de Diciembre y operó pasada las 00 horas"
   ]
  },
  {
   "cell_type": "markdown",
   "metadata": {},
   "source": [
    "## Sección 1.1 : Análisis Por Fechas"
   ]
  },
  {
   "cell_type": "code",
   "execution_count": 9,
   "metadata": {},
   "outputs": [
    {
     "data": {
      "image/png": "[encoded data removed]",
      "text/plain": [
       "<Figure size 864x216 with 1 Axes>"
      ]
     },
     "metadata": {
      "needs_background": "light"
     },
     "output_type": "display_data"
    }
   ],
   "source": [
    "plt.figure(figsize =(12,3))\n",
    "plt.title(\"Distribución de Vuelos Según Mes\")\n",
    "sns.countplot(x = \"month-I\" , data = data , palette = \"autumn\")\n",
    "plt.xlabel(\"Meses\");"
   ]
  },
  {
   "cell_type": "code",
   "execution_count": 10,
   "metadata": {},
   "outputs": [
    {
     "data": {
      "image/png": "[encoded data removed]",
      "text/plain": [
       "<Figure size 1080x216 with 1 Axes>"
      ]
     },
     "metadata": {
      "needs_background": "light"
     },
     "output_type": "display_data"
    }
   ],
   "source": [
    "plt.figure(figsize =(15,3))\n",
    "plt.title(\"Distribución de Vuelos Según Día\")\n",
    "sns.countplot(x = \"day-I\" , data = data , palette = \"winter\")\n",
    "plt.xlabel(\"Días\");"
   ]
  },
  {
   "cell_type": "markdown",
   "metadata": {},
   "source": [
    "Notamos que en cuanto a la distribución __Mensual__ de los datos, hay tres fechas principales en las que se presenta una mayor cantidad de vuelos: __Enero, Julio y Diciembre__. A priori, una conclusión de lo anterior es debido a las fechas relacionadas a las vacaciones de verano e invierno. Por otra parte, cuando analizamos el comportamiento diario notamos un patrón más o menos similar a excepción del día __31 de Diciembre__, lo anterior probablemente ya que es el día de año nuevo y muchas personas probablemente quieran pasar ese día festivo con familiares y amigos."
   ]
  },
  {
   "cell_type": "code",
   "execution_count": 11,
   "metadata": {},
   "outputs": [
    {
     "data": {
      "image/png": "[encoded data removed]",
      "text/plain": [
       "<Figure size 864x576 with 1 Axes>"
      ]
     },
     "metadata": {
      "needs_background": "light"
     },
     "output_type": "display_data"
    }
   ],
   "source": [
    "plt.figure(figsize =(12,8))\n",
    "plt.title(\"Distribución de Vuelos Según Día de la Semana\")\n",
    "sns.countplot(x = \"DIANOM\" , data = data , palette = \"summer\" , order=['Lunes', 'Martes', 'Miercoles', 'Jueves', 'Viernes' , 'Sabado' , 'Domingo'])\n",
    "plt.xlabel(\"Día de la Semana\");"
   ]
  },
  {
   "cell_type": "markdown",
   "metadata": {},
   "source": [
    "En cuanto a día de la semana __Lunes , Jueves y Viernes__ lideran los vuelos."
   ]
  },
  {
   "cell_type": "markdown",
   "metadata": {},
   "source": [
    "## Sección 1.2 : Análisis Por Origen y Destino"
   ]
  },
  {
   "cell_type": "code",
   "execution_count": 12,
   "metadata": {},
   "outputs": [
    {
     "data": {
      "text/plain": [
       "Ori-I\n",
       "SCEL    68206\n",
       "dtype: int64"
      ]
     },
     "execution_count": 12,
     "metadata": {},
     "output_type": "execute_result"
    }
   ],
   "source": [
    "data.groupby(\"Ori-I\").size()"
   ]
  },
  {
   "cell_type": "code",
   "execution_count": 13,
   "metadata": {},
   "outputs": [
    {
     "data": {
      "text/plain": [
       "Ori-O\n",
       "SCEL    68206\n",
       "dtype: int64"
      ]
     },
     "execution_count": 13,
     "metadata": {},
     "output_type": "execute_result"
    }
   ],
   "source": [
    "data.groupby(\"Ori-O\").size()"
   ]
  },
  {
   "cell_type": "code",
   "execution_count": 14,
   "metadata": {},
   "outputs": [
    {
     "data": {
      "text/plain": [
       "SIGLAORI\n",
       "Santiago    68206\n",
       "dtype: int64"
      ]
     },
     "execution_count": 14,
     "metadata": {},
     "output_type": "execute_result"
    }
   ],
   "source": [
    "data.groupby(\"SIGLAORI\").size()"
   ]
  },
  {
   "cell_type": "markdown",
   "metadata": {},
   "source": [
    "Aquí es donde notamos algo interesante. Todos los vuelos del dataset tienen como origen tanto programado como de operación la ciudad de Santiago. Lo anterior quiere decir que todos los vuelos son solamente vuelos __desde__ Santiago y no __desde y hacia__ como menciona la descripción del dataset. Por lo tanto éstas columnas no nos sirven y se eliminan."
   ]
  },
  {
   "cell_type": "code",
   "execution_count": 15,
   "metadata": {},
   "outputs": [],
   "source": [
    "data.drop([\"Ori-I\" , \"Ori-O\" , \"SIGLAORI\"] , axis = 1 , inplace = True)"
   ]
  },
  {
   "cell_type": "code",
   "execution_count": 16,
   "metadata": {},
   "outputs": [
    {
     "data": {
      "image/png": "[encoded data removed]",
      "text/plain": [
       "<Figure size 1296x576 with 1 Axes>"
      ]
     },
     "metadata": {
      "needs_background": "light"
     },
     "output_type": "display_data"
    }
   ],
   "source": [
    "plt.figure(figsize =(18,8))\n",
    "plt.title(\"Distribución de Vuelos Según Destino\")\n",
    "sns.countplot(x = \"SIGLADES\" , data = data , palette = \"autumn\" , order = data['SIGLADES'].value_counts().index[:10]);\n",
    "plt.xlabel(\"Destinos\");"
   ]
  },
  {
   "cell_type": "code",
   "execution_count": 17,
   "metadata": {},
   "outputs": [],
   "source": [
    "data[\"DestVerificacion\"] = data[\"Des-I\"] == data[\"Des-O\"]"
   ]
  },
  {
   "cell_type": "code",
   "execution_count": 18,
   "metadata": {},
   "outputs": [
    {
     "data": {
      "text/plain": [
       "DestVerificacion\n",
       "False       28\n",
       "True     68178\n",
       "dtype: int64"
      ]
     },
     "execution_count": 18,
     "metadata": {},
     "output_type": "execute_result"
    }
   ],
   "source": [
    "data.groupby(\"DestVerificacion\").size()"
   ]
  },
  {
   "cell_type": "markdown",
   "metadata": {},
   "source": [
    "La ubicación con la mayor cantidad de viajes corresponde a la ciudad de __Buenos Aires__ seguido de __Antofagasta__ . Otra cosa importante que notamos es que hay 28 casos en los que el __Destino Programado__ es diferente al __Destino de Operación__ . Esta situación resulta un poco extraña ya que cuando uno agenda un vuelo, uno espera llegar al destino que fue solicitado y no otro. El hecho que existieran algunos vuelos en los que estos destinos eran diferentes se pudo haber debido por ejemplo a alguna falla técnica que generó algún aterrizaje de emergencia o algo por el estilo. Para efectos del estudio, se considerarán como __Outliers__."
   ]
  },
  {
   "cell_type": "code",
   "execution_count": 19,
   "metadata": {},
   "outputs": [],
   "source": [
    "data = data[data.DestVerificacion == True]"
   ]
  },
  {
   "cell_type": "code",
   "execution_count": 20,
   "metadata": {},
   "outputs": [
    {
     "data": {
      "image/png": "[encoded data removed]",
      "text/plain": [
       "<Figure size 576x360 with 1 Axes>"
      ]
     },
     "metadata": {
      "needs_background": "light"
     },
     "output_type": "display_data"
    }
   ],
   "source": [
    "plt.figure(figsize =(8,5))\n",
    "plt.title(\"Distribución de Vuelos Según Tipo de Viaje\")\n",
    "sns.countplot(y = \"TIPOVUELO\" , data = data , palette = \"Blues\");\n",
    "plt.xlabel(\"Tipo de Viaje\");"
   ]
  },
  {
   "cell_type": "markdown",
   "metadata": {},
   "source": [
    "Por otra parte, la cantidad de vuelos tanto __Nacionales como Internacionales__ es más o menos similar."
   ]
  },
  {
   "cell_type": "markdown",
   "metadata": {},
   "source": [
    "## Sección 1.3 : Análisis Por Aerolínea"
   ]
  },
  {
   "cell_type": "code",
   "execution_count": 21,
   "metadata": {},
   "outputs": [
    {
     "data": {
      "image/png": "[encoded data removed]",
      "text/plain": [
       "<Figure size 1296x576 with 1 Axes>"
      ]
     },
     "metadata": {
      "needs_background": "light"
     },
     "output_type": "display_data"
    }
   ],
   "source": [
    "plt.figure(figsize =(18,8))\n",
    "plt.title(\"Distribución de Vuelos Según Aerolínea Que Opera\")\n",
    "sns.countplot(x = \"OPERA\" , data = data , palette = \"autumn\");\n",
    "plt.xlabel(\"Aerolínea\")\n",
    "plt.xticks(rotation=45);"
   ]
  },
  {
   "cell_type": "code",
   "execution_count": 22,
   "metadata": {},
   "outputs": [],
   "source": [
    "data[\"EmpVer\"] = data[\"Emp-I\"] == data[\"Emp-O\"]"
   ]
  },
  {
   "cell_type": "code",
   "execution_count": 23,
   "metadata": {},
   "outputs": [
    {
     "data": {
      "text/plain": [
       "EmpVer\n",
       "False    18659\n",
       "True     49519\n",
       "dtype: int64"
      ]
     },
     "execution_count": 23,
     "metadata": {},
     "output_type": "execute_result"
    }
   ],
   "source": [
    "data.groupby(\"EmpVer\").size()"
   ]
  },
  {
   "cell_type": "code",
   "execution_count": 24,
   "metadata": {},
   "outputs": [
    {
     "data": {
      "text/html": [
       "<div>\n",
       "<style scoped>\n",
       "    .dataframe tbody tr th:only-of-type {\n",
       "        vertical-align: middle;\n",
       "    }\n",
       "\n",
       "    .dataframe tbody tr th {\n",
       "        vertical-align: top;\n",
       "    }\n",
       "\n",
       "    .dataframe thead th {\n",
       "        text-align: right;\n",
       "    }\n",
       "</style>\n",
       "<table border=\"1\" class=\"dataframe\">\n",
       "  <thead>\n",
       "    <tr style=\"text-align: right;\">\n",
       "      <th></th>\n",
       "      <th>Fecha-I</th>\n",
       "      <th>Vlo-I</th>\n",
       "      <th>Des-I</th>\n",
       "      <th>Emp-I</th>\n",
       "      <th>Fecha-O</th>\n",
       "      <th>Vlo-O</th>\n",
       "      <th>Des-O</th>\n",
       "      <th>Emp-O</th>\n",
       "      <th>DIANOM</th>\n",
       "      <th>TIPOVUELO</th>\n",
       "      <th>OPERA</th>\n",
       "      <th>SIGLADES</th>\n",
       "      <th>year-I</th>\n",
       "      <th>year-O</th>\n",
       "      <th>month-I</th>\n",
       "      <th>month-O</th>\n",
       "      <th>day-I</th>\n",
       "      <th>day-O</th>\n",
       "      <th>DestVerificacion</th>\n",
       "      <th>EmpVer</th>\n",
       "    </tr>\n",
       "  </thead>\n",
       "  <tbody>\n",
       "    <tr>\n",
       "      <th>345</th>\n",
       "      <td>2017-01-21 22:30:00</td>\n",
       "      <td>2291</td>\n",
       "      <td>SABE</td>\n",
       "      <td>AUT</td>\n",
       "      <td>2017-01-21 22:28:00</td>\n",
       "      <td>2291</td>\n",
       "      <td>SABE</td>\n",
       "      <td>ARG</td>\n",
       "      <td>Sabado</td>\n",
       "      <td>I</td>\n",
       "      <td>Austral</td>\n",
       "      <td>Buenos Aires</td>\n",
       "      <td>2017</td>\n",
       "      <td>2017</td>\n",
       "      <td>1</td>\n",
       "      <td>1</td>\n",
       "      <td>21</td>\n",
       "      <td>21</td>\n",
       "      <td>True</td>\n",
       "      <td>False</td>\n",
       "    </tr>\n",
       "    <tr>\n",
       "      <th>814</th>\n",
       "      <td>2017-01-01 07:14:00</td>\n",
       "      <td>624</td>\n",
       "      <td>SPJC</td>\n",
       "      <td>AVA</td>\n",
       "      <td>2017-01-01 07:11:00</td>\n",
       "      <td>624</td>\n",
       "      <td>SPJC</td>\n",
       "      <td>LRC</td>\n",
       "      <td>Domingo</td>\n",
       "      <td>I</td>\n",
       "      <td>Avianca</td>\n",
       "      <td>Lima</td>\n",
       "      <td>2017</td>\n",
       "      <td>2017</td>\n",
       "      <td>1</td>\n",
       "      <td>1</td>\n",
       "      <td>1</td>\n",
       "      <td>1</td>\n",
       "      <td>True</td>\n",
       "      <td>False</td>\n",
       "    </tr>\n",
       "    <tr>\n",
       "      <th>815</th>\n",
       "      <td>2017-01-02 07:00:00</td>\n",
       "      <td>624</td>\n",
       "      <td>SPJC</td>\n",
       "      <td>AVA</td>\n",
       "      <td>2017-01-02 07:05:00</td>\n",
       "      <td>624</td>\n",
       "      <td>SPJC</td>\n",
       "      <td>LRC</td>\n",
       "      <td>Lunes</td>\n",
       "      <td>I</td>\n",
       "      <td>Avianca</td>\n",
       "      <td>Lima</td>\n",
       "      <td>2017</td>\n",
       "      <td>2017</td>\n",
       "      <td>1</td>\n",
       "      <td>1</td>\n",
       "      <td>2</td>\n",
       "      <td>2</td>\n",
       "      <td>True</td>\n",
       "      <td>False</td>\n",
       "    </tr>\n",
       "    <tr>\n",
       "      <th>816</th>\n",
       "      <td>2017-01-03 07:14:00</td>\n",
       "      <td>624</td>\n",
       "      <td>SPJC</td>\n",
       "      <td>AVA</td>\n",
       "      <td>2017-01-03 07:14:00</td>\n",
       "      <td>624</td>\n",
       "      <td>SPJC</td>\n",
       "      <td>LRC</td>\n",
       "      <td>Martes</td>\n",
       "      <td>I</td>\n",
       "      <td>Avianca</td>\n",
       "      <td>Lima</td>\n",
       "      <td>2017</td>\n",
       "      <td>2017</td>\n",
       "      <td>1</td>\n",
       "      <td>1</td>\n",
       "      <td>3</td>\n",
       "      <td>3</td>\n",
       "      <td>True</td>\n",
       "      <td>False</td>\n",
       "    </tr>\n",
       "    <tr>\n",
       "      <th>817</th>\n",
       "      <td>2017-01-04 07:00:00</td>\n",
       "      <td>624</td>\n",
       "      <td>SPJC</td>\n",
       "      <td>AVA</td>\n",
       "      <td>2017-01-04 07:24:00</td>\n",
       "      <td>624</td>\n",
       "      <td>SPJC</td>\n",
       "      <td>LRC</td>\n",
       "      <td>Miercoles</td>\n",
       "      <td>I</td>\n",
       "      <td>Avianca</td>\n",
       "      <td>Lima</td>\n",
       "      <td>2017</td>\n",
       "      <td>2017</td>\n",
       "      <td>1</td>\n",
       "      <td>1</td>\n",
       "      <td>4</td>\n",
       "      <td>4</td>\n",
       "      <td>True</td>\n",
       "      <td>False</td>\n",
       "    </tr>\n",
       "  </tbody>\n",
       "</table>\n",
       "</div>"
      ],
      "text/plain": [
       "                Fecha-I Vlo-I Des-I Emp-I             Fecha-O Vlo-O Des-O  \\\n",
       "345 2017-01-21 22:30:00  2291  SABE   AUT 2017-01-21 22:28:00  2291  SABE   \n",
       "814 2017-01-01 07:14:00   624  SPJC   AVA 2017-01-01 07:11:00   624  SPJC   \n",
       "815 2017-01-02 07:00:00   624  SPJC   AVA 2017-01-02 07:05:00   624  SPJC   \n",
       "816 2017-01-03 07:14:00   624  SPJC   AVA 2017-01-03 07:14:00   624  SPJC   \n",
       "817 2017-01-04 07:00:00   624  SPJC   AVA 2017-01-04 07:24:00   624  SPJC   \n",
       "\n",
       "    Emp-O     DIANOM TIPOVUELO    OPERA      SIGLADES  year-I  year-O  \\\n",
       "345   ARG     Sabado         I  Austral  Buenos Aires    2017    2017   \n",
       "814   LRC    Domingo         I  Avianca          Lima    2017    2017   \n",
       "815   LRC      Lunes         I  Avianca          Lima    2017    2017   \n",
       "816   LRC     Martes         I  Avianca          Lima    2017    2017   \n",
       "817   LRC  Miercoles         I  Avianca          Lima    2017    2017   \n",
       "\n",
       "     month-I  month-O  day-I  day-O  DestVerificacion  EmpVer  \n",
       "345        1        1     21     21              True   False  \n",
       "814        1        1      1      1              True   False  \n",
       "815        1        1      2      2              True   False  \n",
       "816        1        1      3      3              True   False  \n",
       "817        1        1      4      4              True   False  "
      ]
     },
     "execution_count": 24,
     "metadata": {},
     "output_type": "execute_result"
    }
   ],
   "source": [
    "data[data.EmpVer == False].head()"
   ]
  },
  {
   "cell_type": "markdown",
   "metadata": {},
   "source": [
    "Aquí notamos otra característica interesante de los datos. Existe una gran cantidad de vuelos en los que la empresa que en realidad operó fue diferente a la que debió haber operado. Sin embargo, puede que la aerolínea que en realidad operó sea parte de un Grupo, por lo que la tesis anterior estaría equivocada. Para lo anterior creamos una columna que mapea código de aerolínea con nombre de la aerolínea"
   ]
  },
  {
   "cell_type": "code",
   "execution_count": 25,
   "metadata": {},
   "outputs": [],
   "source": [
    "aerodict = data[[\"Emp-I\" , \"OPERA\"]].drop_duplicates()\n",
    "aerodict.rename(columns = {\n",
    "    'Emp-I' : 'Emp-O',\n",
    "    'OPERA' : 'OPERA-O'\n",
    "} , inplace = True)"
   ]
  },
  {
   "cell_type": "code",
   "execution_count": 26,
   "metadata": {},
   "outputs": [],
   "source": [
    "data = pd.merge(data,aerodict, how = \"left\")\n",
    "data['OPERA-O'] = data[\"OPERA-O\"].fillna(value = \"Unknown\")"
   ]
  },
  {
   "cell_type": "code",
   "execution_count": 27,
   "metadata": {},
   "outputs": [
    {
     "data": {
      "text/plain": [
       "Emp-I\n",
       "AVA      2\n",
       "LAW     27\n",
       "QFU    194\n",
       "dtype: int64"
      ]
     },
     "execution_count": 27,
     "metadata": {},
     "output_type": "execute_result"
    }
   ],
   "source": [
    "data[data['OPERA-O'] == \"Unknown\"].groupby(\"Emp-I\").size()"
   ]
  },
  {
   "cell_type": "code",
   "execution_count": 28,
   "metadata": {},
   "outputs": [
    {
     "data": {
      "text/html": [
       "<div>\n",
       "<style scoped>\n",
       "    .dataframe tbody tr th:only-of-type {\n",
       "        vertical-align: middle;\n",
       "    }\n",
       "\n",
       "    .dataframe tbody tr th {\n",
       "        vertical-align: top;\n",
       "    }\n",
       "\n",
       "    .dataframe thead th {\n",
       "        text-align: right;\n",
       "    }\n",
       "</style>\n",
       "<table border=\"1\" class=\"dataframe\">\n",
       "  <thead>\n",
       "    <tr style=\"text-align: right;\">\n",
       "      <th></th>\n",
       "      <th>Fecha-I</th>\n",
       "      <th>Vlo-I</th>\n",
       "      <th>Des-I</th>\n",
       "      <th>Emp-I</th>\n",
       "      <th>Fecha-O</th>\n",
       "      <th>Vlo-O</th>\n",
       "      <th>Des-O</th>\n",
       "      <th>Emp-O</th>\n",
       "      <th>DIANOM</th>\n",
       "      <th>TIPOVUELO</th>\n",
       "      <th>OPERA</th>\n",
       "      <th>SIGLADES</th>\n",
       "      <th>year-I</th>\n",
       "      <th>year-O</th>\n",
       "      <th>month-I</th>\n",
       "      <th>month-O</th>\n",
       "      <th>day-I</th>\n",
       "      <th>day-O</th>\n",
       "      <th>DestVerificacion</th>\n",
       "      <th>EmpVer</th>\n",
       "      <th>OPERA-O</th>\n",
       "    </tr>\n",
       "  </thead>\n",
       "  <tbody>\n",
       "    <tr>\n",
       "      <th>39174</th>\n",
       "      <td>2017-08-11 06:14:00</td>\n",
       "      <td>624</td>\n",
       "      <td>SPJC</td>\n",
       "      <td>AVA</td>\n",
       "      <td>2017-08-11 08:14:00</td>\n",
       "      <td>922</td>\n",
       "      <td>SPJC</td>\n",
       "      <td>TPU</td>\n",
       "      <td>Viernes</td>\n",
       "      <td>I</td>\n",
       "      <td>Avianca</td>\n",
       "      <td>Lima</td>\n",
       "      <td>2017</td>\n",
       "      <td>2017</td>\n",
       "      <td>8</td>\n",
       "      <td>8</td>\n",
       "      <td>11</td>\n",
       "      <td>11</td>\n",
       "      <td>True</td>\n",
       "      <td>False</td>\n",
       "      <td>Unknown</td>\n",
       "    </tr>\n",
       "    <tr>\n",
       "      <th>39180</th>\n",
       "      <td>2017-08-17 17:25:00</td>\n",
       "      <td>624</td>\n",
       "      <td>SPJC</td>\n",
       "      <td>AVA</td>\n",
       "      <td>2017-08-17 19:21:00</td>\n",
       "      <td>5924</td>\n",
       "      <td>SPJC</td>\n",
       "      <td>TPU</td>\n",
       "      <td>Jueves</td>\n",
       "      <td>I</td>\n",
       "      <td>Avianca</td>\n",
       "      <td>Lima</td>\n",
       "      <td>2017</td>\n",
       "      <td>2017</td>\n",
       "      <td>8</td>\n",
       "      <td>8</td>\n",
       "      <td>17</td>\n",
       "      <td>17</td>\n",
       "      <td>True</td>\n",
       "      <td>False</td>\n",
       "      <td>Unknown</td>\n",
       "    </tr>\n",
       "  </tbody>\n",
       "</table>\n",
       "</div>"
      ],
      "text/plain": [
       "                  Fecha-I Vlo-I Des-I Emp-I             Fecha-O Vlo-O Des-O  \\\n",
       "39174 2017-08-11 06:14:00   624  SPJC   AVA 2017-08-11 08:14:00   922  SPJC   \n",
       "39180 2017-08-17 17:25:00   624  SPJC   AVA 2017-08-17 19:21:00  5924  SPJC   \n",
       "\n",
       "      Emp-O   DIANOM TIPOVUELO    OPERA SIGLADES  year-I  year-O  month-I  \\\n",
       "39174   TPU  Viernes         I  Avianca     Lima    2017    2017        8   \n",
       "39180   TPU   Jueves         I  Avianca     Lima    2017    2017        8   \n",
       "\n",
       "       month-O  day-I  day-O  DestVerificacion  EmpVer  OPERA-O  \n",
       "39174        8     11     11              True   False  Unknown  \n",
       "39180        8     17     17              True   False  Unknown  "
      ]
     },
     "execution_count": 28,
     "metadata": {},
     "output_type": "execute_result"
    }
   ],
   "source": [
    "data[(data['OPERA-O'] == \"Unknown\") & (data[\"Emp-I\"] == \"AVA\")]"
   ]
  },
  {
   "cell_type": "code",
   "execution_count": 29,
   "metadata": {},
   "outputs": [
    {
     "data": {
      "text/html": [
       "<div>\n",
       "<style scoped>\n",
       "    .dataframe tbody tr th:only-of-type {\n",
       "        vertical-align: middle;\n",
       "    }\n",
       "\n",
       "    .dataframe tbody tr th {\n",
       "        vertical-align: top;\n",
       "    }\n",
       "\n",
       "    .dataframe thead th {\n",
       "        text-align: right;\n",
       "    }\n",
       "</style>\n",
       "<table border=\"1\" class=\"dataframe\">\n",
       "  <thead>\n",
       "    <tr style=\"text-align: right;\">\n",
       "      <th></th>\n",
       "      <th>Fecha-I</th>\n",
       "      <th>Vlo-I</th>\n",
       "      <th>Des-I</th>\n",
       "      <th>Emp-I</th>\n",
       "      <th>Fecha-O</th>\n",
       "      <th>Vlo-O</th>\n",
       "      <th>Des-O</th>\n",
       "      <th>Emp-O</th>\n",
       "      <th>DIANOM</th>\n",
       "      <th>TIPOVUELO</th>\n",
       "      <th>OPERA</th>\n",
       "      <th>SIGLADES</th>\n",
       "      <th>year-I</th>\n",
       "      <th>year-O</th>\n",
       "      <th>month-I</th>\n",
       "      <th>month-O</th>\n",
       "      <th>day-I</th>\n",
       "      <th>day-O</th>\n",
       "      <th>DestVerificacion</th>\n",
       "      <th>EmpVer</th>\n",
       "      <th>OPERA-O</th>\n",
       "    </tr>\n",
       "  </thead>\n",
       "  <tbody>\n",
       "    <tr>\n",
       "      <th>845</th>\n",
       "      <td>2017-01-01 13:35:00</td>\n",
       "      <td>28</td>\n",
       "      <td>YSSY</td>\n",
       "      <td>QFU</td>\n",
       "      <td>2017-01-01 14:56:00</td>\n",
       "      <td>28</td>\n",
       "      <td>YSSY</td>\n",
       "      <td>QFA</td>\n",
       "      <td>Domingo</td>\n",
       "      <td>I</td>\n",
       "      <td>Qantas Airways</td>\n",
       "      <td>Sydney</td>\n",
       "      <td>2017</td>\n",
       "      <td>2017</td>\n",
       "      <td>1</td>\n",
       "      <td>1</td>\n",
       "      <td>1</td>\n",
       "      <td>1</td>\n",
       "      <td>True</td>\n",
       "      <td>False</td>\n",
       "      <td>Unknown</td>\n",
       "    </tr>\n",
       "    <tr>\n",
       "      <th>846</th>\n",
       "      <td>2017-01-03 13:35:00</td>\n",
       "      <td>28</td>\n",
       "      <td>YSSY</td>\n",
       "      <td>QFU</td>\n",
       "      <td>2017-01-03 14:12:00</td>\n",
       "      <td>28</td>\n",
       "      <td>YSSY</td>\n",
       "      <td>QFA</td>\n",
       "      <td>Martes</td>\n",
       "      <td>I</td>\n",
       "      <td>Qantas Airways</td>\n",
       "      <td>Sydney</td>\n",
       "      <td>2017</td>\n",
       "      <td>2017</td>\n",
       "      <td>1</td>\n",
       "      <td>1</td>\n",
       "      <td>3</td>\n",
       "      <td>3</td>\n",
       "      <td>True</td>\n",
       "      <td>False</td>\n",
       "      <td>Unknown</td>\n",
       "    </tr>\n",
       "  </tbody>\n",
       "</table>\n",
       "</div>"
      ],
      "text/plain": [
       "                Fecha-I Vlo-I Des-I Emp-I             Fecha-O Vlo-O Des-O  \\\n",
       "845 2017-01-01 13:35:00    28  YSSY   QFU 2017-01-01 14:56:00    28  YSSY   \n",
       "846 2017-01-03 13:35:00    28  YSSY   QFU 2017-01-03 14:12:00    28  YSSY   \n",
       "\n",
       "    Emp-O   DIANOM TIPOVUELO           OPERA SIGLADES  year-I  year-O  \\\n",
       "845   QFA  Domingo         I  Qantas Airways   Sydney    2017    2017   \n",
       "846   QFA   Martes         I  Qantas Airways   Sydney    2017    2017   \n",
       "\n",
       "     month-I  month-O  day-I  day-O  DestVerificacion  EmpVer  OPERA-O  \n",
       "845        1        1      1      1              True   False  Unknown  \n",
       "846        1        1      3      3              True   False  Unknown  "
      ]
     },
     "execution_count": 29,
     "metadata": {},
     "output_type": "execute_result"
    }
   ],
   "source": [
    "data[(data['OPERA-O'] == \"Unknown\") & (data[\"Emp-I\"] == \"QFU\")].head(2)"
   ]
  },
  {
   "cell_type": "markdown",
   "metadata": {},
   "source": [
    "Existen 3 códigos de aerolíneas que no cuentan con un nombre en particular. Notamos que uno de ellos es __QFA__ que podemos intuir que pertenece a la misma aerolínea que __QFU__ por lo que haremos ese reemplazo. Los otros vuelos de las aerolíneas AVA y LAW, al ser una cantidad muy pequeña los omitiremos"
   ]
  },
  {
   "cell_type": "code",
   "execution_count": 30,
   "metadata": {},
   "outputs": [
    {
     "name": "stderr",
     "output_type": "stream",
     "text": [
      "<ipython-input-30-cae10daab30d>:3: SettingWithCopyWarning: \n",
      "A value is trying to be set on a copy of a slice from a DataFrame.\n",
      "Try using .loc[row_indexer,col_indexer] = value instead\n",
      "\n",
      "See the caveats in the documentation: https://pandas.pydata.org/pandas-docs/stable/user_guide/indexing.html#returning-a-view-versus-a-copy\n",
      "  data2[\"OPERA-O\"] = \"Qantas Airways\"\n"
     ]
    },
    {
     "data": {
      "text/plain": [
       "EmpVer2\n",
       "False      272\n",
       "True     67877\n",
       "dtype: int64"
      ]
     },
     "execution_count": 30,
     "metadata": {},
     "output_type": "execute_result"
    }
   ],
   "source": [
    "data1 = data[data[\"OPERA-O\"] != \"Unknown\"]\n",
    "data2 = data[(data[\"OPERA-O\"] == \"Unknown\") & (data[\"Emp-I\"] == \"QFU\")]\n",
    "data2[\"OPERA-O\"] = \"Qantas Airways\"\n",
    "data = pd.concat([data1 , data2])\n",
    "data[\"EmpVer2\"] = data[\"OPERA\"] == data[\"OPERA-O\"]\n",
    "data.groupby(\"EmpVer2\").size()"
   ]
  },
  {
   "cell_type": "code",
   "execution_count": 31,
   "metadata": {},
   "outputs": [
    {
     "data": {
      "text/plain": [
       "Emp-I\n",
       "ARG      5\n",
       "AUT      2\n",
       "AVA    265\n",
       "dtype: int64"
      ]
     },
     "execution_count": 31,
     "metadata": {},
     "output_type": "execute_result"
    }
   ],
   "source": [
    "data[data.EmpVer2 == False].groupby(\"Emp-I\").size()"
   ]
  },
  {
   "cell_type": "code",
   "execution_count": 32,
   "metadata": {},
   "outputs": [
    {
     "data": {
      "text/html": [
       "<div>\n",
       "<style scoped>\n",
       "    .dataframe tbody tr th:only-of-type {\n",
       "        vertical-align: middle;\n",
       "    }\n",
       "\n",
       "    .dataframe tbody tr th {\n",
       "        vertical-align: top;\n",
       "    }\n",
       "\n",
       "    .dataframe thead th {\n",
       "        text-align: right;\n",
       "    }\n",
       "</style>\n",
       "<table border=\"1\" class=\"dataframe\">\n",
       "  <thead>\n",
       "    <tr style=\"text-align: right;\">\n",
       "      <th></th>\n",
       "      <th>Fecha-I</th>\n",
       "      <th>Vlo-I</th>\n",
       "      <th>Des-I</th>\n",
       "      <th>Emp-I</th>\n",
       "      <th>Fecha-O</th>\n",
       "      <th>Vlo-O</th>\n",
       "      <th>Des-O</th>\n",
       "      <th>Emp-O</th>\n",
       "      <th>DIANOM</th>\n",
       "      <th>TIPOVUELO</th>\n",
       "      <th>OPERA</th>\n",
       "      <th>SIGLADES</th>\n",
       "      <th>year-I</th>\n",
       "      <th>year-O</th>\n",
       "      <th>month-I</th>\n",
       "      <th>month-O</th>\n",
       "      <th>day-I</th>\n",
       "      <th>day-O</th>\n",
       "      <th>DestVerificacion</th>\n",
       "      <th>EmpVer</th>\n",
       "      <th>OPERA-O</th>\n",
       "      <th>EmpVer2</th>\n",
       "    </tr>\n",
       "  </thead>\n",
       "  <tbody>\n",
       "    <tr>\n",
       "      <th>345</th>\n",
       "      <td>2017-01-21 22:30:00</td>\n",
       "      <td>2291</td>\n",
       "      <td>SABE</td>\n",
       "      <td>AUT</td>\n",
       "      <td>2017-01-21 22:28:00</td>\n",
       "      <td>2291</td>\n",
       "      <td>SABE</td>\n",
       "      <td>ARG</td>\n",
       "      <td>Sabado</td>\n",
       "      <td>I</td>\n",
       "      <td>Austral</td>\n",
       "      <td>Buenos Aires</td>\n",
       "      <td>2017</td>\n",
       "      <td>2017</td>\n",
       "      <td>1</td>\n",
       "      <td>1</td>\n",
       "      <td>21</td>\n",
       "      <td>21</td>\n",
       "      <td>True</td>\n",
       "      <td>False</td>\n",
       "      <td>Aerolineas Argentinas</td>\n",
       "      <td>False</td>\n",
       "    </tr>\n",
       "    <tr>\n",
       "      <th>11987</th>\n",
       "      <td>2017-03-04 22:30:00</td>\n",
       "      <td>2291</td>\n",
       "      <td>SABE</td>\n",
       "      <td>ARG</td>\n",
       "      <td>2017-03-04 22:34:00</td>\n",
       "      <td>2291</td>\n",
       "      <td>SABE</td>\n",
       "      <td>AUT</td>\n",
       "      <td>Sabado</td>\n",
       "      <td>I</td>\n",
       "      <td>Aerolineas Argentinas</td>\n",
       "      <td>Buenos Aires</td>\n",
       "      <td>2017</td>\n",
       "      <td>2017</td>\n",
       "      <td>3</td>\n",
       "      <td>3</td>\n",
       "      <td>4</td>\n",
       "      <td>4</td>\n",
       "      <td>True</td>\n",
       "      <td>False</td>\n",
       "      <td>Austral</td>\n",
       "      <td>False</td>\n",
       "    </tr>\n",
       "    <tr>\n",
       "      <th>11988</th>\n",
       "      <td>2017-03-11 22:30:00</td>\n",
       "      <td>2291</td>\n",
       "      <td>SABE</td>\n",
       "      <td>ARG</td>\n",
       "      <td>2017-03-11 22:39:00</td>\n",
       "      <td>2291</td>\n",
       "      <td>SABE</td>\n",
       "      <td>AUT</td>\n",
       "      <td>Sabado</td>\n",
       "      <td>I</td>\n",
       "      <td>Aerolineas Argentinas</td>\n",
       "      <td>Buenos Aires</td>\n",
       "      <td>2017</td>\n",
       "      <td>2017</td>\n",
       "      <td>3</td>\n",
       "      <td>3</td>\n",
       "      <td>11</td>\n",
       "      <td>11</td>\n",
       "      <td>True</td>\n",
       "      <td>False</td>\n",
       "      <td>Austral</td>\n",
       "      <td>False</td>\n",
       "    </tr>\n",
       "    <tr>\n",
       "      <th>11989</th>\n",
       "      <td>2017-03-25 22:30:00</td>\n",
       "      <td>2291</td>\n",
       "      <td>SABE</td>\n",
       "      <td>ARG</td>\n",
       "      <td>2017-03-25 22:39:00</td>\n",
       "      <td>2291</td>\n",
       "      <td>SABE</td>\n",
       "      <td>AUT</td>\n",
       "      <td>Sabado</td>\n",
       "      <td>I</td>\n",
       "      <td>Aerolineas Argentinas</td>\n",
       "      <td>Buenos Aires</td>\n",
       "      <td>2017</td>\n",
       "      <td>2017</td>\n",
       "      <td>3</td>\n",
       "      <td>3</td>\n",
       "      <td>25</td>\n",
       "      <td>25</td>\n",
       "      <td>True</td>\n",
       "      <td>False</td>\n",
       "      <td>Austral</td>\n",
       "      <td>False</td>\n",
       "    </tr>\n",
       "    <tr>\n",
       "      <th>32735</th>\n",
       "      <td>2017-07-22 19:50:00</td>\n",
       "      <td>2297</td>\n",
       "      <td>SABE</td>\n",
       "      <td>AUT</td>\n",
       "      <td>2017-07-22 19:46:00</td>\n",
       "      <td>1297</td>\n",
       "      <td>SABE</td>\n",
       "      <td>ARG</td>\n",
       "      <td>Sabado</td>\n",
       "      <td>I</td>\n",
       "      <td>Austral</td>\n",
       "      <td>Buenos Aires</td>\n",
       "      <td>2017</td>\n",
       "      <td>2017</td>\n",
       "      <td>7</td>\n",
       "      <td>7</td>\n",
       "      <td>22</td>\n",
       "      <td>22</td>\n",
       "      <td>True</td>\n",
       "      <td>False</td>\n",
       "      <td>Aerolineas Argentinas</td>\n",
       "      <td>False</td>\n",
       "    </tr>\n",
       "    <tr>\n",
       "      <th>62152</th>\n",
       "      <td>2017-12-20 19:25:00</td>\n",
       "      <td>2287</td>\n",
       "      <td>SAEZ</td>\n",
       "      <td>ARG</td>\n",
       "      <td>2017-12-20 20:17:00</td>\n",
       "      <td>1287</td>\n",
       "      <td>SAEZ</td>\n",
       "      <td>AUT</td>\n",
       "      <td>Miercoles</td>\n",
       "      <td>I</td>\n",
       "      <td>Aerolineas Argentinas</td>\n",
       "      <td>Buenos Aires</td>\n",
       "      <td>2017</td>\n",
       "      <td>2017</td>\n",
       "      <td>12</td>\n",
       "      <td>12</td>\n",
       "      <td>20</td>\n",
       "      <td>20</td>\n",
       "      <td>True</td>\n",
       "      <td>False</td>\n",
       "      <td>Austral</td>\n",
       "      <td>False</td>\n",
       "    </tr>\n",
       "    <tr>\n",
       "      <th>62153</th>\n",
       "      <td>2017-12-22 19:25:00</td>\n",
       "      <td>2287</td>\n",
       "      <td>SAEZ</td>\n",
       "      <td>ARG</td>\n",
       "      <td>2017-12-22 21:30:00</td>\n",
       "      <td>2287</td>\n",
       "      <td>SAEZ</td>\n",
       "      <td>AUT</td>\n",
       "      <td>Viernes</td>\n",
       "      <td>I</td>\n",
       "      <td>Aerolineas Argentinas</td>\n",
       "      <td>Buenos Aires</td>\n",
       "      <td>2017</td>\n",
       "      <td>2017</td>\n",
       "      <td>12</td>\n",
       "      <td>12</td>\n",
       "      <td>22</td>\n",
       "      <td>22</td>\n",
       "      <td>True</td>\n",
       "      <td>False</td>\n",
       "      <td>Austral</td>\n",
       "      <td>False</td>\n",
       "    </tr>\n",
       "  </tbody>\n",
       "</table>\n",
       "</div>"
      ],
      "text/plain": [
       "                  Fecha-I Vlo-I Des-I Emp-I             Fecha-O Vlo-O Des-O  \\\n",
       "345   2017-01-21 22:30:00  2291  SABE   AUT 2017-01-21 22:28:00  2291  SABE   \n",
       "11987 2017-03-04 22:30:00  2291  SABE   ARG 2017-03-04 22:34:00  2291  SABE   \n",
       "11988 2017-03-11 22:30:00  2291  SABE   ARG 2017-03-11 22:39:00  2291  SABE   \n",
       "11989 2017-03-25 22:30:00  2291  SABE   ARG 2017-03-25 22:39:00  2291  SABE   \n",
       "32735 2017-07-22 19:50:00  2297  SABE   AUT 2017-07-22 19:46:00  1297  SABE   \n",
       "62152 2017-12-20 19:25:00  2287  SAEZ   ARG 2017-12-20 20:17:00  1287  SAEZ   \n",
       "62153 2017-12-22 19:25:00  2287  SAEZ   ARG 2017-12-22 21:30:00  2287  SAEZ   \n",
       "\n",
       "      Emp-O     DIANOM TIPOVUELO                  OPERA      SIGLADES  year-I  \\\n",
       "345     ARG     Sabado         I                Austral  Buenos Aires    2017   \n",
       "11987   AUT     Sabado         I  Aerolineas Argentinas  Buenos Aires    2017   \n",
       "11988   AUT     Sabado         I  Aerolineas Argentinas  Buenos Aires    2017   \n",
       "11989   AUT     Sabado         I  Aerolineas Argentinas  Buenos Aires    2017   \n",
       "32735   ARG     Sabado         I                Austral  Buenos Aires    2017   \n",
       "62152   AUT  Miercoles         I  Aerolineas Argentinas  Buenos Aires    2017   \n",
       "62153   AUT    Viernes         I  Aerolineas Argentinas  Buenos Aires    2017   \n",
       "\n",
       "       year-O  month-I  month-O  day-I  day-O  DestVerificacion  EmpVer  \\\n",
       "345      2017        1        1     21     21              True   False   \n",
       "11987    2017        3        3      4      4              True   False   \n",
       "11988    2017        3        3     11     11              True   False   \n",
       "11989    2017        3        3     25     25              True   False   \n",
       "32735    2017        7        7     22     22              True   False   \n",
       "62152    2017       12       12     20     20              True   False   \n",
       "62153    2017       12       12     22     22              True   False   \n",
       "\n",
       "                     OPERA-O  EmpVer2  \n",
       "345    Aerolineas Argentinas    False  \n",
       "11987                Austral    False  \n",
       "11988                Austral    False  \n",
       "11989                Austral    False  \n",
       "32735  Aerolineas Argentinas    False  \n",
       "62152                Austral    False  \n",
       "62153                Austral    False  "
      ]
     },
     "execution_count": 32,
     "metadata": {},
     "output_type": "execute_result"
    }
   ],
   "source": [
    "data[(data.EmpVer2 == False) & (data[\"Emp-I\"] != \"AVA\")]"
   ]
  },
  {
   "cell_type": "markdown",
   "metadata": {},
   "source": [
    "Realizando un poco de investigación, resulta que el nombre anterior de __AVIANCA__ era __LACSA__. Por otra parte notamos de la tabla superior que __Austral__ y __Aerolíneas Argentinas__ corresponden al mismo grupo. De ésta forma logramos rearmar el conjunto de datos verificando que aerolíneas de operación y programadas son correctas. Limpiamos el dataset eliminando variables que no utilizaremos y luego procedemos con la sección 2."
   ]
  },
  {
   "cell_type": "code",
   "execution_count": 33,
   "metadata": {},
   "outputs": [],
   "source": [
    "data = data.drop([ \"DestVerificacion\" , \"EmpVer\" , \"OPERA-O\" , \"EmpVer2\"] , axis = 1)"
   ]
  },
  {
   "cell_type": "markdown",
   "metadata": {},
   "source": [
    "# Sección 2 : Synthetic Features"
   ]
  },
  {
   "cell_type": "code",
   "execution_count": 34,
   "metadata": {},
   "outputs": [],
   "source": [
    "synthetic_features = pd.DataFrame(columns = ['fecha_I' , 'fecha_O','temporada_alta', 'dif_min', 'atraso_15' , 'periodo_dia'])"
   ]
  },
  {
   "cell_type": "code",
   "execution_count": 35,
   "metadata": {},
   "outputs": [],
   "source": [
    "synthetic_features['fecha_I'] = data['Fecha-I']\n",
    "synthetic_features['fecha_O'] = data['Fecha-O']"
   ]
  },
  {
   "cell_type": "markdown",
   "metadata": {},
   "source": [
    "## Sección 2.1 : Temporada Alta"
   ]
  },
  {
   "cell_type": "code",
   "execution_count": 36,
   "metadata": {},
   "outputs": [],
   "source": [
    "i1 = pd.Timestamp('2017-12-15T235959')\n",
    "i2 = pd.Timestamp('2017-03-03T0000')\n",
    "i3 = pd.Timestamp('2017-07-15T0000')\n",
    "i4 = pd.Timestamp('2017-07-31T235959')\n",
    "i5 = pd.Timestamp('2017-09-11T0000')\n",
    "i6 = pd.Timestamp('2017-09-30T235959')"
   ]
  },
  {
   "cell_type": "code",
   "execution_count": 37,
   "metadata": {},
   "outputs": [],
   "source": [
    "temporada_alta = []\n",
    "for i in data['Fecha-I']:\n",
    "    if (i > i1) | (i < i2) | (i3 <= i <= i4) | (i5 <= i <= i6):\n",
    "        temporada_alta.append(1)\n",
    "    else:\n",
    "        temporada_alta.append(0)\n",
    "synthetic_features['temporada_alta'] = temporada_alta"
   ]
  },
  {
   "cell_type": "markdown",
   "metadata": {},
   "source": [
    "## Sección 2.2 : Diferencia Minutos"
   ]
  },
  {
   "cell_type": "code",
   "execution_count": 38,
   "metadata": {},
   "outputs": [],
   "source": [
    "synthetic_features[\"late\"] = [1 if i.fecha_I <= i.fecha_O else 0 for i in synthetic_features.itertuples()]\n",
    "synthetic_features[\"dif_min\"] = [int(np.round((i.fecha_I - i.fecha_O).seconds / 60 , 0)) if i.late == 0 else int(np.round((i.fecha_O - i.fecha_I).seconds / 60 , 0)) for i in synthetic_features.itertuples()]\n",
    "synthetic_features.drop([\"late\"] , axis = 1 , inplace = True)"
   ]
  },
  {
   "cell_type": "markdown",
   "metadata": {},
   "source": [
    "## Sección 2.3 : Atraso 15"
   ]
  },
  {
   "cell_type": "code",
   "execution_count": 39,
   "metadata": {},
   "outputs": [],
   "source": [
    "synthetic_features[\"atraso_15\"] = [1 if x > 15 else 0 for x in synthetic_features.dif_min]"
   ]
  },
  {
   "cell_type": "markdown",
   "metadata": {},
   "source": [
    "## Sección 2.4 : Período Día"
   ]
  },
  {
   "cell_type": "code",
   "execution_count": 40,
   "metadata": {},
   "outputs": [],
   "source": [
    "periodo_dia = []\n",
    "for i in synthetic_features.itertuples():\n",
    "    if (5 <= i.fecha_I.hour < 12):\n",
    "        periodo_dia.append(\"mañana\")\n",
    "    elif (12 <= i.fecha_I.hour < 19):\n",
    "        periodo_dia.append(\"tarde\")\n",
    "    else:\n",
    "        periodo_dia.append(\"noche\")\n",
    "synthetic_features[\"periodo_dia\"] = periodo_dia"
   ]
  },
  {
   "cell_type": "code",
   "execution_count": 41,
   "metadata": {},
   "outputs": [],
   "source": [
    "synthetic_features.to_csv(\"synthetic_features.csv\")"
   ]
  },
  {
   "cell_type": "code",
   "execution_count": 42,
   "metadata": {},
   "outputs": [],
   "source": [
    "synthetic_features.drop([\"fecha_I\" , \"fecha_O\"] , axis = 1 , inplace = True)"
   ]
  },
  {
   "cell_type": "code",
   "execution_count": 43,
   "metadata": {},
   "outputs": [],
   "source": [
    "data = pd.concat([data , synthetic_features] , axis = 1)"
   ]
  },
  {
   "cell_type": "markdown",
   "metadata": {},
   "source": [
    "# Sección 3 : Tasas de Atrasos"
   ]
  },
  {
   "cell_type": "code",
   "execution_count": 44,
   "metadata": {},
   "outputs": [
    {
     "data": {
      "image/png": "[encoded data removed]",
      "text/plain": [
       "<Figure size 432x288 with 1 Axes>"
      ]
     },
     "metadata": {
      "needs_background": "light"
     },
     "output_type": "display_data"
    }
   ],
   "source": [
    "plt.title(\"Atrasos de Vuelos\")\n",
    "sns.countplot(x='atraso_15' , data=data);\n",
    "plt.xlabel(\"Atrasos\");"
   ]
  },
  {
   "cell_type": "markdown",
   "metadata": {},
   "source": [
    "Podemos notar que claramente hay un significativo desbalanceo de clases, lo cual generará ciertos conflictos al momento de entrenar el modelo. Además utilizar __Accuracy__ no será lo adecuado dado el desbalanceo existente"
   ]
  },
  {
   "cell_type": "code",
   "execution_count": 45,
   "metadata": {},
   "outputs": [],
   "source": [
    "def rates(data , category):\n",
    "    vuelos = pd.crosstab(data[category], data['atraso_15'])\n",
    "    vuelos.columns = [\"no_atrasado\" , \"atrasado\"]\n",
    "    vuelos['total_vuelos'] = vuelos.no_atrasado + vuelos.atrasado\n",
    "    tasas = pd.crosstab(data[category], data['atraso_15']).apply(lambda r: (r/r.sum()).round(2), axis=1)\n",
    "    tasas.columns = [\"rate_no_atrasado\" , f\"rate_atrasado_{category}\"]\n",
    "    df = pd.concat([vuelos , tasas] , axis = 1)\n",
    "    return df"
   ]
  },
  {
   "cell_type": "markdown",
   "metadata": {},
   "source": [
    "## Sección 3.1 : Destino"
   ]
  },
  {
   "cell_type": "code",
   "execution_count": 46,
   "metadata": {},
   "outputs": [],
   "source": [
    "dest_rates = rates(data , 'SIGLADES')"
   ]
  },
  {
   "cell_type": "code",
   "execution_count": 47,
   "metadata": {},
   "outputs": [],
   "source": [
    "dest_rates = dest_rates.sort_values(by = \"rate_atrasado_SIGLADES\" , ascending = False)[:15]"
   ]
  },
  {
   "cell_type": "code",
   "execution_count": 48,
   "metadata": {},
   "outputs": [
    {
     "data": {
      "image/png": "[encoded data removed]",
      "text/plain": [
       "<Figure size 1440x576 with 2 Axes>"
      ]
     },
     "metadata": {
      "needs_background": "light"
     },
     "output_type": "display_data"
    }
   ],
   "source": [
    "plt.figure(figsize = (20,8))\n",
    "plt.title(\"15 Destinos con Mayor Tasa de Atraso y Número de Vuelos\")\n",
    "sns.barplot(x = dest_rates.index, y = \"rate_atrasado_SIGLADES\" , data = dest_rates)\n",
    "dest_rates['total_vuelos'].plot(secondary_y=True)\n",
    "plt.legend(loc=\"upper center\");"
   ]
  },
  {
   "cell_type": "code",
   "execution_count": 49,
   "metadata": {},
   "outputs": [
    {
     "data": {
      "text/html": [
       "<div>\n",
       "<style scoped>\n",
       "    .dataframe tbody tr th:only-of-type {\n",
       "        vertical-align: middle;\n",
       "    }\n",
       "\n",
       "    .dataframe tbody tr th {\n",
       "        vertical-align: top;\n",
       "    }\n",
       "\n",
       "    .dataframe thead th {\n",
       "        text-align: right;\n",
       "    }\n",
       "</style>\n",
       "<table border=\"1\" class=\"dataframe\">\n",
       "  <thead>\n",
       "    <tr style=\"text-align: right;\">\n",
       "      <th></th>\n",
       "      <th>no_atrasado</th>\n",
       "      <th>atrasado</th>\n",
       "      <th>total_vuelos</th>\n",
       "      <th>rate_no_atrasado</th>\n",
       "      <th>rate_atrasado_SIGLADES</th>\n",
       "    </tr>\n",
       "    <tr>\n",
       "      <th>SIGLADES</th>\n",
       "      <th></th>\n",
       "      <th></th>\n",
       "      <th></th>\n",
       "      <th></th>\n",
       "      <th></th>\n",
       "    </tr>\n",
       "  </thead>\n",
       "  <tbody>\n",
       "    <tr>\n",
       "      <th>Cochabamba</th>\n",
       "      <td>0</td>\n",
       "      <td>1</td>\n",
       "      <td>1</td>\n",
       "      <td>0.00</td>\n",
       "      <td>1.00</td>\n",
       "    </tr>\n",
       "    <tr>\n",
       "      <th>Puerto Stanley</th>\n",
       "      <td>0</td>\n",
       "      <td>1</td>\n",
       "      <td>1</td>\n",
       "      <td>0.00</td>\n",
       "      <td>1.00</td>\n",
       "    </tr>\n",
       "    <tr>\n",
       "      <th>Quito</th>\n",
       "      <td>0</td>\n",
       "      <td>1</td>\n",
       "      <td>1</td>\n",
       "      <td>0.00</td>\n",
       "      <td>1.00</td>\n",
       "    </tr>\n",
       "    <tr>\n",
       "      <th>Ushuia</th>\n",
       "      <td>2</td>\n",
       "      <td>4</td>\n",
       "      <td>6</td>\n",
       "      <td>0.33</td>\n",
       "      <td>0.67</td>\n",
       "    </tr>\n",
       "    <tr>\n",
       "      <th>Sydney</th>\n",
       "      <td>81</td>\n",
       "      <td>113</td>\n",
       "      <td>194</td>\n",
       "      <td>0.42</td>\n",
       "      <td>0.58</td>\n",
       "    </tr>\n",
       "    <tr>\n",
       "      <th>Melbourne</th>\n",
       "      <td>17</td>\n",
       "      <td>21</td>\n",
       "      <td>38</td>\n",
       "      <td>0.45</td>\n",
       "      <td>0.55</td>\n",
       "    </tr>\n",
       "    <tr>\n",
       "      <th>Bariloche</th>\n",
       "      <td>1</td>\n",
       "      <td>1</td>\n",
       "      <td>2</td>\n",
       "      <td>0.50</td>\n",
       "      <td>0.50</td>\n",
       "    </tr>\n",
       "    <tr>\n",
       "      <th>Rosario</th>\n",
       "      <td>82</td>\n",
       "      <td>54</td>\n",
       "      <td>136</td>\n",
       "      <td>0.60</td>\n",
       "      <td>0.40</td>\n",
       "    </tr>\n",
       "    <tr>\n",
       "      <th>Auckland N.Z.</th>\n",
       "      <td>226</td>\n",
       "      <td>135</td>\n",
       "      <td>361</td>\n",
       "      <td>0.63</td>\n",
       "      <td>0.37</td>\n",
       "    </tr>\n",
       "    <tr>\n",
       "      <th>Punta Cana</th>\n",
       "      <td>36</td>\n",
       "      <td>18</td>\n",
       "      <td>54</td>\n",
       "      <td>0.67</td>\n",
       "      <td>0.33</td>\n",
       "    </tr>\n",
       "  </tbody>\n",
       "</table>\n",
       "</div>"
      ],
      "text/plain": [
       "                no_atrasado  atrasado  total_vuelos  rate_no_atrasado  \\\n",
       "SIGLADES                                                                \n",
       "Cochabamba                0         1             1              0.00   \n",
       "Puerto Stanley            0         1             1              0.00   \n",
       "Quito                     0         1             1              0.00   \n",
       "Ushuia                    2         4             6              0.33   \n",
       "Sydney                   81       113           194              0.42   \n",
       "Melbourne                17        21            38              0.45   \n",
       "Bariloche                 1         1             2              0.50   \n",
       "Rosario                  82        54           136              0.60   \n",
       "Auckland N.Z.           226       135           361              0.63   \n",
       "Punta Cana               36        18            54              0.67   \n",
       "\n",
       "                rate_atrasado_SIGLADES  \n",
       "SIGLADES                                \n",
       "Cochabamba                        1.00  \n",
       "Puerto Stanley                    1.00  \n",
       "Quito                             1.00  \n",
       "Ushuia                            0.67  \n",
       "Sydney                            0.58  \n",
       "Melbourne                         0.55  \n",
       "Bariloche                         0.50  \n",
       "Rosario                           0.40  \n",
       "Auckland N.Z.                     0.37  \n",
       "Punta Cana                        0.33  "
      ]
     },
     "execution_count": 49,
     "metadata": {},
     "output_type": "execute_result"
    }
   ],
   "source": [
    "dest_rates.head(10)"
   ]
  },
  {
   "cell_type": "markdown",
   "metadata": {},
   "source": [
    "La figura anterior indica los 15 destinos con mayor tasa de atrasos. Los rectángulos representan la tasa y la línea la cantidad de vuelos de dicho destino. Resulta importante notar que __Cochabamba, Puerto Stanley y Quito__ son destinos con un __100%__ de tasas de atrasos. Sin embargo, ésto puede llevar a conclusiones erradas ya que estos destinos solo cuentan con __un__ solo viaje, por lo que no podemos extraer conclusiones con una única cantidad. Distinto es el panorama con destinos como __Sydney , Melbourne, Rosario y Auckland__ en los cuales hay una cantidad considerable de viajes."
   ]
  },
  {
   "cell_type": "code",
   "execution_count": 50,
   "metadata": {},
   "outputs": [],
   "source": [
    "dest_rates = rates(data , 'SIGLADES')"
   ]
  },
  {
   "cell_type": "markdown",
   "metadata": {},
   "source": [
    "## Sección 3.2 : Aerolínea"
   ]
  },
  {
   "cell_type": "code",
   "execution_count": 51,
   "metadata": {},
   "outputs": [],
   "source": [
    "aero_rates = rates(data , 'OPERA')"
   ]
  },
  {
   "cell_type": "code",
   "execution_count": 52,
   "metadata": {},
   "outputs": [
    {
     "data": {
      "text/html": [
       "<div>\n",
       "<style scoped>\n",
       "    .dataframe tbody tr th:only-of-type {\n",
       "        vertical-align: middle;\n",
       "    }\n",
       "\n",
       "    .dataframe tbody tr th {\n",
       "        vertical-align: top;\n",
       "    }\n",
       "\n",
       "    .dataframe thead th {\n",
       "        text-align: right;\n",
       "    }\n",
       "</style>\n",
       "<table border=\"1\" class=\"dataframe\">\n",
       "  <thead>\n",
       "    <tr style=\"text-align: right;\">\n",
       "      <th></th>\n",
       "      <th>no_atrasado</th>\n",
       "      <th>atrasado</th>\n",
       "      <th>total_vuelos</th>\n",
       "      <th>rate_no_atrasado</th>\n",
       "      <th>rate_atrasado_OPERA</th>\n",
       "    </tr>\n",
       "    <tr>\n",
       "      <th>OPERA</th>\n",
       "      <th></th>\n",
       "      <th></th>\n",
       "      <th></th>\n",
       "      <th></th>\n",
       "      <th></th>\n",
       "    </tr>\n",
       "  </thead>\n",
       "  <tbody>\n",
       "    <tr>\n",
       "      <th>Plus Ultra Lineas Aereas</th>\n",
       "      <td>19</td>\n",
       "      <td>30</td>\n",
       "      <td>49</td>\n",
       "      <td>0.39</td>\n",
       "      <td>0.61</td>\n",
       "    </tr>\n",
       "    <tr>\n",
       "      <th>Qantas Airways</th>\n",
       "      <td>81</td>\n",
       "      <td>113</td>\n",
       "      <td>194</td>\n",
       "      <td>0.42</td>\n",
       "      <td>0.58</td>\n",
       "    </tr>\n",
       "    <tr>\n",
       "      <th>Air Canada</th>\n",
       "      <td>307</td>\n",
       "      <td>258</td>\n",
       "      <td>565</td>\n",
       "      <td>0.54</td>\n",
       "      <td>0.46</td>\n",
       "    </tr>\n",
       "    <tr>\n",
       "      <th>Latin American Wings</th>\n",
       "      <td>979</td>\n",
       "      <td>667</td>\n",
       "      <td>1646</td>\n",
       "      <td>0.59</td>\n",
       "      <td>0.41</td>\n",
       "    </tr>\n",
       "    <tr>\n",
       "      <th>Gol Trans</th>\n",
       "      <td>518</td>\n",
       "      <td>287</td>\n",
       "      <td>805</td>\n",
       "      <td>0.64</td>\n",
       "      <td>0.36</td>\n",
       "    </tr>\n",
       "  </tbody>\n",
       "</table>\n",
       "</div>"
      ],
      "text/plain": [
       "                          no_atrasado  atrasado  total_vuelos  \\\n",
       "OPERA                                                           \n",
       "Plus Ultra Lineas Aereas           19        30            49   \n",
       "Qantas Airways                     81       113           194   \n",
       "Air Canada                        307       258           565   \n",
       "Latin American Wings              979       667          1646   \n",
       "Gol Trans                         518       287           805   \n",
       "\n",
       "                          rate_no_atrasado  rate_atrasado_OPERA  \n",
       "OPERA                                                            \n",
       "Plus Ultra Lineas Aereas              0.39                 0.61  \n",
       "Qantas Airways                        0.42                 0.58  \n",
       "Air Canada                            0.54                 0.46  \n",
       "Latin American Wings                  0.59                 0.41  \n",
       "Gol Trans                             0.64                 0.36  "
      ]
     },
     "execution_count": 52,
     "metadata": {},
     "output_type": "execute_result"
    }
   ],
   "source": [
    "aero_rates.sort_values(by = \"rate_atrasado_OPERA\" , ascending = False).head(5)"
   ]
  },
  {
   "cell_type": "code",
   "execution_count": 53,
   "metadata": {},
   "outputs": [
    {
     "data": {
      "text/html": [
       "<div>\n",
       "<style scoped>\n",
       "    .dataframe tbody tr th:only-of-type {\n",
       "        vertical-align: middle;\n",
       "    }\n",
       "\n",
       "    .dataframe tbody tr th {\n",
       "        vertical-align: top;\n",
       "    }\n",
       "\n",
       "    .dataframe thead th {\n",
       "        text-align: right;\n",
       "    }\n",
       "</style>\n",
       "<table border=\"1\" class=\"dataframe\">\n",
       "  <thead>\n",
       "    <tr style=\"text-align: right;\">\n",
       "      <th></th>\n",
       "      <th>no_atrasado</th>\n",
       "      <th>atrasado</th>\n",
       "      <th>total_vuelos</th>\n",
       "      <th>rate_no_atrasado</th>\n",
       "      <th>rate_atrasado_OPERA</th>\n",
       "    </tr>\n",
       "    <tr>\n",
       "      <th>OPERA</th>\n",
       "      <th></th>\n",
       "      <th></th>\n",
       "      <th></th>\n",
       "      <th></th>\n",
       "      <th></th>\n",
       "    </tr>\n",
       "  </thead>\n",
       "  <tbody>\n",
       "    <tr>\n",
       "      <th>American Airlines</th>\n",
       "      <td>706</td>\n",
       "      <td>51</td>\n",
       "      <td>757</td>\n",
       "      <td>0.93</td>\n",
       "      <td>0.07</td>\n",
       "    </tr>\n",
       "    <tr>\n",
       "      <th>Copa Air</th>\n",
       "      <td>1734</td>\n",
       "      <td>116</td>\n",
       "      <td>1850</td>\n",
       "      <td>0.94</td>\n",
       "      <td>0.06</td>\n",
       "    </tr>\n",
       "    <tr>\n",
       "      <th>Delta Air</th>\n",
       "      <td>337</td>\n",
       "      <td>21</td>\n",
       "      <td>358</td>\n",
       "      <td>0.94</td>\n",
       "      <td>0.06</td>\n",
       "    </tr>\n",
       "    <tr>\n",
       "      <th>United Airlines</th>\n",
       "      <td>317</td>\n",
       "      <td>17</td>\n",
       "      <td>334</td>\n",
       "      <td>0.95</td>\n",
       "      <td>0.05</td>\n",
       "    </tr>\n",
       "    <tr>\n",
       "      <th>Aeromexico</th>\n",
       "      <td>341</td>\n",
       "      <td>10</td>\n",
       "      <td>351</td>\n",
       "      <td>0.97</td>\n",
       "      <td>0.03</td>\n",
       "    </tr>\n",
       "  </tbody>\n",
       "</table>\n",
       "</div>"
      ],
      "text/plain": [
       "                   no_atrasado  atrasado  total_vuelos  rate_no_atrasado  \\\n",
       "OPERA                                                                      \n",
       "American Airlines          706        51           757              0.93   \n",
       "Copa Air                  1734       116          1850              0.94   \n",
       "Delta Air                  337        21           358              0.94   \n",
       "United Airlines            317        17           334              0.95   \n",
       "Aeromexico                 341        10           351              0.97   \n",
       "\n",
       "                   rate_atrasado_OPERA  \n",
       "OPERA                                   \n",
       "American Airlines                 0.07  \n",
       "Copa Air                          0.06  \n",
       "Delta Air                         0.06  \n",
       "United Airlines                   0.05  \n",
       "Aeromexico                        0.03  "
      ]
     },
     "execution_count": 53,
     "metadata": {},
     "output_type": "execute_result"
    }
   ],
   "source": [
    "aero_rates.sort_values(by = \"rate_atrasado_OPERA\" , ascending = False).tail(5)"
   ]
  },
  {
   "cell_type": "markdown",
   "metadata": {},
   "source": [
    "En cuanto a las Aerolíneas, __Plus Ultra Lineas Aeresas y Qantas Airways__ presentan más de un 58% de atrasos en sus vuelos, siendo las aerolíneas con peor rendimiento. En contraste, __United Airlines y Aeromexico__ las mejores con menos de un 5% de atrasos."
   ]
  },
  {
   "cell_type": "markdown",
   "metadata": {},
   "source": [
    "## Sección 3.3 : Mes"
   ]
  },
  {
   "cell_type": "code",
   "execution_count": 54,
   "metadata": {},
   "outputs": [],
   "source": [
    "mes_rates = rates(data , 'month-O')"
   ]
  },
  {
   "cell_type": "code",
   "execution_count": 55,
   "metadata": {},
   "outputs": [
    {
     "data": {
      "text/html": [
       "<div>\n",
       "<style scoped>\n",
       "    .dataframe tbody tr th:only-of-type {\n",
       "        vertical-align: middle;\n",
       "    }\n",
       "\n",
       "    .dataframe tbody tr th {\n",
       "        vertical-align: top;\n",
       "    }\n",
       "\n",
       "    .dataframe thead th {\n",
       "        text-align: right;\n",
       "    }\n",
       "</style>\n",
       "<table border=\"1\" class=\"dataframe\">\n",
       "  <thead>\n",
       "    <tr style=\"text-align: right;\">\n",
       "      <th></th>\n",
       "      <th>no_atrasado</th>\n",
       "      <th>atrasado</th>\n",
       "      <th>total_vuelos</th>\n",
       "      <th>rate_no_atrasado</th>\n",
       "      <th>rate_atrasado_month-O</th>\n",
       "    </tr>\n",
       "    <tr>\n",
       "      <th>month-O</th>\n",
       "      <th></th>\n",
       "      <th></th>\n",
       "      <th></th>\n",
       "      <th></th>\n",
       "      <th></th>\n",
       "    </tr>\n",
       "  </thead>\n",
       "  <tbody>\n",
       "    <tr>\n",
       "      <th>1</th>\n",
       "      <td>5116</td>\n",
       "      <td>964</td>\n",
       "      <td>6080</td>\n",
       "      <td>0.84</td>\n",
       "      <td>0.16</td>\n",
       "    </tr>\n",
       "    <tr>\n",
       "      <th>2</th>\n",
       "      <td>4716</td>\n",
       "      <td>842</td>\n",
       "      <td>5558</td>\n",
       "      <td>0.85</td>\n",
       "      <td>0.15</td>\n",
       "    </tr>\n",
       "    <tr>\n",
       "      <th>3</th>\n",
       "      <td>4848</td>\n",
       "      <td>630</td>\n",
       "      <td>5478</td>\n",
       "      <td>0.88</td>\n",
       "      <td>0.12</td>\n",
       "    </tr>\n",
       "    <tr>\n",
       "      <th>4</th>\n",
       "      <td>4433</td>\n",
       "      <td>585</td>\n",
       "      <td>5018</td>\n",
       "      <td>0.88</td>\n",
       "      <td>0.12</td>\n",
       "    </tr>\n",
       "    <tr>\n",
       "      <th>5</th>\n",
       "      <td>4409</td>\n",
       "      <td>827</td>\n",
       "      <td>5236</td>\n",
       "      <td>0.84</td>\n",
       "      <td>0.16</td>\n",
       "    </tr>\n",
       "    <tr>\n",
       "      <th>6</th>\n",
       "      <td>4129</td>\n",
       "      <td>852</td>\n",
       "      <td>4981</td>\n",
       "      <td>0.83</td>\n",
       "      <td>0.17</td>\n",
       "    </tr>\n",
       "    <tr>\n",
       "      <th>7</th>\n",
       "      <td>4232</td>\n",
       "      <td>1755</td>\n",
       "      <td>5987</td>\n",
       "      <td>0.71</td>\n",
       "      <td>0.29</td>\n",
       "    </tr>\n",
       "    <tr>\n",
       "      <th>8</th>\n",
       "      <td>4746</td>\n",
       "      <td>994</td>\n",
       "      <td>5740</td>\n",
       "      <td>0.83</td>\n",
       "      <td>0.17</td>\n",
       "    </tr>\n",
       "    <tr>\n",
       "      <th>9</th>\n",
       "      <td>4643</td>\n",
       "      <td>967</td>\n",
       "      <td>5610</td>\n",
       "      <td>0.83</td>\n",
       "      <td>0.17</td>\n",
       "    </tr>\n",
       "    <tr>\n",
       "      <th>10</th>\n",
       "      <td>4669</td>\n",
       "      <td>1362</td>\n",
       "      <td>6031</td>\n",
       "      <td>0.77</td>\n",
       "      <td>0.23</td>\n",
       "    </tr>\n",
       "    <tr>\n",
       "      <th>11</th>\n",
       "      <td>4881</td>\n",
       "      <td>1198</td>\n",
       "      <td>6079</td>\n",
       "      <td>0.80</td>\n",
       "      <td>0.20</td>\n",
       "    </tr>\n",
       "    <tr>\n",
       "      <th>12</th>\n",
       "      <td>4736</td>\n",
       "      <td>1615</td>\n",
       "      <td>6351</td>\n",
       "      <td>0.75</td>\n",
       "      <td>0.25</td>\n",
       "    </tr>\n",
       "  </tbody>\n",
       "</table>\n",
       "</div>"
      ],
      "text/plain": [
       "         no_atrasado  atrasado  total_vuelos  rate_no_atrasado  \\\n",
       "month-O                                                          \n",
       "1               5116       964          6080              0.84   \n",
       "2               4716       842          5558              0.85   \n",
       "3               4848       630          5478              0.88   \n",
       "4               4433       585          5018              0.88   \n",
       "5               4409       827          5236              0.84   \n",
       "6               4129       852          4981              0.83   \n",
       "7               4232      1755          5987              0.71   \n",
       "8               4746       994          5740              0.83   \n",
       "9               4643       967          5610              0.83   \n",
       "10              4669      1362          6031              0.77   \n",
       "11              4881      1198          6079              0.80   \n",
       "12              4736      1615          6351              0.75   \n",
       "\n",
       "         rate_atrasado_month-O  \n",
       "month-O                         \n",
       "1                         0.16  \n",
       "2                         0.15  \n",
       "3                         0.12  \n",
       "4                         0.12  \n",
       "5                         0.16  \n",
       "6                         0.17  \n",
       "7                         0.29  \n",
       "8                         0.17  \n",
       "9                         0.17  \n",
       "10                        0.23  \n",
       "11                        0.20  \n",
       "12                        0.25  "
      ]
     },
     "execution_count": 55,
     "metadata": {},
     "output_type": "execute_result"
    }
   ],
   "source": [
    "mes_rates"
   ]
  },
  {
   "cell_type": "markdown",
   "metadata": {},
   "source": [
    "En cuanto a la tasa de atraso mensual, las variaciones son menos notorias siendo la más alta en __Julio__ con un __29%__ y la más baja en __Marzo y Abril__ con __12%__."
   ]
  },
  {
   "cell_type": "markdown",
   "metadata": {},
   "source": [
    "## Sección 3.4 : Día"
   ]
  },
  {
   "cell_type": "code",
   "execution_count": 56,
   "metadata": {},
   "outputs": [],
   "source": [
    "day_rates = rates(data , 'DIANOM')"
   ]
  },
  {
   "cell_type": "code",
   "execution_count": 57,
   "metadata": {},
   "outputs": [
    {
     "data": {
      "text/html": [
       "<div>\n",
       "<style scoped>\n",
       "    .dataframe tbody tr th:only-of-type {\n",
       "        vertical-align: middle;\n",
       "    }\n",
       "\n",
       "    .dataframe tbody tr th {\n",
       "        vertical-align: top;\n",
       "    }\n",
       "\n",
       "    .dataframe thead th {\n",
       "        text-align: right;\n",
       "    }\n",
       "</style>\n",
       "<table border=\"1\" class=\"dataframe\">\n",
       "  <thead>\n",
       "    <tr style=\"text-align: right;\">\n",
       "      <th></th>\n",
       "      <th>no_atrasado</th>\n",
       "      <th>atrasado</th>\n",
       "      <th>total_vuelos</th>\n",
       "      <th>rate_no_atrasado</th>\n",
       "      <th>rate_atrasado_DIANOM</th>\n",
       "    </tr>\n",
       "    <tr>\n",
       "      <th>DIANOM</th>\n",
       "      <th></th>\n",
       "      <th></th>\n",
       "      <th></th>\n",
       "      <th></th>\n",
       "      <th></th>\n",
       "    </tr>\n",
       "  </thead>\n",
       "  <tbody>\n",
       "    <tr>\n",
       "      <th>Domingo</th>\n",
       "      <td>8214</td>\n",
       "      <td>1576</td>\n",
       "      <td>9790</td>\n",
       "      <td>0.84</td>\n",
       "      <td>0.16</td>\n",
       "    </tr>\n",
       "    <tr>\n",
       "      <th>Jueves</th>\n",
       "      <td>8202</td>\n",
       "      <td>2043</td>\n",
       "      <td>10245</td>\n",
       "      <td>0.80</td>\n",
       "      <td>0.20</td>\n",
       "    </tr>\n",
       "    <tr>\n",
       "      <th>Lunes</th>\n",
       "      <td>8078</td>\n",
       "      <td>2043</td>\n",
       "      <td>10121</td>\n",
       "      <td>0.80</td>\n",
       "      <td>0.20</td>\n",
       "    </tr>\n",
       "    <tr>\n",
       "      <th>Martes</th>\n",
       "      <td>8025</td>\n",
       "      <td>1627</td>\n",
       "      <td>9652</td>\n",
       "      <td>0.83</td>\n",
       "      <td>0.17</td>\n",
       "    </tr>\n",
       "    <tr>\n",
       "      <th>Miercoles</th>\n",
       "      <td>8054</td>\n",
       "      <td>1658</td>\n",
       "      <td>9712</td>\n",
       "      <td>0.83</td>\n",
       "      <td>0.17</td>\n",
       "    </tr>\n",
       "    <tr>\n",
       "      <th>Sabado</th>\n",
       "      <td>6984</td>\n",
       "      <td>1363</td>\n",
       "      <td>8347</td>\n",
       "      <td>0.84</td>\n",
       "      <td>0.16</td>\n",
       "    </tr>\n",
       "    <tr>\n",
       "      <th>Viernes</th>\n",
       "      <td>8001</td>\n",
       "      <td>2281</td>\n",
       "      <td>10282</td>\n",
       "      <td>0.78</td>\n",
       "      <td>0.22</td>\n",
       "    </tr>\n",
       "  </tbody>\n",
       "</table>\n",
       "</div>"
      ],
      "text/plain": [
       "           no_atrasado  atrasado  total_vuelos  rate_no_atrasado  \\\n",
       "DIANOM                                                             \n",
       "Domingo           8214      1576          9790              0.84   \n",
       "Jueves            8202      2043         10245              0.80   \n",
       "Lunes             8078      2043         10121              0.80   \n",
       "Martes            8025      1627          9652              0.83   \n",
       "Miercoles         8054      1658          9712              0.83   \n",
       "Sabado            6984      1363          8347              0.84   \n",
       "Viernes           8001      2281         10282              0.78   \n",
       "\n",
       "           rate_atrasado_DIANOM  \n",
       "DIANOM                           \n",
       "Domingo                    0.16  \n",
       "Jueves                     0.20  \n",
       "Lunes                      0.20  \n",
       "Martes                     0.17  \n",
       "Miercoles                  0.17  \n",
       "Sabado                     0.16  \n",
       "Viernes                    0.22  "
      ]
     },
     "execution_count": 57,
     "metadata": {},
     "output_type": "execute_result"
    }
   ],
   "source": [
    "day_rates"
   ]
  },
  {
   "cell_type": "markdown",
   "metadata": {},
   "source": [
    "La tasa de atrasos diaria presenta incluso aun menos variabilidad oscilando entre un 16 a 22%."
   ]
  },
  {
   "cell_type": "markdown",
   "metadata": {},
   "source": [
    "## Sección 3.5 : Temporada"
   ]
  },
  {
   "cell_type": "code",
   "execution_count": 58,
   "metadata": {},
   "outputs": [],
   "source": [
    "temp_rates = rates(data , 'temporada_alta')"
   ]
  },
  {
   "cell_type": "code",
   "execution_count": 59,
   "metadata": {},
   "outputs": [
    {
     "data": {
      "text/html": [
       "<div>\n",
       "<style scoped>\n",
       "    .dataframe tbody tr th:only-of-type {\n",
       "        vertical-align: middle;\n",
       "    }\n",
       "\n",
       "    .dataframe tbody tr th {\n",
       "        vertical-align: top;\n",
       "    }\n",
       "\n",
       "    .dataframe thead th {\n",
       "        text-align: right;\n",
       "    }\n",
       "</style>\n",
       "<table border=\"1\" class=\"dataframe\">\n",
       "  <thead>\n",
       "    <tr style=\"text-align: right;\">\n",
       "      <th></th>\n",
       "      <th>no_atrasado</th>\n",
       "      <th>atrasado</th>\n",
       "      <th>total_vuelos</th>\n",
       "      <th>rate_no_atrasado</th>\n",
       "      <th>rate_atrasado_temporada_alta</th>\n",
       "    </tr>\n",
       "    <tr>\n",
       "      <th>temporada_alta</th>\n",
       "      <th></th>\n",
       "      <th></th>\n",
       "      <th></th>\n",
       "      <th></th>\n",
       "      <th></th>\n",
       "    </tr>\n",
       "  </thead>\n",
       "  <tbody>\n",
       "    <tr>\n",
       "      <th>0</th>\n",
       "      <td>37590</td>\n",
       "      <td>8239</td>\n",
       "      <td>45829</td>\n",
       "      <td>0.82</td>\n",
       "      <td>0.18</td>\n",
       "    </tr>\n",
       "    <tr>\n",
       "      <th>1</th>\n",
       "      <td>17968</td>\n",
       "      <td>4352</td>\n",
       "      <td>22320</td>\n",
       "      <td>0.81</td>\n",
       "      <td>0.19</td>\n",
       "    </tr>\n",
       "  </tbody>\n",
       "</table>\n",
       "</div>"
      ],
      "text/plain": [
       "                no_atrasado  atrasado  total_vuelos  rate_no_atrasado  \\\n",
       "temporada_alta                                                          \n",
       "0                     37590      8239         45829              0.82   \n",
       "1                     17968      4352         22320              0.81   \n",
       "\n",
       "                rate_atrasado_temporada_alta  \n",
       "temporada_alta                                \n",
       "0                                       0.18  \n",
       "1                                       0.19  "
      ]
     },
     "execution_count": 59,
     "metadata": {},
     "output_type": "execute_result"
    }
   ],
   "source": [
    "temp_rates"
   ]
  },
  {
   "cell_type": "markdown",
   "metadata": {},
   "source": [
    "No hay ninguna diferencia en la tasa de atrasos a nivel de temporadas."
   ]
  },
  {
   "cell_type": "markdown",
   "metadata": {},
   "source": [
    "## Sección 3.6 : Tipo de Vuelo"
   ]
  },
  {
   "cell_type": "code",
   "execution_count": 60,
   "metadata": {},
   "outputs": [],
   "source": [
    "tipo_rates = rates(data , 'TIPOVUELO')"
   ]
  },
  {
   "cell_type": "code",
   "execution_count": 61,
   "metadata": {},
   "outputs": [
    {
     "data": {
      "text/html": [
       "<div>\n",
       "<style scoped>\n",
       "    .dataframe tbody tr th:only-of-type {\n",
       "        vertical-align: middle;\n",
       "    }\n",
       "\n",
       "    .dataframe tbody tr th {\n",
       "        vertical-align: top;\n",
       "    }\n",
       "\n",
       "    .dataframe thead th {\n",
       "        text-align: right;\n",
       "    }\n",
       "</style>\n",
       "<table border=\"1\" class=\"dataframe\">\n",
       "  <thead>\n",
       "    <tr style=\"text-align: right;\">\n",
       "      <th></th>\n",
       "      <th>no_atrasado</th>\n",
       "      <th>atrasado</th>\n",
       "      <th>total_vuelos</th>\n",
       "      <th>rate_no_atrasado</th>\n",
       "      <th>rate_atrasado_TIPOVUELO</th>\n",
       "    </tr>\n",
       "    <tr>\n",
       "      <th>TIPOVUELO</th>\n",
       "      <th></th>\n",
       "      <th></th>\n",
       "      <th></th>\n",
       "      <th></th>\n",
       "      <th></th>\n",
       "    </tr>\n",
       "  </thead>\n",
       "  <tbody>\n",
       "    <tr>\n",
       "      <th>I</th>\n",
       "      <td>24169</td>\n",
       "      <td>7028</td>\n",
       "      <td>31197</td>\n",
       "      <td>0.77</td>\n",
       "      <td>0.23</td>\n",
       "    </tr>\n",
       "    <tr>\n",
       "      <th>N</th>\n",
       "      <td>31389</td>\n",
       "      <td>5563</td>\n",
       "      <td>36952</td>\n",
       "      <td>0.85</td>\n",
       "      <td>0.15</td>\n",
       "    </tr>\n",
       "  </tbody>\n",
       "</table>\n",
       "</div>"
      ],
      "text/plain": [
       "           no_atrasado  atrasado  total_vuelos  rate_no_atrasado  \\\n",
       "TIPOVUELO                                                          \n",
       "I                24169      7028         31197              0.77   \n",
       "N                31389      5563         36952              0.85   \n",
       "\n",
       "           rate_atrasado_TIPOVUELO  \n",
       "TIPOVUELO                           \n",
       "I                             0.23  \n",
       "N                             0.15  "
      ]
     },
     "execution_count": 61,
     "metadata": {},
     "output_type": "execute_result"
    }
   ],
   "source": [
    "tipo_rates"
   ]
  },
  {
   "cell_type": "markdown",
   "metadata": {},
   "source": [
    "Finalmente y como era de esperar, los vuelos internacionales presentan un __10%__ más de atrasos que los vuelos nacionales."
   ]
  },
  {
   "cell_type": "markdown",
   "metadata": {},
   "source": [
    "## Sección 3.7 : Período Día"
   ]
  },
  {
   "cell_type": "code",
   "execution_count": 62,
   "metadata": {},
   "outputs": [
    {
     "data": {
      "text/html": [
       "<div>\n",
       "<style scoped>\n",
       "    .dataframe tbody tr th:only-of-type {\n",
       "        vertical-align: middle;\n",
       "    }\n",
       "\n",
       "    .dataframe tbody tr th {\n",
       "        vertical-align: top;\n",
       "    }\n",
       "\n",
       "    .dataframe thead th {\n",
       "        text-align: right;\n",
       "    }\n",
       "</style>\n",
       "<table border=\"1\" class=\"dataframe\">\n",
       "  <thead>\n",
       "    <tr style=\"text-align: right;\">\n",
       "      <th></th>\n",
       "      <th>no_atrasado</th>\n",
       "      <th>atrasado</th>\n",
       "      <th>total_vuelos</th>\n",
       "      <th>rate_no_atrasado</th>\n",
       "      <th>rate_atrasado_periodo_dia</th>\n",
       "    </tr>\n",
       "    <tr>\n",
       "      <th>periodo_dia</th>\n",
       "      <th></th>\n",
       "      <th></th>\n",
       "      <th></th>\n",
       "      <th></th>\n",
       "      <th></th>\n",
       "    </tr>\n",
       "  </thead>\n",
       "  <tbody>\n",
       "    <tr>\n",
       "      <th>mañana</th>\n",
       "      <td>21274</td>\n",
       "      <td>4052</td>\n",
       "      <td>25326</td>\n",
       "      <td>0.84</td>\n",
       "      <td>0.16</td>\n",
       "    </tr>\n",
       "    <tr>\n",
       "      <th>noche</th>\n",
       "      <td>13869</td>\n",
       "      <td>3456</td>\n",
       "      <td>17325</td>\n",
       "      <td>0.80</td>\n",
       "      <td>0.20</td>\n",
       "    </tr>\n",
       "    <tr>\n",
       "      <th>tarde</th>\n",
       "      <td>20415</td>\n",
       "      <td>5083</td>\n",
       "      <td>25498</td>\n",
       "      <td>0.80</td>\n",
       "      <td>0.20</td>\n",
       "    </tr>\n",
       "  </tbody>\n",
       "</table>\n",
       "</div>"
      ],
      "text/plain": [
       "             no_atrasado  atrasado  total_vuelos  rate_no_atrasado  \\\n",
       "periodo_dia                                                          \n",
       "mañana             21274      4052         25326              0.84   \n",
       "noche              13869      3456         17325              0.80   \n",
       "tarde              20415      5083         25498              0.80   \n",
       "\n",
       "             rate_atrasado_periodo_dia  \n",
       "periodo_dia                             \n",
       "mañana                            0.16  \n",
       "noche                             0.20  \n",
       "tarde                             0.20  "
      ]
     },
     "execution_count": 62,
     "metadata": {},
     "output_type": "execute_result"
    }
   ],
   "source": [
    "periodo_rates = rates(data , 'periodo_dia')\n",
    "periodo_rates"
   ]
  },
  {
   "cell_type": "markdown",
   "metadata": {},
   "source": [
    "A continuación incorporamos las variables calculadas al dataframe original"
   ]
  },
  {
   "cell_type": "code",
   "execution_count": 63,
   "metadata": {},
   "outputs": [],
   "source": [
    "dest_rates = dest_rates[[\"rate_atrasado_SIGLADES\"]].reset_index()\n",
    "aero_rates = aero_rates[[\"rate_atrasado_OPERA\"]].reset_index()\n",
    "mes_rates = mes_rates[[\"rate_atrasado_month-O\"]].reset_index()\n",
    "day_rates = day_rates[[\"rate_atrasado_DIANOM\"]].reset_index()\n",
    "temp_rates = temp_rates[[\"rate_atrasado_temporada_alta\"]].reset_index()\n",
    "tipo_rates = tipo_rates[[\"rate_atrasado_TIPOVUELO\"]].reset_index()\n",
    "periodo_rates = periodo_rates[[\"rate_atrasado_periodo_dia\"]].reset_index()"
   ]
  },
  {
   "cell_type": "code",
   "execution_count": 64,
   "metadata": {},
   "outputs": [],
   "source": [
    "data = pd.merge(data , dest_rates)\n",
    "data = pd.merge(data , aero_rates)\n",
    "data = pd.merge(data , mes_rates)\n",
    "data = pd.merge(data , day_rates)\n",
    "data = pd.merge(data , temp_rates)\n",
    "data = pd.merge(data , tipo_rates)\n",
    "data = pd.merge(data , periodo_rates)"
   ]
  },
  {
   "cell_type": "markdown",
   "metadata": {},
   "source": [
    "## Sección 3.8 : Variables Interesantes para el Estudio"
   ]
  },
  {
   "cell_type": "markdown",
   "metadata": {},
   "source": [
    "Seleccionar variables es un proceso bastante extenso ya que hay infinitas combinaciones posibles. Al momento de hacer este proceso personalmente, me enfoco en una primera instancia en aquellas variables que presenten una variabilidad importante entre ellas. Un contraejemplo de lo anterior sería la tasa de atraso de los vuelos en temporadas altas y bajas ya que son prácticamente idénticas, por lo cual no sería una variable ideal. A priori esperaría que las variables con mayor influencia serían:\n",
    "\n",
    "- __Aerolínea__ : Al analizar las tasas hay claramente algunas en las que un vuelo es más probable que se atrase, mientras otras tienen una puntualidad prácticamente excelente\n",
    "- __Destino__ : Destinos como Sydney y Melbourne que cuentan con una gran cantidad de vuelos, poseen tasas de atrasos de más del 55% lo cual entrega un precedente que hay sectores más conflictivos que otros\n",
    "\n",
    "- __Mes__ : Julio y Agosto presentan mayor atraso que el resto de los meses probablemente porque son viajes que están muy relacionados con las vacaciones de invierno y verano por lo que existe un mayor flujo de personas\n",
    "\n",
    "- __Período__ : Viajar en la mañana claramente representa una menor posibilidad de atraso que en la tarde y en la noche"
   ]
  },
  {
   "cell_type": "markdown",
   "metadata": {},
   "source": [
    "# Sección 4 : Desarrollo de Modelos"
   ]
  },
  {
   "cell_type": "markdown",
   "metadata": {},
   "source": [
    "## Sección 4.1 : Preparando un poco más los Datos"
   ]
  },
  {
   "cell_type": "code",
   "execution_count": 65,
   "metadata": {},
   "outputs": [],
   "source": [
    "df = data.drop(['Fecha-I', 'Vlo-I', 'Des-I', 'Emp-I', 'Fecha-O', 'Vlo-O', 'Des-O' , \"Emp-O\" , 'year-I', 'year-O',\n",
    "       'month-I', 'month-O', 'day-I', 'day-O' ,'dif_min', 'rate_atrasado_temporada_alta'] , axis = 1)"
   ]
  },
  {
   "cell_type": "code",
   "execution_count": 66,
   "metadata": {},
   "outputs": [
    {
     "data": {
      "text/html": [
       "<div>\n",
       "<style scoped>\n",
       "    .dataframe tbody tr th:only-of-type {\n",
       "        vertical-align: middle;\n",
       "    }\n",
       "\n",
       "    .dataframe tbody tr th {\n",
       "        vertical-align: top;\n",
       "    }\n",
       "\n",
       "    .dataframe thead th {\n",
       "        text-align: right;\n",
       "    }\n",
       "</style>\n",
       "<table border=\"1\" class=\"dataframe\">\n",
       "  <thead>\n",
       "    <tr style=\"text-align: right;\">\n",
       "      <th></th>\n",
       "      <th>DIANOM</th>\n",
       "      <th>TIPOVUELO</th>\n",
       "      <th>OPERA</th>\n",
       "      <th>SIGLADES</th>\n",
       "      <th>temporada_alta</th>\n",
       "      <th>atraso_15</th>\n",
       "      <th>periodo_dia</th>\n",
       "      <th>rate_atrasado_SIGLADES</th>\n",
       "      <th>rate_atrasado_OPERA</th>\n",
       "      <th>rate_atrasado_month-O</th>\n",
       "      <th>rate_atrasado_DIANOM</th>\n",
       "      <th>rate_atrasado_TIPOVUELO</th>\n",
       "      <th>rate_atrasado_periodo_dia</th>\n",
       "    </tr>\n",
       "  </thead>\n",
       "  <tbody>\n",
       "    <tr>\n",
       "      <th>0</th>\n",
       "      <td>Domingo</td>\n",
       "      <td>I</td>\n",
       "      <td>American Airlines</td>\n",
       "      <td>Miami</td>\n",
       "      <td>1</td>\n",
       "      <td>0</td>\n",
       "      <td>noche</td>\n",
       "      <td>0.19</td>\n",
       "      <td>0.07</td>\n",
       "      <td>0.16</td>\n",
       "      <td>0.16</td>\n",
       "      <td>0.23</td>\n",
       "      <td>0.2</td>\n",
       "    </tr>\n",
       "    <tr>\n",
       "      <th>1</th>\n",
       "      <td>Domingo</td>\n",
       "      <td>I</td>\n",
       "      <td>American Airlines</td>\n",
       "      <td>Miami</td>\n",
       "      <td>1</td>\n",
       "      <td>0</td>\n",
       "      <td>noche</td>\n",
       "      <td>0.19</td>\n",
       "      <td>0.07</td>\n",
       "      <td>0.16</td>\n",
       "      <td>0.16</td>\n",
       "      <td>0.23</td>\n",
       "      <td>0.2</td>\n",
       "    </tr>\n",
       "    <tr>\n",
       "      <th>2</th>\n",
       "      <td>Domingo</td>\n",
       "      <td>I</td>\n",
       "      <td>American Airlines</td>\n",
       "      <td>Miami</td>\n",
       "      <td>1</td>\n",
       "      <td>0</td>\n",
       "      <td>noche</td>\n",
       "      <td>0.19</td>\n",
       "      <td>0.07</td>\n",
       "      <td>0.16</td>\n",
       "      <td>0.16</td>\n",
       "      <td>0.23</td>\n",
       "      <td>0.2</td>\n",
       "    </tr>\n",
       "    <tr>\n",
       "      <th>3</th>\n",
       "      <td>Domingo</td>\n",
       "      <td>I</td>\n",
       "      <td>American Airlines</td>\n",
       "      <td>Miami</td>\n",
       "      <td>1</td>\n",
       "      <td>0</td>\n",
       "      <td>noche</td>\n",
       "      <td>0.19</td>\n",
       "      <td>0.07</td>\n",
       "      <td>0.16</td>\n",
       "      <td>0.16</td>\n",
       "      <td>0.23</td>\n",
       "      <td>0.2</td>\n",
       "    </tr>\n",
       "    <tr>\n",
       "      <th>4</th>\n",
       "      <td>Domingo</td>\n",
       "      <td>I</td>\n",
       "      <td>American Airlines</td>\n",
       "      <td>Miami</td>\n",
       "      <td>1</td>\n",
       "      <td>0</td>\n",
       "      <td>noche</td>\n",
       "      <td>0.19</td>\n",
       "      <td>0.07</td>\n",
       "      <td>0.16</td>\n",
       "      <td>0.16</td>\n",
       "      <td>0.23</td>\n",
       "      <td>0.2</td>\n",
       "    </tr>\n",
       "  </tbody>\n",
       "</table>\n",
       "</div>"
      ],
      "text/plain": [
       "    DIANOM TIPOVUELO              OPERA SIGLADES  temporada_alta  atraso_15  \\\n",
       "0  Domingo         I  American Airlines    Miami               1          0   \n",
       "1  Domingo         I  American Airlines    Miami               1          0   \n",
       "2  Domingo         I  American Airlines    Miami               1          0   \n",
       "3  Domingo         I  American Airlines    Miami               1          0   \n",
       "4  Domingo         I  American Airlines    Miami               1          0   \n",
       "\n",
       "  periodo_dia  rate_atrasado_SIGLADES  rate_atrasado_OPERA  \\\n",
       "0       noche                    0.19                 0.07   \n",
       "1       noche                    0.19                 0.07   \n",
       "2       noche                    0.19                 0.07   \n",
       "3       noche                    0.19                 0.07   \n",
       "4       noche                    0.19                 0.07   \n",
       "\n",
       "   rate_atrasado_month-O  rate_atrasado_DIANOM  rate_atrasado_TIPOVUELO  \\\n",
       "0                   0.16                  0.16                     0.23   \n",
       "1                   0.16                  0.16                     0.23   \n",
       "2                   0.16                  0.16                     0.23   \n",
       "3                   0.16                  0.16                     0.23   \n",
       "4                   0.16                  0.16                     0.23   \n",
       "\n",
       "   rate_atrasado_periodo_dia  \n",
       "0                        0.2  \n",
       "1                        0.2  \n",
       "2                        0.2  \n",
       "3                        0.2  \n",
       "4                        0.2  "
      ]
     },
     "execution_count": 66,
     "metadata": {},
     "output_type": "execute_result"
    }
   ],
   "source": [
    "df.head(5)"
   ]
  },
  {
   "cell_type": "markdown",
   "metadata": {},
   "source": [
    "## Sección 4.2 : Analizando Solo Los Vuelos Atrasados"
   ]
  },
  {
   "cell_type": "code",
   "execution_count": 67,
   "metadata": {},
   "outputs": [],
   "source": [
    "atrasos = df[df.atraso_15 == 1]"
   ]
  },
  {
   "cell_type": "code",
   "execution_count": 68,
   "metadata": {},
   "outputs": [
    {
     "data": {
      "image/png": "[encoded data removed]",
      "text/plain": [
       "<Figure size 432x288 with 1 Axes>"
      ]
     },
     "metadata": {
      "needs_background": "light"
     },
     "output_type": "display_data"
    }
   ],
   "source": [
    "atrasos.groupby([\"SIGLADES\"]).size().sort_values(ascending = False).hist(bins = 30);"
   ]
  },
  {
   "cell_type": "code",
   "execution_count": 69,
   "metadata": {},
   "outputs": [],
   "source": [
    "des_atrasos = pd.DataFrame(atrasos.groupby([\"SIGLADES\"]).size().sort_values(ascending = False) , columns = [\"atrasos_des\"])\n",
    "des_atrasos.reset_index(inplace = True)"
   ]
  },
  {
   "cell_type": "code",
   "execution_count": 70,
   "metadata": {},
   "outputs": [],
   "source": [
    "atrasos_count = []\n",
    "for i in des_atrasos.atrasos_des:\n",
    "    if i <= 200:\n",
    "        atrasos_count.append(\"poco_frecuente_des\")\n",
    "    elif 200 < i <=600:\n",
    "        atrasos_count.append(\"medio_frecuente_des\")\n",
    "    else:\n",
    "        atrasos_count.append(\"muy_frecuente_des\")\n",
    "des_atrasos[\"freq_atraso_siglades\"] = atrasos_count"
   ]
  },
  {
   "cell_type": "code",
   "execution_count": 71,
   "metadata": {},
   "outputs": [],
   "source": [
    "opera_atrasos = pd.DataFrame(atrasos.groupby([\"OPERA\"]).size().sort_values(ascending = False) , columns = [\"atrasos_opera\"])\n",
    "opera_atrasos.reset_index(inplace = True)"
   ]
  },
  {
   "cell_type": "code",
   "execution_count": 72,
   "metadata": {},
   "outputs": [
    {
     "data": {
      "image/png": "[encoded data removed]",
      "text/plain": [
       "<Figure size 864x576 with 1 Axes>"
      ]
     },
     "metadata": {
      "needs_background": "light"
     },
     "output_type": "display_data"
    }
   ],
   "source": [
    "atrasos.groupby([\"OPERA\"]).size().sort_values(ascending = False).hist(bins = 100, figsize = (12,8));"
   ]
  },
  {
   "cell_type": "code",
   "execution_count": 73,
   "metadata": {},
   "outputs": [],
   "source": [
    "atrasos_count = []\n",
    "for i in opera_atrasos.atrasos_opera:\n",
    "    if i <= 200:\n",
    "        atrasos_count.append(\"poco_frecuente_opera\")\n",
    "    elif 200 < i <=600:\n",
    "        atrasos_count.append(\"medio_frecuente_opera\")\n",
    "    else:\n",
    "        atrasos_count.append(\"muy_frecuente_opera\")\n",
    "opera_atrasos[\"freq_atraso_opera\"] = atrasos_count"
   ]
  },
  {
   "cell_type": "code",
   "execution_count": 74,
   "metadata": {},
   "outputs": [],
   "source": [
    "df = pd.merge(df , des_atrasos, how = \"left\").fillna(\"poco_frecuente_des\")"
   ]
  },
  {
   "cell_type": "code",
   "execution_count": 75,
   "metadata": {},
   "outputs": [],
   "source": [
    "df = pd.merge(df , opera_atrasos, how = \"left\").fillna(\"poco_frecuente_opera\")"
   ]
  },
  {
   "cell_type": "code",
   "execution_count": 76,
   "metadata": {},
   "outputs": [],
   "source": [
    "X = df.drop(\"atraso_15\" , axis = 1)\n",
    "y = df[[\"atraso_15\"]]"
   ]
  },
  {
   "cell_type": "code",
   "execution_count": 77,
   "metadata": {},
   "outputs": [
    {
     "data": {
      "text/html": [
       "<div>\n",
       "<style scoped>\n",
       "    .dataframe tbody tr th:only-of-type {\n",
       "        vertical-align: middle;\n",
       "    }\n",
       "\n",
       "    .dataframe tbody tr th {\n",
       "        vertical-align: top;\n",
       "    }\n",
       "\n",
       "    .dataframe thead th {\n",
       "        text-align: right;\n",
       "    }\n",
       "</style>\n",
       "<table border=\"1\" class=\"dataframe\">\n",
       "  <thead>\n",
       "    <tr style=\"text-align: right;\">\n",
       "      <th></th>\n",
       "      <th>DIANOM</th>\n",
       "      <th>TIPOVUELO</th>\n",
       "      <th>OPERA</th>\n",
       "      <th>SIGLADES</th>\n",
       "      <th>temporada_alta</th>\n",
       "      <th>periodo_dia</th>\n",
       "      <th>rate_atrasado_SIGLADES</th>\n",
       "      <th>rate_atrasado_OPERA</th>\n",
       "      <th>rate_atrasado_month-O</th>\n",
       "      <th>rate_atrasado_DIANOM</th>\n",
       "      <th>rate_atrasado_TIPOVUELO</th>\n",
       "      <th>rate_atrasado_periodo_dia</th>\n",
       "      <th>atrasos_des</th>\n",
       "      <th>freq_atraso_siglades</th>\n",
       "      <th>atrasos_opera</th>\n",
       "      <th>freq_atraso_opera</th>\n",
       "    </tr>\n",
       "  </thead>\n",
       "  <tbody>\n",
       "    <tr>\n",
       "      <th>0</th>\n",
       "      <td>Domingo</td>\n",
       "      <td>I</td>\n",
       "      <td>American Airlines</td>\n",
       "      <td>Miami</td>\n",
       "      <td>1</td>\n",
       "      <td>noche</td>\n",
       "      <td>0.19</td>\n",
       "      <td>0.07</td>\n",
       "      <td>0.16</td>\n",
       "      <td>0.16</td>\n",
       "      <td>0.23</td>\n",
       "      <td>0.2</td>\n",
       "      <td>193</td>\n",
       "      <td>poco_frecuente_des</td>\n",
       "      <td>51</td>\n",
       "      <td>poco_frecuente_opera</td>\n",
       "    </tr>\n",
       "    <tr>\n",
       "      <th>1</th>\n",
       "      <td>Domingo</td>\n",
       "      <td>I</td>\n",
       "      <td>American Airlines</td>\n",
       "      <td>Miami</td>\n",
       "      <td>1</td>\n",
       "      <td>noche</td>\n",
       "      <td>0.19</td>\n",
       "      <td>0.07</td>\n",
       "      <td>0.16</td>\n",
       "      <td>0.16</td>\n",
       "      <td>0.23</td>\n",
       "      <td>0.2</td>\n",
       "      <td>193</td>\n",
       "      <td>poco_frecuente_des</td>\n",
       "      <td>51</td>\n",
       "      <td>poco_frecuente_opera</td>\n",
       "    </tr>\n",
       "    <tr>\n",
       "      <th>2</th>\n",
       "      <td>Domingo</td>\n",
       "      <td>I</td>\n",
       "      <td>American Airlines</td>\n",
       "      <td>Miami</td>\n",
       "      <td>1</td>\n",
       "      <td>noche</td>\n",
       "      <td>0.19</td>\n",
       "      <td>0.07</td>\n",
       "      <td>0.16</td>\n",
       "      <td>0.16</td>\n",
       "      <td>0.23</td>\n",
       "      <td>0.2</td>\n",
       "      <td>193</td>\n",
       "      <td>poco_frecuente_des</td>\n",
       "      <td>51</td>\n",
       "      <td>poco_frecuente_opera</td>\n",
       "    </tr>\n",
       "    <tr>\n",
       "      <th>3</th>\n",
       "      <td>Domingo</td>\n",
       "      <td>I</td>\n",
       "      <td>American Airlines</td>\n",
       "      <td>Miami</td>\n",
       "      <td>1</td>\n",
       "      <td>noche</td>\n",
       "      <td>0.19</td>\n",
       "      <td>0.07</td>\n",
       "      <td>0.16</td>\n",
       "      <td>0.16</td>\n",
       "      <td>0.23</td>\n",
       "      <td>0.2</td>\n",
       "      <td>193</td>\n",
       "      <td>poco_frecuente_des</td>\n",
       "      <td>51</td>\n",
       "      <td>poco_frecuente_opera</td>\n",
       "    </tr>\n",
       "    <tr>\n",
       "      <th>4</th>\n",
       "      <td>Domingo</td>\n",
       "      <td>I</td>\n",
       "      <td>American Airlines</td>\n",
       "      <td>Miami</td>\n",
       "      <td>1</td>\n",
       "      <td>noche</td>\n",
       "      <td>0.19</td>\n",
       "      <td>0.07</td>\n",
       "      <td>0.16</td>\n",
       "      <td>0.16</td>\n",
       "      <td>0.23</td>\n",
       "      <td>0.2</td>\n",
       "      <td>193</td>\n",
       "      <td>poco_frecuente_des</td>\n",
       "      <td>51</td>\n",
       "      <td>poco_frecuente_opera</td>\n",
       "    </tr>\n",
       "    <tr>\n",
       "      <th>...</th>\n",
       "      <td>...</td>\n",
       "      <td>...</td>\n",
       "      <td>...</td>\n",
       "      <td>...</td>\n",
       "      <td>...</td>\n",
       "      <td>...</td>\n",
       "      <td>...</td>\n",
       "      <td>...</td>\n",
       "      <td>...</td>\n",
       "      <td>...</td>\n",
       "      <td>...</td>\n",
       "      <td>...</td>\n",
       "      <td>...</td>\n",
       "      <td>...</td>\n",
       "      <td>...</td>\n",
       "      <td>...</td>\n",
       "    </tr>\n",
       "    <tr>\n",
       "      <th>68144</th>\n",
       "      <td>Viernes</td>\n",
       "      <td>N</td>\n",
       "      <td>JetSmart SPA</td>\n",
       "      <td>Copiapo</td>\n",
       "      <td>0</td>\n",
       "      <td>tarde</td>\n",
       "      <td>0.14</td>\n",
       "      <td>0.18</td>\n",
       "      <td>0.25</td>\n",
       "      <td>0.22</td>\n",
       "      <td>0.15</td>\n",
       "      <td>0.2</td>\n",
       "      <td>242</td>\n",
       "      <td>medio_frecuente_des</td>\n",
       "      <td>196</td>\n",
       "      <td>poco_frecuente_opera</td>\n",
       "    </tr>\n",
       "    <tr>\n",
       "      <th>68145</th>\n",
       "      <td>Viernes</td>\n",
       "      <td>N</td>\n",
       "      <td>JetSmart SPA</td>\n",
       "      <td>Copiapo</td>\n",
       "      <td>0</td>\n",
       "      <td>tarde</td>\n",
       "      <td>0.14</td>\n",
       "      <td>0.18</td>\n",
       "      <td>0.25</td>\n",
       "      <td>0.22</td>\n",
       "      <td>0.15</td>\n",
       "      <td>0.2</td>\n",
       "      <td>242</td>\n",
       "      <td>medio_frecuente_des</td>\n",
       "      <td>196</td>\n",
       "      <td>poco_frecuente_opera</td>\n",
       "    </tr>\n",
       "    <tr>\n",
       "      <th>68146</th>\n",
       "      <td>Viernes</td>\n",
       "      <td>N</td>\n",
       "      <td>JetSmart SPA</td>\n",
       "      <td>Calama</td>\n",
       "      <td>0</td>\n",
       "      <td>tarde</td>\n",
       "      <td>0.12</td>\n",
       "      <td>0.18</td>\n",
       "      <td>0.25</td>\n",
       "      <td>0.22</td>\n",
       "      <td>0.15</td>\n",
       "      <td>0.2</td>\n",
       "      <td>629</td>\n",
       "      <td>muy_frecuente_des</td>\n",
       "      <td>196</td>\n",
       "      <td>poco_frecuente_opera</td>\n",
       "    </tr>\n",
       "    <tr>\n",
       "      <th>68147</th>\n",
       "      <td>Viernes</td>\n",
       "      <td>N</td>\n",
       "      <td>JetSmart SPA</td>\n",
       "      <td>Calama</td>\n",
       "      <td>0</td>\n",
       "      <td>tarde</td>\n",
       "      <td>0.12</td>\n",
       "      <td>0.18</td>\n",
       "      <td>0.25</td>\n",
       "      <td>0.22</td>\n",
       "      <td>0.15</td>\n",
       "      <td>0.2</td>\n",
       "      <td>629</td>\n",
       "      <td>muy_frecuente_des</td>\n",
       "      <td>196</td>\n",
       "      <td>poco_frecuente_opera</td>\n",
       "    </tr>\n",
       "    <tr>\n",
       "      <th>68148</th>\n",
       "      <td>Viernes</td>\n",
       "      <td>N</td>\n",
       "      <td>JetSmart SPA</td>\n",
       "      <td>Calama</td>\n",
       "      <td>0</td>\n",
       "      <td>tarde</td>\n",
       "      <td>0.12</td>\n",
       "      <td>0.18</td>\n",
       "      <td>0.25</td>\n",
       "      <td>0.22</td>\n",
       "      <td>0.15</td>\n",
       "      <td>0.2</td>\n",
       "      <td>629</td>\n",
       "      <td>muy_frecuente_des</td>\n",
       "      <td>196</td>\n",
       "      <td>poco_frecuente_opera</td>\n",
       "    </tr>\n",
       "  </tbody>\n",
       "</table>\n",
       "<p>68149 rows × 16 columns</p>\n",
       "</div>"
      ],
      "text/plain": [
       "        DIANOM TIPOVUELO              OPERA SIGLADES  temporada_alta  \\\n",
       "0      Domingo         I  American Airlines    Miami               1   \n",
       "1      Domingo         I  American Airlines    Miami               1   \n",
       "2      Domingo         I  American Airlines    Miami               1   \n",
       "3      Domingo         I  American Airlines    Miami               1   \n",
       "4      Domingo         I  American Airlines    Miami               1   \n",
       "...        ...       ...                ...      ...             ...   \n",
       "68144  Viernes         N       JetSmart SPA  Copiapo               0   \n",
       "68145  Viernes         N       JetSmart SPA  Copiapo               0   \n",
       "68146  Viernes         N       JetSmart SPA   Calama               0   \n",
       "68147  Viernes         N       JetSmart SPA   Calama               0   \n",
       "68148  Viernes         N       JetSmart SPA   Calama               0   \n",
       "\n",
       "      periodo_dia  rate_atrasado_SIGLADES  rate_atrasado_OPERA  \\\n",
       "0           noche                    0.19                 0.07   \n",
       "1           noche                    0.19                 0.07   \n",
       "2           noche                    0.19                 0.07   \n",
       "3           noche                    0.19                 0.07   \n",
       "4           noche                    0.19                 0.07   \n",
       "...           ...                     ...                  ...   \n",
       "68144       tarde                    0.14                 0.18   \n",
       "68145       tarde                    0.14                 0.18   \n",
       "68146       tarde                    0.12                 0.18   \n",
       "68147       tarde                    0.12                 0.18   \n",
       "68148       tarde                    0.12                 0.18   \n",
       "\n",
       "       rate_atrasado_month-O  rate_atrasado_DIANOM  rate_atrasado_TIPOVUELO  \\\n",
       "0                       0.16                  0.16                     0.23   \n",
       "1                       0.16                  0.16                     0.23   \n",
       "2                       0.16                  0.16                     0.23   \n",
       "3                       0.16                  0.16                     0.23   \n",
       "4                       0.16                  0.16                     0.23   \n",
       "...                      ...                   ...                      ...   \n",
       "68144                   0.25                  0.22                     0.15   \n",
       "68145                   0.25                  0.22                     0.15   \n",
       "68146                   0.25                  0.22                     0.15   \n",
       "68147                   0.25                  0.22                     0.15   \n",
       "68148                   0.25                  0.22                     0.15   \n",
       "\n",
       "       rate_atrasado_periodo_dia atrasos_des freq_atraso_siglades  \\\n",
       "0                            0.2         193   poco_frecuente_des   \n",
       "1                            0.2         193   poco_frecuente_des   \n",
       "2                            0.2         193   poco_frecuente_des   \n",
       "3                            0.2         193   poco_frecuente_des   \n",
       "4                            0.2         193   poco_frecuente_des   \n",
       "...                          ...         ...                  ...   \n",
       "68144                        0.2         242  medio_frecuente_des   \n",
       "68145                        0.2         242  medio_frecuente_des   \n",
       "68146                        0.2         629    muy_frecuente_des   \n",
       "68147                        0.2         629    muy_frecuente_des   \n",
       "68148                        0.2         629    muy_frecuente_des   \n",
       "\n",
       "       atrasos_opera     freq_atraso_opera  \n",
       "0                 51  poco_frecuente_opera  \n",
       "1                 51  poco_frecuente_opera  \n",
       "2                 51  poco_frecuente_opera  \n",
       "3                 51  poco_frecuente_opera  \n",
       "4                 51  poco_frecuente_opera  \n",
       "...              ...                   ...  \n",
       "68144            196  poco_frecuente_opera  \n",
       "68145            196  poco_frecuente_opera  \n",
       "68146            196  poco_frecuente_opera  \n",
       "68147            196  poco_frecuente_opera  \n",
       "68148            196  poco_frecuente_opera  \n",
       "\n",
       "[68149 rows x 16 columns]"
      ]
     },
     "execution_count": 77,
     "metadata": {},
     "output_type": "execute_result"
    }
   ],
   "source": [
    "X"
   ]
  },
  {
   "cell_type": "markdown",
   "metadata": {},
   "source": [
    "Existen ciertas variables categóricas como __Destino__ que son muy amplias para convertirlas en formato One Hot. Analizando el histograma de la distribución de tasas de atraso podemos crear una nueva variable que establezca el destino como __Atraso Bajo, Medio o Alto__. Establecemos los siguientes intervalos:\n",
    "- __Atraso Bajo__ : Tasa de atraso menor a 20%\n",
    "- __Atraso Medio__ : Tasa de atraso entre 20 y 40%\n",
    "- __Atraso Alto__ : Tasa de atraso mayor a 40%"
   ]
  },
  {
   "cell_type": "code",
   "execution_count": 78,
   "metadata": {},
   "outputs": [
    {
     "data": {
      "text/plain": [
       "array([[<matplotlib.axes._subplots.AxesSubplot object at 0x0000018BC6AFE8B0>]],\n",
       "      dtype=object)"
      ]
     },
     "execution_count": 78,
     "metadata": {},
     "output_type": "execute_result"
    },
    {
     "data": {
      "image/png": "[encoded data removed]",
      "text/plain": [
       "<Figure size 648x648 with 1 Axes>"
      ]
     },
     "metadata": {
      "needs_background": "light"
     },
     "output_type": "display_data"
    }
   ],
   "source": [
    "dest_rates.hist(bins = 10, figsize = (9,9))"
   ]
  },
  {
   "cell_type": "code",
   "execution_count": 79,
   "metadata": {},
   "outputs": [],
   "source": [
    "newdest = []\n",
    "for i in X.rate_atrasado_SIGLADES:\n",
    "    if (i < 0.2):\n",
    "        newdest.append(\"atraso_bajo\")\n",
    "    elif (0.2 <= i <= 0.4):\n",
    "        newdest.append(\"atraso_medio\")\n",
    "    else:\n",
    "        newdest.append(\"atraso_alto\")\n",
    "X['NEWDEST'] = newdest"
   ]
  },
  {
   "cell_type": "markdown",
   "metadata": {},
   "source": [
    "## Sección 4.3 : Modelo sin incluir las Tasas"
   ]
  },
  {
   "cell_type": "markdown",
   "metadata": {},
   "source": [
    "Utilizando las __Tasas__ se generaron diferentes variables como por ejemplo la clasificación de destinos según su frecuencia de viaje y también por su frecuencia de atraso. Por lo mismo, en éste primer modelo se decidió eliminar las tasas para ver cómo se comportaban los modelos solamente con variables categóricas."
   ]
  },
  {
   "cell_type": "code",
   "execution_count": 92,
   "metadata": {},
   "outputs": [],
   "source": [
    "X_mod_sin_rates = X.copy()"
   ]
  },
  {
   "cell_type": "code",
   "execution_count": 93,
   "metadata": {},
   "outputs": [],
   "source": [
    "X_mod_sin_rates =X_mod_sin_rates.drop(['rate_atrasado_SIGLADES', 'rate_atrasado_OPERA',\n",
    "       'rate_atrasado_month-O', 'rate_atrasado_DIANOM',\n",
    "       'rate_atrasado_TIPOVUELO', 'rate_atrasado_periodo_dia'] , axis = 1)"
   ]
  },
  {
   "cell_type": "code",
   "execution_count": 94,
   "metadata": {},
   "outputs": [
    {
     "data": {
      "text/html": [
       "<div>\n",
       "<style scoped>\n",
       "    .dataframe tbody tr th:only-of-type {\n",
       "        vertical-align: middle;\n",
       "    }\n",
       "\n",
       "    .dataframe tbody tr th {\n",
       "        vertical-align: top;\n",
       "    }\n",
       "\n",
       "    .dataframe thead th {\n",
       "        text-align: right;\n",
       "    }\n",
       "</style>\n",
       "<table border=\"1\" class=\"dataframe\">\n",
       "  <thead>\n",
       "    <tr style=\"text-align: right;\">\n",
       "      <th></th>\n",
       "      <th>DIANOM</th>\n",
       "      <th>TIPOVUELO</th>\n",
       "      <th>OPERA</th>\n",
       "      <th>SIGLADES</th>\n",
       "      <th>temporada_alta</th>\n",
       "      <th>periodo_dia</th>\n",
       "      <th>atrasos_des</th>\n",
       "      <th>freq_atraso_siglades</th>\n",
       "      <th>atrasos_opera</th>\n",
       "      <th>freq_atraso_opera</th>\n",
       "      <th>NEWDEST</th>\n",
       "    </tr>\n",
       "  </thead>\n",
       "  <tbody>\n",
       "    <tr>\n",
       "      <th>0</th>\n",
       "      <td>Domingo</td>\n",
       "      <td>I</td>\n",
       "      <td>American Airlines</td>\n",
       "      <td>Miami</td>\n",
       "      <td>1</td>\n",
       "      <td>noche</td>\n",
       "      <td>193</td>\n",
       "      <td>poco_frecuente_des</td>\n",
       "      <td>51</td>\n",
       "      <td>poco_frecuente_opera</td>\n",
       "      <td>atraso_bajo</td>\n",
       "    </tr>\n",
       "    <tr>\n",
       "      <th>1</th>\n",
       "      <td>Domingo</td>\n",
       "      <td>I</td>\n",
       "      <td>American Airlines</td>\n",
       "      <td>Miami</td>\n",
       "      <td>1</td>\n",
       "      <td>noche</td>\n",
       "      <td>193</td>\n",
       "      <td>poco_frecuente_des</td>\n",
       "      <td>51</td>\n",
       "      <td>poco_frecuente_opera</td>\n",
       "      <td>atraso_bajo</td>\n",
       "    </tr>\n",
       "    <tr>\n",
       "      <th>2</th>\n",
       "      <td>Domingo</td>\n",
       "      <td>I</td>\n",
       "      <td>American Airlines</td>\n",
       "      <td>Miami</td>\n",
       "      <td>1</td>\n",
       "      <td>noche</td>\n",
       "      <td>193</td>\n",
       "      <td>poco_frecuente_des</td>\n",
       "      <td>51</td>\n",
       "      <td>poco_frecuente_opera</td>\n",
       "      <td>atraso_bajo</td>\n",
       "    </tr>\n",
       "    <tr>\n",
       "      <th>3</th>\n",
       "      <td>Domingo</td>\n",
       "      <td>I</td>\n",
       "      <td>American Airlines</td>\n",
       "      <td>Miami</td>\n",
       "      <td>1</td>\n",
       "      <td>noche</td>\n",
       "      <td>193</td>\n",
       "      <td>poco_frecuente_des</td>\n",
       "      <td>51</td>\n",
       "      <td>poco_frecuente_opera</td>\n",
       "      <td>atraso_bajo</td>\n",
       "    </tr>\n",
       "    <tr>\n",
       "      <th>4</th>\n",
       "      <td>Domingo</td>\n",
       "      <td>I</td>\n",
       "      <td>American Airlines</td>\n",
       "      <td>Miami</td>\n",
       "      <td>1</td>\n",
       "      <td>noche</td>\n",
       "      <td>193</td>\n",
       "      <td>poco_frecuente_des</td>\n",
       "      <td>51</td>\n",
       "      <td>poco_frecuente_opera</td>\n",
       "      <td>atraso_bajo</td>\n",
       "    </tr>\n",
       "  </tbody>\n",
       "</table>\n",
       "</div>"
      ],
      "text/plain": [
       "    DIANOM TIPOVUELO              OPERA SIGLADES  temporada_alta periodo_dia  \\\n",
       "0  Domingo         I  American Airlines    Miami               1       noche   \n",
       "1  Domingo         I  American Airlines    Miami               1       noche   \n",
       "2  Domingo         I  American Airlines    Miami               1       noche   \n",
       "3  Domingo         I  American Airlines    Miami               1       noche   \n",
       "4  Domingo         I  American Airlines    Miami               1       noche   \n",
       "\n",
       "  atrasos_des freq_atraso_siglades  atrasos_opera     freq_atraso_opera  \\\n",
       "0         193   poco_frecuente_des             51  poco_frecuente_opera   \n",
       "1         193   poco_frecuente_des             51  poco_frecuente_opera   \n",
       "2         193   poco_frecuente_des             51  poco_frecuente_opera   \n",
       "3         193   poco_frecuente_des             51  poco_frecuente_opera   \n",
       "4         193   poco_frecuente_des             51  poco_frecuente_opera   \n",
       "\n",
       "       NEWDEST  \n",
       "0  atraso_bajo  \n",
       "1  atraso_bajo  \n",
       "2  atraso_bajo  \n",
       "3  atraso_bajo  \n",
       "4  atraso_bajo  "
      ]
     },
     "execution_count": 94,
     "metadata": {},
     "output_type": "execute_result"
    }
   ],
   "source": [
    "X_mod_sin_rates.head()"
   ]
  },
  {
   "cell_type": "code",
   "execution_count": 95,
   "metadata": {},
   "outputs": [],
   "source": [
    "dianom_categ = pd.get_dummies(X[\"DIANOM\"], drop_first = True)\n",
    "tipovuelo_categ = pd.get_dummies(X[\"TIPOVUELO\"], drop_first = True)\n",
    "periododia_categ = pd.get_dummies(X[\"periodo_dia\"], drop_first = True)\n",
    "newdest_categ = pd.get_dummies(X[\"NEWDEST\"], drop_first = True)\n",
    "opera_categ = pd.get_dummies(X[\"OPERA\"], drop_first = True)\n",
    "freq_atraso_siglades_categ = pd.get_dummies(X[\"freq_atraso_siglades\"], drop_first = True)\n",
    "freq_atraso_opera_categ = pd.get_dummies(X[\"freq_atraso_opera\"], drop_first = True)\n",
    "X_mod_sin_rates.drop([\"DIANOM\" , \"TIPOVUELO\" , \"periodo_dia\" , \"NEWDEST\" , \"SIGLADES\" , \"OPERA\" , \"freq_atraso_siglades\" , \"freq_atraso_opera\" , \"atrasos_des\" , \"atrasos_opera\" ] , axis = 1 , inplace = True)\n",
    "X_mod_sin_rates = pd.concat([X_mod_sin_rates , dianom_categ , tipovuelo_categ , periododia_categ , newdest_categ , opera_categ , freq_atraso_siglades_categ , freq_atraso_opera_categ] , axis = 1)"
   ]
  },
  {
   "cell_type": "code",
   "execution_count": 96,
   "metadata": {},
   "outputs": [],
   "source": [
    "from sklearn.model_selection import train_test_split"
   ]
  },
  {
   "cell_type": "code",
   "execution_count": 97,
   "metadata": {},
   "outputs": [],
   "source": [
    "X_train, X_test, y_train, y_test = train_test_split(X_mod_sin_rates, y, test_size=0.2, random_state=42)"
   ]
  },
  {
   "cell_type": "markdown",
   "metadata": {},
   "source": [
    "### Sección 4.3.1 : Logistic Regression"
   ]
  },
  {
   "cell_type": "code",
   "execution_count": 98,
   "metadata": {},
   "outputs": [
    {
     "name": "stderr",
     "output_type": "stream",
     "text": [
      "C:\\Users\\marce\\anaconda3\\lib\\site-packages\\sklearn\\utils\\validation.py:73: DataConversionWarning: A column-vector y was passed when a 1d array was expected. Please change the shape of y to (n_samples, ), for example using ravel().\n",
      "  return f(**kwargs)\n"
     ]
    },
    {
     "name": "stdout",
     "output_type": "stream",
     "text": [
      "Accuracy 44.57813646368305 %\n",
      "              precision    recall  f1-score   support\n",
      "\n",
      "           0       0.90      0.36      0.52     11180\n",
      "           1       0.22      0.82      0.35      2450\n",
      "\n",
      "    accuracy                           0.45     13630\n",
      "   macro avg       0.56      0.59      0.43     13630\n",
      "weighted avg       0.78      0.45      0.49     13630\n",
      "\n"
     ]
    },
    {
     "data": {
      "image/png": "[encoded data removed]",
      "text/plain": [
       "<Figure size 432x288 with 2 Axes>"
      ]
     },
     "metadata": {
      "needs_background": "light"
     },
     "output_type": "display_data"
    }
   ],
   "source": [
    "model = LogisticRegression(class_weight={1: 6},max_iter=1000)\n",
    "model.fit(X_train, y_train)\n",
    "y_pred1 = model.predict(X_test)\n",
    "print('Accuracy {} %'.format(100 * accuracy_score(y_test,y_pred1)))\n",
    "cm = confusion_matrix(y_pred1,y_test)\n",
    "sns.heatmap(cm , annot = True , fmt='g')\n",
    "print(classification_report(y_test , y_pred1))"
   ]
  },
  {
   "cell_type": "markdown",
   "metadata": {},
   "source": [
    "### Sección 4.3.2 : XGBoost"
   ]
  },
  {
   "cell_type": "code",
   "execution_count": 99,
   "metadata": {},
   "outputs": [
    {
     "name": "stdout",
     "output_type": "stream",
     "text": [
      "[21:02:27] WARNING: C:/Users/Administrator/workspace/xgboost-win64_release_1.3.0/src/learner.cc:1061: Starting in XGBoost 1.3.0, the default evaluation metric used with the objective 'binary:logistic' was changed from 'error' to 'logloss'. Explicitly set eval_metric if you'd like to restore the old behavior.\n",
      "Accuracy 63.98385913426266 %\n",
      "              precision    recall  f1-score   support\n",
      "\n",
      "           0       0.87      0.66      0.75     11180\n",
      "           1       0.26      0.56      0.36      2450\n",
      "\n",
      "    accuracy                           0.64     13630\n",
      "   macro avg       0.57      0.61      0.55     13630\n",
      "weighted avg       0.76      0.64      0.68     13630\n",
      "\n"
     ]
    },
    {
     "data": {
      "image/png": "[encoded data removed]",
      "text/plain": [
       "<Figure size 432x288 with 2 Axes>"
      ]
     },
     "metadata": {
      "needs_background": "light"
     },
     "output_type": "display_data"
    }
   ],
   "source": [
    "model = xgb.XGBClassifier(objective ='binary:logistic', learning_rate = 0.001, max_depth = 100, n_estimators = 1000,use_label_encoder =False , scale_pos_weight = 4)\n",
    "model.fit(X_train, y_train)\n",
    "y_pred = model.predict(X_test)\n",
    "print('Accuracy {} %'.format(100 * accuracy_score(y_test,y_pred)))\n",
    "cm = confusion_matrix(y_pred,y_test)\n",
    "sns.heatmap(cm , annot = True , fmt='g')\n",
    "print(classification_report(y_test , y_pred))"
   ]
  },
  {
   "cell_type": "markdown",
   "metadata": {},
   "source": [
    "### Sección 4.3.3 : Random Forest"
   ]
  },
  {
   "cell_type": "code",
   "execution_count": 103,
   "metadata": {},
   "outputs": [
    {
     "name": "stderr",
     "output_type": "stream",
     "text": [
      "<ipython-input-103-577145836293>:2: DataConversionWarning: A column-vector y was passed when a 1d array was expected. Please change the shape of y to (n_samples,), for example using ravel().\n",
      "  model.fit(X_train, y_train)\n"
     ]
    },
    {
     "name": "stdout",
     "output_type": "stream",
     "text": [
      "Accuracy 50.12472487160675 %\n",
      "              precision    recall  f1-score   support\n",
      "\n",
      "           0       0.89      0.45      0.59     11180\n",
      "           1       0.23      0.76      0.35      2450\n",
      "\n",
      "    accuracy                           0.50     13630\n",
      "   macro avg       0.56      0.60      0.47     13630\n",
      "weighted avg       0.77      0.50      0.55     13630\n",
      "\n"
     ]
    },
    {
     "data": {
      "image/png": "[encoded data removed]",
      "text/plain": [
       "<Figure size 432x288 with 2 Axes>"
      ]
     },
     "metadata": {
      "needs_background": "light"
     },
     "output_type": "display_data"
    }
   ],
   "source": [
    "model = RandomForestClassifier(class_weight={1: 6})\n",
    "model.fit(X_train, y_train)\n",
    "y_pred = model.predict(X_test)\n",
    "print('Accuracy {} %'.format(100 * accuracy_score(y_test,y_pred)))\n",
    "cm = confusion_matrix(y_pred,y_test)\n",
    "sns.heatmap(cm , annot = True , fmt='g')\n",
    "print(classification_report(y_test , y_pred))"
   ]
  },
  {
   "cell_type": "markdown",
   "metadata": {},
   "source": [
    "### Sección 4.3.4 : Decision Tree"
   ]
  },
  {
   "cell_type": "code",
   "execution_count": 104,
   "metadata": {},
   "outputs": [
    {
     "name": "stdout",
     "output_type": "stream",
     "text": [
      "Accuracy 49.00953778429934 %\n",
      "              precision    recall  f1-score   support\n",
      "\n",
      "           0       0.89      0.43      0.58     11180\n",
      "           1       0.23      0.77      0.35      2450\n",
      "\n",
      "    accuracy                           0.49     13630\n",
      "   macro avg       0.56      0.60      0.47     13630\n",
      "weighted avg       0.77      0.49      0.54     13630\n",
      "\n"
     ]
    },
    {
     "data": {
      "image/png": "[encoded data removed]",
      "text/plain": [
       "<Figure size 432x288 with 2 Axes>"
      ]
     },
     "metadata": {
      "needs_background": "light"
     },
     "output_type": "display_data"
    }
   ],
   "source": [
    "model = DecisionTreeClassifier(class_weight={1: 6})\n",
    "model = model.fit(X_train,y_train)\n",
    "y_pred = model.predict(X_test)\n",
    "print('Accuracy {} %'.format(100 * accuracy_score(y_test,y_pred)))\n",
    "cm = confusion_matrix(y_pred,y_test)\n",
    "sns.heatmap(cm , annot = True , fmt='g')\n",
    "print(classification_report(y_test , y_pred))"
   ]
  },
  {
   "cell_type": "markdown",
   "metadata": {},
   "source": [
    "## Sección 4.4 : Modelo incluyendo Tasas y Variables Anteriores"
   ]
  },
  {
   "cell_type": "code",
   "execution_count": 105,
   "metadata": {},
   "outputs": [],
   "source": [
    "X_mod_all = X.copy()"
   ]
  },
  {
   "cell_type": "code",
   "execution_count": 106,
   "metadata": {},
   "outputs": [],
   "source": [
    "dianom_categ = pd.get_dummies(X_mod_all[\"DIANOM\"], drop_first = True)\n",
    "tipovuelo_categ = pd.get_dummies(X_mod_all[\"TIPOVUELO\"], drop_first = True)\n",
    "periododia_categ = pd.get_dummies(X_mod_all[\"periodo_dia\"], drop_first = True)\n",
    "newdest_categ = pd.get_dummies(X_mod_all[\"NEWDEST\"], drop_first = True)\n",
    "opera_categ = pd.get_dummies(X_mod_all[\"OPERA\"], drop_first = True)\n",
    "freq_atraso_siglades_categ = pd.get_dummies(X[\"freq_atraso_siglades\"], drop_first = True)\n",
    "freq_atraso_opera_categ = pd.get_dummies(X[\"freq_atraso_opera\"], drop_first = True)\n",
    "X_mod_all.drop([\"DIANOM\" , \"TIPOVUELO\" , \"periodo_dia\" , \"NEWDEST\" , \"SIGLADES\" , \"OPERA\" , \"freq_atraso_siglades\" , \"freq_atraso_opera\" , \"atrasos_des\" , \"atrasos_opera\" ] , axis = 1 , inplace = True)\n",
    "X_mod_all = pd.concat([X_mod_all , dianom_categ , tipovuelo_categ , periododia_categ , newdest_categ , opera_categ , freq_atraso_siglades_categ , freq_atraso_opera_categ] , axis = 1)"
   ]
  },
  {
   "cell_type": "code",
   "execution_count": 107,
   "metadata": {},
   "outputs": [
    {
     "data": {
      "text/html": [
       "<div>\n",
       "<style scoped>\n",
       "    .dataframe tbody tr th:only-of-type {\n",
       "        vertical-align: middle;\n",
       "    }\n",
       "\n",
       "    .dataframe tbody tr th {\n",
       "        vertical-align: top;\n",
       "    }\n",
       "\n",
       "    .dataframe thead th {\n",
       "        text-align: right;\n",
       "    }\n",
       "</style>\n",
       "<table border=\"1\" class=\"dataframe\">\n",
       "  <thead>\n",
       "    <tr style=\"text-align: right;\">\n",
       "      <th></th>\n",
       "      <th>temporada_alta</th>\n",
       "      <th>rate_atrasado_SIGLADES</th>\n",
       "      <th>rate_atrasado_OPERA</th>\n",
       "      <th>rate_atrasado_month-O</th>\n",
       "      <th>rate_atrasado_DIANOM</th>\n",
       "      <th>rate_atrasado_TIPOVUELO</th>\n",
       "      <th>rate_atrasado_periodo_dia</th>\n",
       "      <th>Jueves</th>\n",
       "      <th>Lunes</th>\n",
       "      <th>Martes</th>\n",
       "      <th>Miercoles</th>\n",
       "      <th>Sabado</th>\n",
       "      <th>Viernes</th>\n",
       "      <th>N</th>\n",
       "      <th>noche</th>\n",
       "      <th>tarde</th>\n",
       "      <th>atraso_bajo</th>\n",
       "      <th>atraso_medio</th>\n",
       "      <th>Aeromexico</th>\n",
       "      <th>Air Canada</th>\n",
       "      <th>Air France</th>\n",
       "      <th>Alitalia</th>\n",
       "      <th>American Airlines</th>\n",
       "      <th>Austral</th>\n",
       "      <th>Avianca</th>\n",
       "      <th>British Airways</th>\n",
       "      <th>Copa Air</th>\n",
       "      <th>Delta Air</th>\n",
       "      <th>Gol Trans</th>\n",
       "      <th>Grupo LATAM</th>\n",
       "      <th>Iberia</th>\n",
       "      <th>JetSmart SPA</th>\n",
       "      <th>K.L.M.</th>\n",
       "      <th>Lacsa</th>\n",
       "      <th>Latin American Wings</th>\n",
       "      <th>Oceanair Linhas Aereas</th>\n",
       "      <th>Plus Ultra Lineas Aereas</th>\n",
       "      <th>Qantas Airways</th>\n",
       "      <th>Sky Airline</th>\n",
       "      <th>United Airlines</th>\n",
       "      <th>muy_frecuente_des</th>\n",
       "      <th>poco_frecuente_des</th>\n",
       "      <th>muy_frecuente_opera</th>\n",
       "      <th>poco_frecuente_opera</th>\n",
       "    </tr>\n",
       "  </thead>\n",
       "  <tbody>\n",
       "    <tr>\n",
       "      <th>0</th>\n",
       "      <td>1</td>\n",
       "      <td>0.19</td>\n",
       "      <td>0.07</td>\n",
       "      <td>0.16</td>\n",
       "      <td>0.16</td>\n",
       "      <td>0.23</td>\n",
       "      <td>0.2</td>\n",
       "      <td>0</td>\n",
       "      <td>0</td>\n",
       "      <td>0</td>\n",
       "      <td>0</td>\n",
       "      <td>0</td>\n",
       "      <td>0</td>\n",
       "      <td>0</td>\n",
       "      <td>1</td>\n",
       "      <td>0</td>\n",
       "      <td>1</td>\n",
       "      <td>0</td>\n",
       "      <td>0</td>\n",
       "      <td>0</td>\n",
       "      <td>0</td>\n",
       "      <td>0</td>\n",
       "      <td>1</td>\n",
       "      <td>0</td>\n",
       "      <td>0</td>\n",
       "      <td>0</td>\n",
       "      <td>0</td>\n",
       "      <td>0</td>\n",
       "      <td>0</td>\n",
       "      <td>0</td>\n",
       "      <td>0</td>\n",
       "      <td>0</td>\n",
       "      <td>0</td>\n",
       "      <td>0</td>\n",
       "      <td>0</td>\n",
       "      <td>0</td>\n",
       "      <td>0</td>\n",
       "      <td>0</td>\n",
       "      <td>0</td>\n",
       "      <td>0</td>\n",
       "      <td>0</td>\n",
       "      <td>1</td>\n",
       "      <td>0</td>\n",
       "      <td>1</td>\n",
       "    </tr>\n",
       "    <tr>\n",
       "      <th>1</th>\n",
       "      <td>1</td>\n",
       "      <td>0.19</td>\n",
       "      <td>0.07</td>\n",
       "      <td>0.16</td>\n",
       "      <td>0.16</td>\n",
       "      <td>0.23</td>\n",
       "      <td>0.2</td>\n",
       "      <td>0</td>\n",
       "      <td>0</td>\n",
       "      <td>0</td>\n",
       "      <td>0</td>\n",
       "      <td>0</td>\n",
       "      <td>0</td>\n",
       "      <td>0</td>\n",
       "      <td>1</td>\n",
       "      <td>0</td>\n",
       "      <td>1</td>\n",
       "      <td>0</td>\n",
       "      <td>0</td>\n",
       "      <td>0</td>\n",
       "      <td>0</td>\n",
       "      <td>0</td>\n",
       "      <td>1</td>\n",
       "      <td>0</td>\n",
       "      <td>0</td>\n",
       "      <td>0</td>\n",
       "      <td>0</td>\n",
       "      <td>0</td>\n",
       "      <td>0</td>\n",
       "      <td>0</td>\n",
       "      <td>0</td>\n",
       "      <td>0</td>\n",
       "      <td>0</td>\n",
       "      <td>0</td>\n",
       "      <td>0</td>\n",
       "      <td>0</td>\n",
       "      <td>0</td>\n",
       "      <td>0</td>\n",
       "      <td>0</td>\n",
       "      <td>0</td>\n",
       "      <td>0</td>\n",
       "      <td>1</td>\n",
       "      <td>0</td>\n",
       "      <td>1</td>\n",
       "    </tr>\n",
       "  </tbody>\n",
       "</table>\n",
       "</div>"
      ],
      "text/plain": [
       "   temporada_alta  rate_atrasado_SIGLADES  rate_atrasado_OPERA  \\\n",
       "0               1                    0.19                 0.07   \n",
       "1               1                    0.19                 0.07   \n",
       "\n",
       "   rate_atrasado_month-O  rate_atrasado_DIANOM  rate_atrasado_TIPOVUELO  \\\n",
       "0                   0.16                  0.16                     0.23   \n",
       "1                   0.16                  0.16                     0.23   \n",
       "\n",
       "   rate_atrasado_periodo_dia  Jueves  Lunes  Martes  Miercoles  Sabado  \\\n",
       "0                        0.2       0      0       0          0       0   \n",
       "1                        0.2       0      0       0          0       0   \n",
       "\n",
       "   Viernes  N  noche  tarde  atraso_bajo  atraso_medio  Aeromexico  \\\n",
       "0        0  0      1      0            1             0           0   \n",
       "1        0  0      1      0            1             0           0   \n",
       "\n",
       "   Air Canada  Air France  Alitalia  American Airlines  Austral  Avianca  \\\n",
       "0           0           0         0                  1        0        0   \n",
       "1           0           0         0                  1        0        0   \n",
       "\n",
       "   British Airways  Copa Air  Delta Air  Gol Trans  Grupo LATAM  Iberia  \\\n",
       "0                0         0          0          0            0       0   \n",
       "1                0         0          0          0            0       0   \n",
       "\n",
       "   JetSmart SPA  K.L.M.  Lacsa  Latin American Wings  Oceanair Linhas Aereas  \\\n",
       "0             0       0      0                     0                       0   \n",
       "1             0       0      0                     0                       0   \n",
       "\n",
       "   Plus Ultra Lineas Aereas  Qantas Airways  Sky Airline  United Airlines  \\\n",
       "0                         0               0            0                0   \n",
       "1                         0               0            0                0   \n",
       "\n",
       "   muy_frecuente_des  poco_frecuente_des  muy_frecuente_opera  \\\n",
       "0                  0                   1                    0   \n",
       "1                  0                   1                    0   \n",
       "\n",
       "   poco_frecuente_opera  \n",
       "0                     1  \n",
       "1                     1  "
      ]
     },
     "execution_count": 107,
     "metadata": {},
     "output_type": "execute_result"
    }
   ],
   "source": [
    "X_mod_all.head(2)"
   ]
  },
  {
   "cell_type": "code",
   "execution_count": 109,
   "metadata": {},
   "outputs": [],
   "source": [
    "X_train, X_test, y_train, y_test = train_test_split(X_mod_all, y, test_size=0.2, random_state=42)"
   ]
  },
  {
   "cell_type": "markdown",
   "metadata": {},
   "source": [
    "### Sección 4.4.1 : Logistic Regression"
   ]
  },
  {
   "cell_type": "code",
   "execution_count": 110,
   "metadata": {},
   "outputs": [
    {
     "name": "stderr",
     "output_type": "stream",
     "text": [
      "C:\\Users\\marce\\anaconda3\\lib\\site-packages\\sklearn\\utils\\validation.py:73: DataConversionWarning: A column-vector y was passed when a 1d array was expected. Please change the shape of y to (n_samples, ), for example using ravel().\n",
      "  return f(**kwargs)\n"
     ]
    },
    {
     "name": "stdout",
     "output_type": "stream",
     "text": [
      "Accuracy 50.47688921496698 %\n",
      "              precision    recall  f1-score   support\n",
      "\n",
      "           0       0.91      0.44      0.59     11180\n",
      "           1       0.24      0.79      0.36      2450\n",
      "\n",
      "    accuracy                           0.50     13630\n",
      "   macro avg       0.57      0.62      0.48     13630\n",
      "weighted avg       0.79      0.50      0.55     13630\n",
      "\n"
     ]
    },
    {
     "data": {
      "image/png": "[encoded data removed]",
      "text/plain": [
       "<Figure size 432x288 with 2 Axes>"
      ]
     },
     "metadata": {
      "needs_background": "light"
     },
     "output_type": "display_data"
    }
   ],
   "source": [
    "model = LogisticRegression(class_weight={1: 6},max_iter=1000)\n",
    "model.fit(X_train, y_train)\n",
    "y_pred1 = model.predict(X_test)\n",
    "print('Accuracy {} %'.format(100 * accuracy_score(y_test,y_pred1)))\n",
    "cm = confusion_matrix(y_pred1,y_test)\n",
    "sns.heatmap(cm , annot = True , fmt='g')\n",
    "print(classification_report(y_test , y_pred1))"
   ]
  },
  {
   "cell_type": "markdown",
   "metadata": {},
   "source": [
    "### Sección 4.4.2 : XGBoost"
   ]
  },
  {
   "cell_type": "code",
   "execution_count": 111,
   "metadata": {},
   "outputs": [
    {
     "name": "stdout",
     "output_type": "stream",
     "text": [
      "[21:21:16] WARNING: C:/Users/Administrator/workspace/xgboost-win64_release_1.3.0/src/learner.cc:1061: Starting in XGBoost 1.3.0, the default evaluation metric used with the objective 'binary:logistic' was changed from 'error' to 'logloss'. Explicitly set eval_metric if you'd like to restore the old behavior.\n",
      "Accuracy 66.77182685253118 %\n",
      "              precision    recall  f1-score   support\n",
      "\n",
      "           0       0.88      0.69      0.77     11180\n",
      "           1       0.28      0.56      0.38      2450\n",
      "\n",
      "    accuracy                           0.67     13630\n",
      "   macro avg       0.58      0.62      0.57     13630\n",
      "weighted avg       0.77      0.67      0.70     13630\n",
      "\n"
     ]
    },
    {
     "data": {
      "image/png": "[encoded data removed]",
      "text/plain": [
       "<Figure size 432x288 with 2 Axes>"
      ]
     },
     "metadata": {
      "needs_background": "light"
     },
     "output_type": "display_data"
    }
   ],
   "source": [
    "model = xgb.XGBClassifier(objective ='binary:logistic', learning_rate = 0.001, max_depth = 100, n_estimators = 1000,use_label_encoder =False , scale_pos_weight = 4)\n",
    "model.fit(X_train, y_train)\n",
    "y_pred = model.predict(X_test)\n",
    "print('Accuracy {} %'.format(100 * accuracy_score(y_test,y_pred)))\n",
    "cm = confusion_matrix(y_pred,y_test)\n",
    "sns.heatmap(cm , annot = True , fmt='g')\n",
    "print(classification_report(y_test , y_pred))"
   ]
  },
  {
   "cell_type": "markdown",
   "metadata": {},
   "source": [
    "### Sección 4.4.3 : Random Forest"
   ]
  },
  {
   "cell_type": "code",
   "execution_count": 112,
   "metadata": {},
   "outputs": [
    {
     "name": "stderr",
     "output_type": "stream",
     "text": [
      "<ipython-input-112-577145836293>:2: DataConversionWarning: A column-vector y was passed when a 1d array was expected. Please change the shape of y to (n_samples,), for example using ravel().\n",
      "  model.fit(X_train, y_train)\n"
     ]
    },
    {
     "name": "stdout",
     "output_type": "stream",
     "text": [
      "Accuracy 65.30447542186354 %\n",
      "              precision    recall  f1-score   support\n",
      "\n",
      "           0       0.87      0.68      0.76     11180\n",
      "           1       0.26      0.52      0.35      2450\n",
      "\n",
      "    accuracy                           0.65     13630\n",
      "   macro avg       0.57      0.60      0.56     13630\n",
      "weighted avg       0.76      0.65      0.69     13630\n",
      "\n"
     ]
    },
    {
     "data": {
      "image/png": "[encoded data removed]",
      "text/plain": [
       "<Figure size 432x288 with 2 Axes>"
      ]
     },
     "metadata": {
      "needs_background": "light"
     },
     "output_type": "display_data"
    }
   ],
   "source": [
    "model = RandomForestClassifier(class_weight={1: 6})\n",
    "model.fit(X_train, y_train)\n",
    "y_pred = model.predict(X_test)\n",
    "print('Accuracy {} %'.format(100 * accuracy_score(y_test,y_pred)))\n",
    "cm = confusion_matrix(y_pred,y_test)\n",
    "sns.heatmap(cm , annot = True , fmt='g')\n",
    "print(classification_report(y_test , y_pred))"
   ]
  },
  {
   "cell_type": "markdown",
   "metadata": {},
   "source": [
    "### Sección 4.4.4 : Decision Tree"
   ]
  },
  {
   "cell_type": "code",
   "execution_count": 114,
   "metadata": {},
   "outputs": [
    {
     "name": "stdout",
     "output_type": "stream",
     "text": [
      "Accuracy 59.40572267057961 %\n",
      "              precision    recall  f1-score   support\n",
      "\n",
      "           0       0.87      0.59      0.71     11180\n",
      "           1       0.24      0.60      0.35      2450\n",
      "\n",
      "    accuracy                           0.59     13630\n",
      "   macro avg       0.56      0.60      0.53     13630\n",
      "weighted avg       0.76      0.59      0.64     13630\n",
      "\n"
     ]
    },
    {
     "data": {
      "image/png": "[encoded data removed]",
      "text/plain": [
       "<Figure size 432x288 with 2 Axes>"
      ]
     },
     "metadata": {
      "needs_background": "light"
     },
     "output_type": "display_data"
    }
   ],
   "source": [
    "model = DecisionTreeClassifier(class_weight={1: 6})\n",
    "model = model.fit(X_train,y_train)\n",
    "y_pred = model.predict(X_test)\n",
    "print('Accuracy {} %'.format(100 * accuracy_score(y_test,y_pred)))\n",
    "cm = confusion_matrix(y_pred,y_test)\n",
    "sns.heatmap(cm , annot = True , fmt='g')\n",
    "print(classification_report(y_test , y_pred))"
   ]
  },
  {
   "cell_type": "markdown",
   "metadata": {},
   "source": [
    "# Sección 5 : Evaluación de Modelos"
   ]
  },
  {
   "cell_type": "markdown",
   "metadata": {},
   "source": [
    "Es evidente el gran desbalanceo que existe entre vuelos atrasados y no atrasados. Por lo mismo no podemos utilizar __Accuracy__ como métrica de evaluación ya que podríamos tener un modelo que dijera que todos los vuelos serán puntuales y tendríamos un __Accuracy de 82% (11180 / 13630)__.  \n",
    "\n",
    "Para éstos casos debemos fijarnos en la __Precisión y/o Recall__ del modelo. La decisión de qué medida privilegiar depende del problema que queremos resolver y nuestro usuario final. Es decir, qué nos importa más, evitar los __Falsos Positivos (Decir que un vuelo se va a atrasar, pero en realidad no se atrasa)__ o los __Falsos Negativos (Decir que un vuelo será puntual, pero en realidad se atrasará__. \n",
    "\n",
    "Considerando la experiencia del usuario y luego de una breve encuesta realizada a algunas personas, lo mejor es evitar los __Falsos Negativos__ ya que si una persona cree que su vuelo saldrá a la hora y éste no lo hace, tendrá que mover de forma apresurada todos sus planes futuros : reuniones , eventos, comidas, etc. Sin embargo, si un pasajero es notificado que su vuelo saldrá más tarde podrá reagendar, no todos, pero sin duda alguna y de mejor manera sus futuros eventos. Si además el vuelo llega de forma puntual, será un mayor beneficio para el pasajero. Por lo anterior es que la métrica utilizada para evaluar los modelos corresponde a __Recall__."
   ]
  },
  {
   "cell_type": "markdown",
   "metadata": {},
   "source": [
    "Se ejecutaron diferentes modelos con difrentes combinaciones de variables. Por un tema de espacio y resultados no se colocaron todos y solamente algunos que permiten explicar la gran mayoría de los resultados. Hay que partir de la base que se trata de un problema con un fuerte desbalanceo lo que aumenta aun más su dificultad.  \n",
    "\n",
    "Si nos vamos a la medida que nos interesa, que es __Recall__ el mejor modelo fue la __Regresión Logística__ utilizando solo las tasas  obteniendo un __82%__ en la métrica especificada. De los 2450 vuelos realmente atrasados, el modelo logra detectar correctamente 2005. Sin embargo, ésto va a costa de una precisión muy baja (22%), esto quiere decir que de los 9114 vuelos predichos como atrasados, 7109 fueron incorrectamente clasificados.\n",
    "\n",
    "Ahora también podríamos escoger un XGBoost con una considerable menor Recall (__56%__), pero logra clasificar una mayor cantidad de vuelos puntuales de forma correcta. En particular logra clasificar mejor 3300 vuelos, una considerable mejora en comparación a lo anterior. El resto de los modelos no marcó una gran diferencia en comparación a éstos dos que fueron los principales. \n",
    "\n",
    "Sin duda alguna hay una gran cantidad de mejoras que se pueden realizar como la creación de nuevas variables , creación de cadenas de modelos que permitieran reducir la variabilidad de los datos, aumentar la cantidad de datos con las cuáles trabajar entre otras."
   ]
  },
  {
   "cell_type": "code",
   "execution_count": null,
   "metadata": {},
   "outputs": [],
   "source": []
  }
 ],
 "metadata": {
  "kernelspec": {
   "display_name": "Python 3",
   "language": "python",
   "name": "python3"
  },
  "language_info": {
   "codemirror_mode": {
    "name": "ipython",
    "version": 3
   },
   "file_extension": ".py",
   "mimetype": "text/x-python",
   "name": "python",
   "nbconvert_exporter": "python",
   "pygments_lexer": "ipython3",
   "version": "3.8.3"
  }
 },
 "nbformat": 4,
 "nbformat_minor": 4
}
