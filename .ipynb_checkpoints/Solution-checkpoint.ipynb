{
 "cells": [
  {
   "cell_type": "markdown",
   "metadata": {},
   "source": [
    "# Data Scientist Challenge | Marcelo Torres Cisterna"
   ]
  },
  {
   "cell_type": "markdown",
   "metadata": {},
   "source": [
    "El presente notebook tiene por objetivo el desarrollo de un modelo de IA que permita identificar la probabilidad que un vuelo se atrase o no. Es conocido que éste es un problema que se da en la realidad y lo ideal es minimizar estos atrasos lo máximo posible."
   ]
  },
  {
   "cell_type": "markdown",
   "metadata": {},
   "source": [
    "# <font color='darkblue'>Estructura del Notebook</font>"
   ]
  },
  {
   "cell_type": "markdown",
   "metadata": {},
   "source": [
    "[Sección 1 : Exploratory Data Analysis](#Sección-1-:-Exploratory-Data-Analysis)  \n",
    "[Sección 2 : Synthetic Features](#Sección-2-:-Synthetic-Features)  \n",
    "[Sección 3 : Tasas de Atrasos](#Sección-3-:-Tasas-de-Atrasos)  \n",
    "[Sección 4 : Desarrollo de Modelos](#Sección-4-:-Desarrollo-de-Modelos)  \n",
    "[Sección 5 : Evaluación de Modelos](#Sección-5-:-Evaluación-de-Modelos)  "
   ]
  },
  {
   "cell_type": "code",
   "execution_count": 1,
   "metadata": {},
   "outputs": [],
   "source": [
    "import pandas as pd\n",
    "import numpy as np\n",
    "import seaborn as sns\n",
    "import matplotlib.pyplot as plt\n",
    "pd.set_option('display.max_columns', None)\n",
    "from sklearn.metrics import accuracy_score,precision_score,recall_score\n",
    "from sklearn.metrics import confusion_matrix, classification_report\n",
    "from sklearn.model_selection import train_test_split\n",
    "from sklearn.linear_model import LogisticRegression\n",
    "from sklearn.ensemble import RandomForestClassifier"
   ]
  },
  {
   "cell_type": "code",
   "execution_count": 2,
   "metadata": {},
   "outputs": [
    {
     "name": "stderr",
     "output_type": "stream",
     "text": [
      "C:\\Users\\marce\\anaconda3\\lib\\site-packages\\IPython\\core\\interactiveshell.py:3071: DtypeWarning: Columns (1,6) have mixed types.Specify dtype option on import or set low_memory=False.\n",
      "  has_raised = await self.run_ast_nodes(code_ast.body, cell_name,\n"
     ]
    }
   ],
   "source": [
    "data = pd.read_csv(\"dataset_SCL.csv\")"
   ]
  },
  {
   "cell_type": "markdown",
   "metadata": {},
   "source": [
    "# Sección 1 : Exploratory Data Analysis"
   ]
  },
  {
   "cell_type": "code",
   "execution_count": 3,
   "metadata": {},
   "outputs": [
    {
     "name": "stdout",
     "output_type": "stream",
     "text": [
      "<class 'pandas.core.frame.DataFrame'>\n",
      "RangeIndex: 68206 entries, 0 to 68205\n",
      "Data columns (total 18 columns):\n",
      " #   Column     Non-Null Count  Dtype \n",
      "---  ------     --------------  ----- \n",
      " 0   Fecha-I    68206 non-null  object\n",
      " 1   Vlo-I      68206 non-null  object\n",
      " 2   Ori-I      68206 non-null  object\n",
      " 3   Des-I      68206 non-null  object\n",
      " 4   Emp-I      68206 non-null  object\n",
      " 5   Fecha-O    68206 non-null  object\n",
      " 6   Vlo-O      68205 non-null  object\n",
      " 7   Ori-O      68206 non-null  object\n",
      " 8   Des-O      68206 non-null  object\n",
      " 9   Emp-O      68206 non-null  object\n",
      " 10  DIA        68206 non-null  int64 \n",
      " 11  MES        68206 non-null  int64 \n",
      " 12  AÑO        68206 non-null  int64 \n",
      " 13  DIANOM     68206 non-null  object\n",
      " 14  TIPOVUELO  68206 non-null  object\n",
      " 15  OPERA      68206 non-null  object\n",
      " 16  SIGLAORI   68206 non-null  object\n",
      " 17  SIGLADES   68206 non-null  object\n",
      "dtypes: int64(3), object(15)\n",
      "memory usage: 9.4+ MB\n"
     ]
    }
   ],
   "source": [
    "data.info()"
   ]
  },
  {
   "cell_type": "code",
   "execution_count": 4,
   "metadata": {},
   "outputs": [
    {
     "data": {
      "text/html": [
       "<div>\n",
       "<style scoped>\n",
       "    .dataframe tbody tr th:only-of-type {\n",
       "        vertical-align: middle;\n",
       "    }\n",
       "\n",
       "    .dataframe tbody tr th {\n",
       "        vertical-align: top;\n",
       "    }\n",
       "\n",
       "    .dataframe thead th {\n",
       "        text-align: right;\n",
       "    }\n",
       "</style>\n",
       "<table border=\"1\" class=\"dataframe\">\n",
       "  <thead>\n",
       "    <tr style=\"text-align: right;\">\n",
       "      <th></th>\n",
       "      <th>DIA</th>\n",
       "      <th>MES</th>\n",
       "      <th>AÑO</th>\n",
       "    </tr>\n",
       "  </thead>\n",
       "  <tbody>\n",
       "    <tr>\n",
       "      <th>count</th>\n",
       "      <td>68206.000000</td>\n",
       "      <td>68206.000000</td>\n",
       "      <td>68206.000000</td>\n",
       "    </tr>\n",
       "    <tr>\n",
       "      <th>mean</th>\n",
       "      <td>15.714790</td>\n",
       "      <td>6.622585</td>\n",
       "      <td>2017.000029</td>\n",
       "    </tr>\n",
       "    <tr>\n",
       "      <th>std</th>\n",
       "      <td>8.782886</td>\n",
       "      <td>3.523321</td>\n",
       "      <td>0.005415</td>\n",
       "    </tr>\n",
       "    <tr>\n",
       "      <th>min</th>\n",
       "      <td>1.000000</td>\n",
       "      <td>1.000000</td>\n",
       "      <td>2017.000000</td>\n",
       "    </tr>\n",
       "    <tr>\n",
       "      <th>25%</th>\n",
       "      <td>8.000000</td>\n",
       "      <td>3.000000</td>\n",
       "      <td>2017.000000</td>\n",
       "    </tr>\n",
       "    <tr>\n",
       "      <th>50%</th>\n",
       "      <td>16.000000</td>\n",
       "      <td>7.000000</td>\n",
       "      <td>2017.000000</td>\n",
       "    </tr>\n",
       "    <tr>\n",
       "      <th>75%</th>\n",
       "      <td>23.000000</td>\n",
       "      <td>10.000000</td>\n",
       "      <td>2017.000000</td>\n",
       "    </tr>\n",
       "    <tr>\n",
       "      <th>max</th>\n",
       "      <td>31.000000</td>\n",
       "      <td>12.000000</td>\n",
       "      <td>2018.000000</td>\n",
       "    </tr>\n",
       "  </tbody>\n",
       "</table>\n",
       "</div>"
      ],
      "text/plain": [
       "                DIA           MES           AÑO\n",
       "count  68206.000000  68206.000000  68206.000000\n",
       "mean      15.714790      6.622585   2017.000029\n",
       "std        8.782886      3.523321      0.005415\n",
       "min        1.000000      1.000000   2017.000000\n",
       "25%        8.000000      3.000000   2017.000000\n",
       "50%       16.000000      7.000000   2017.000000\n",
       "75%       23.000000     10.000000   2017.000000\n",
       "max       31.000000     12.000000   2018.000000"
      ]
     },
     "execution_count": 4,
     "metadata": {},
     "output_type": "execute_result"
    }
   ],
   "source": [
    "data.describe()"
   ]
  },
  {
   "cell_type": "markdown",
   "metadata": {},
   "source": [
    "Primero, notamos que existen algunas Features que corresponden a fechas, pero no están en formato datetime, formato que nos facilita mucho más el trabajo para obtener datos a partir de fechas."
   ]
  },
  {
   "cell_type": "code",
   "execution_count": 5,
   "metadata": {},
   "outputs": [],
   "source": [
    "data[[\"Fecha-I\", \"Fecha-O\"]] = data[[\"Fecha-I\", \"Fecha-O\"]].apply(pd.to_datetime)"
   ]
  },
  {
   "cell_type": "markdown",
   "metadata": {},
   "source": [
    "Usando el nuevo formato, obtenemos algunas Features nuevas para nuestro análisis."
   ]
  },
  {
   "cell_type": "code",
   "execution_count": 6,
   "metadata": {},
   "outputs": [],
   "source": [
    "data['year-I'] = [x.year for x in data[\"Fecha-I\"]]\n",
    "data['year-O'] = [x.year for x in data[\"Fecha-O\"]]\n",
    "data['month-I'] = [x.month for x in data[\"Fecha-I\"]]\n",
    "data['month-O'] = [x.month for x in data[\"Fecha-O\"]]    \n",
    "data['day-I'] = [x.day for x in data[\"Fecha-I\"]]\n",
    "data['day-O'] = [x.day for x in data[\"Fecha-O\"]]    "
   ]
  },
  {
   "cell_type": "markdown",
   "metadata": {},
   "source": [
    "Borramos features repetidas"
   ]
  },
  {
   "cell_type": "code",
   "execution_count": 7,
   "metadata": {},
   "outputs": [],
   "source": [
    "data.drop([\"DIA\" , \"MES\" , \"AÑO\"] , axis = 1 , inplace = True)"
   ]
  },
  {
   "cell_type": "code",
   "execution_count": 8,
   "metadata": {},
   "outputs": [
    {
     "data": {
      "text/plain": [
       "year-I  year-O\n",
       "2017    2017      68204\n",
       "        2018          2\n",
       "dtype: int64"
      ]
     },
     "execution_count": 8,
     "metadata": {},
     "output_type": "execute_result"
    }
   ],
   "source": [
    "data.groupby([\"year-I\",\"year-O\"]).size()"
   ]
  },
  {
   "cell_type": "markdown",
   "metadata": {},
   "source": [
    "Notamos que el dataset se basa en datos del año 2017, hay dos vuelos cuya fecha de operación es de 2018 y eso es porque el vuelo estaba programado para el 31 de Diciembre y operó pasada las 00 horas"
   ]
  },
  {
   "cell_type": "markdown",
   "metadata": {},
   "source": [
    "## Sección 1.1 : Análisis Por Fechas"
   ]
  },
  {
   "cell_type": "code",
   "execution_count": 9,
   "metadata": {},
   "outputs": [
    {
     "data": {
      "image/png": "[encoded data removed]",
      "text/plain": [
       "<Figure size 864x216 with 1 Axes>"
      ]
     },
     "metadata": {
      "needs_background": "light"
     },
     "output_type": "display_data"
    }
   ],
   "source": [
    "plt.figure(figsize =(12,3))\n",
    "plt.title(\"Distribución de Vuelos Según Mes\")\n",
    "sns.countplot(x = \"month-I\" , data = data , palette = \"autumn\")\n",
    "plt.xlabel(\"Meses\");"
   ]
  },
  {
   "cell_type": "code",
   "execution_count": 10,
   "metadata": {},
   "outputs": [
    {
     "data": {
      "image/png": "[encoded data removed]",
      "text/plain": [
       "<Figure size 1080x216 with 1 Axes>"
      ]
     },
     "metadata": {
      "needs_background": "light"
     },
     "output_type": "display_data"
    }
   ],
   "source": [
    "plt.figure(figsize =(15,3))\n",
    "plt.title(\"Distribución de Vuelos Según Día\")\n",
    "sns.countplot(x = \"day-I\" , data = data , palette = \"winter\")\n",
    "plt.xlabel(\"Días\");"
   ]
  },
  {
   "cell_type": "markdown",
   "metadata": {},
   "source": [
    "Notamos que en cuanto a la distribución __Mensual__ de los datos, hay tres fechas principales en las que se presenta una mayor cantidad de vuelos: __Enero, Julio y Diciembre__. A priori, una conclusión de lo anterior es debido a las fechas relacionadas a las vacaciones de verano e invierno. Por otra parte, cuando analizamos el comportamiento diario notamos un patrón más o menos similar a excepción del día __31 de Diciembre__, lo anterior ya que es el día de año nuevo y muchas personas probablemente quieran pasar ese día festivo con familiares y amigos."
   ]
  },
  {
   "cell_type": "code",
   "execution_count": 11,
   "metadata": {},
   "outputs": [
    {
     "data": {
      "image/png": "[encoded data removed]",
      "text/plain": [
       "<Figure size 864x576 with 1 Axes>"
      ]
     },
     "metadata": {
      "needs_background": "light"
     },
     "output_type": "display_data"
    }
   ],
   "source": [
    "plt.figure(figsize =(12,8))\n",
    "plt.title(\"Distribución de Vuelos Según Día de la Semana\")\n",
    "sns.countplot(x = \"DIANOM\" , data = data , palette = \"summer\" , order=['Lunes', 'Martes', 'Miercoles', 'Jueves', 'Viernes' , 'Sabado' , 'Domingo'])\n",
    "plt.xlabel(\"Día de la Semana\");"
   ]
  },
  {
   "cell_type": "markdown",
   "metadata": {},
   "source": [
    "En cuanto a día de la semana __Lunes , Jueves y Viernes__ lideran los vuelos."
   ]
  },
  {
   "cell_type": "markdown",
   "metadata": {},
   "source": [
    "## Sección 1.2 : Análisis Por Origen y Destino"
   ]
  },
  {
   "cell_type": "code",
   "execution_count": 12,
   "metadata": {},
   "outputs": [
    {
     "data": {
      "text/plain": [
       "Ori-I\n",
       "SCEL    68206\n",
       "dtype: int64"
      ]
     },
     "execution_count": 12,
     "metadata": {},
     "output_type": "execute_result"
    }
   ],
   "source": [
    "data.groupby(\"Ori-I\").size()"
   ]
  },
  {
   "cell_type": "code",
   "execution_count": 13,
   "metadata": {},
   "outputs": [
    {
     "data": {
      "text/plain": [
       "Ori-O\n",
       "SCEL    68206\n",
       "dtype: int64"
      ]
     },
     "execution_count": 13,
     "metadata": {},
     "output_type": "execute_result"
    }
   ],
   "source": [
    "data.groupby(\"Ori-O\").size()"
   ]
  },
  {
   "cell_type": "code",
   "execution_count": 14,
   "metadata": {},
   "outputs": [
    {
     "data": {
      "text/plain": [
       "SIGLAORI\n",
       "Santiago    68206\n",
       "dtype: int64"
      ]
     },
     "execution_count": 14,
     "metadata": {},
     "output_type": "execute_result"
    }
   ],
   "source": [
    "data.groupby(\"SIGLAORI\").size()"
   ]
  },
  {
   "cell_type": "markdown",
   "metadata": {},
   "source": [
    "Aquí es donde notamos algo interesante. Todos los vuelos del dataset tienen como origen tanto programado como de operación la ciudad de Santiago. Lo anterior quiere decir que todos los vuelos son solamente vuelos __desde__ Santiago y no __desde y hacia__ como menciona la descripción del dataset. Por lo tanto éstas columnas no nos sirven y se eliminan."
   ]
  },
  {
   "cell_type": "code",
   "execution_count": 15,
   "metadata": {},
   "outputs": [],
   "source": [
    "data.drop([\"Ori-I\" , \"Ori-O\" , \"SIGLAORI\"] , axis = 1 , inplace = True)"
   ]
  },
  {
   "cell_type": "code",
   "execution_count": 16,
   "metadata": {},
   "outputs": [
    {
     "data": {
      "image/png": "[encoded data removed]",
      "text/plain": [
       "<Figure size 1296x576 with 1 Axes>"
      ]
     },
     "metadata": {
      "needs_background": "light"
     },
     "output_type": "display_data"
    }
   ],
   "source": [
    "plt.figure(figsize =(18,8))\n",
    "plt.title(\"Distribución de Vuelos Según Destino\")\n",
    "sns.countplot(x = \"SIGLADES\" , data = data , palette = \"autumn\" , order = data['SIGLADES'].value_counts().index[:10]);\n",
    "plt.xlabel(\"Destinos\");"
   ]
  },
  {
   "cell_type": "code",
   "execution_count": 17,
   "metadata": {},
   "outputs": [],
   "source": [
    "data[\"DestVerificacion\"] = data[\"Des-I\"] == data[\"Des-O\"]"
   ]
  },
  {
   "cell_type": "code",
   "execution_count": 18,
   "metadata": {},
   "outputs": [
    {
     "data": {
      "text/plain": [
       "DestVerificacion\n",
       "False       28\n",
       "True     68178\n",
       "dtype: int64"
      ]
     },
     "execution_count": 18,
     "metadata": {},
     "output_type": "execute_result"
    }
   ],
   "source": [
    "data.groupby(\"DestVerificacion\").size()"
   ]
  },
  {
   "cell_type": "markdown",
   "metadata": {},
   "source": [
    "La ubicación con la mayor cantidad de viajes corresponde a la ciudad de __Buenos Aires__ seguido de __Antofagasta__ . Otra cosa importante que notamos es que hay 28 casos en los que el __Destino Programado__ es diferente al __Destino de Operación__ . Esta situación resulta un poco extraña ya que cuando uno agenda un vuelo, uno espera llegar al destino que fue solicitado y no otro. El hecho que existieran algunos vuelos en los que estos destinos eran diferentes se pudo haber debido por ejemplo a alguna falla técnica que generó algún aterrizaje de emergencia o algo por el estilo. Para efectos del estudio, se considerarán como __Outliers__."
   ]
  },
  {
   "cell_type": "code",
   "execution_count": 19,
   "metadata": {},
   "outputs": [],
   "source": [
    "data = data[data.DestVerificacion == True]"
   ]
  },
  {
   "cell_type": "code",
   "execution_count": 20,
   "metadata": {},
   "outputs": [
    {
     "data": {
      "image/png": "[encoded data removed]",
      "text/plain": [
       "<Figure size 576x360 with 1 Axes>"
      ]
     },
     "metadata": {
      "needs_background": "light"
     },
     "output_type": "display_data"
    }
   ],
   "source": [
    "plt.figure(figsize =(8,5))\n",
    "plt.title(\"Distribución de Vuelos Según Tipo de Viaje\")\n",
    "sns.countplot(y = \"TIPOVUELO\" , data = data , palette = \"Blues\");\n",
    "plt.xlabel(\"Tipo de Viaje\");"
   ]
  },
  {
   "cell_type": "markdown",
   "metadata": {},
   "source": [
    "Por otra parte, la cantidad de vuelos tanto __Nacionales como Internacionales__ es más o menos similar."
   ]
  },
  {
   "cell_type": "markdown",
   "metadata": {},
   "source": [
    "## Sección 1.3 : Análisis Por Aerolínea"
   ]
  },
  {
   "cell_type": "code",
   "execution_count": 21,
   "metadata": {},
   "outputs": [
    {
     "data": {
      "image/png": "[encoded data removed]",
      "text/plain": [
       "<Figure size 1296x576 with 1 Axes>"
      ]
     },
     "metadata": {
      "needs_background": "light"
     },
     "output_type": "display_data"
    }
   ],
   "source": [
    "plt.figure(figsize =(18,8))\n",
    "plt.title(\"Distribución de Vuelos Según Aerolínea Que Opera\")\n",
    "sns.countplot(x = \"OPERA\" , data = data , palette = \"autumn\");\n",
    "plt.xlabel(\"Aerolínea\")\n",
    "plt.xticks(rotation=45);"
   ]
  },
  {
   "cell_type": "code",
   "execution_count": 22,
   "metadata": {},
   "outputs": [],
   "source": [
    "data[\"EmpVer\"] = data[\"Emp-I\"] == data[\"Emp-O\"]"
   ]
  },
  {
   "cell_type": "code",
   "execution_count": 23,
   "metadata": {},
   "outputs": [
    {
     "data": {
      "text/plain": [
       "EmpVer\n",
       "False    18659\n",
       "True     49519\n",
       "dtype: int64"
      ]
     },
     "execution_count": 23,
     "metadata": {},
     "output_type": "execute_result"
    }
   ],
   "source": [
    "data.groupby(\"EmpVer\").size()"
   ]
  },
  {
   "cell_type": "code",
   "execution_count": 24,
   "metadata": {},
   "outputs": [
    {
     "data": {
      "text/html": [
       "<div>\n",
       "<style scoped>\n",
       "    .dataframe tbody tr th:only-of-type {\n",
       "        vertical-align: middle;\n",
       "    }\n",
       "\n",
       "    .dataframe tbody tr th {\n",
       "        vertical-align: top;\n",
       "    }\n",
       "\n",
       "    .dataframe thead th {\n",
       "        text-align: right;\n",
       "    }\n",
       "</style>\n",
       "<table border=\"1\" class=\"dataframe\">\n",
       "  <thead>\n",
       "    <tr style=\"text-align: right;\">\n",
       "      <th></th>\n",
       "      <th>Fecha-I</th>\n",
       "      <th>Vlo-I</th>\n",
       "      <th>Des-I</th>\n",
       "      <th>Emp-I</th>\n",
       "      <th>Fecha-O</th>\n",
       "      <th>Vlo-O</th>\n",
       "      <th>Des-O</th>\n",
       "      <th>Emp-O</th>\n",
       "      <th>DIANOM</th>\n",
       "      <th>TIPOVUELO</th>\n",
       "      <th>OPERA</th>\n",
       "      <th>SIGLADES</th>\n",
       "      <th>year-I</th>\n",
       "      <th>year-O</th>\n",
       "      <th>month-I</th>\n",
       "      <th>month-O</th>\n",
       "      <th>day-I</th>\n",
       "      <th>day-O</th>\n",
       "      <th>DestVerificacion</th>\n",
       "      <th>EmpVer</th>\n",
       "    </tr>\n",
       "  </thead>\n",
       "  <tbody>\n",
       "    <tr>\n",
       "      <th>345</th>\n",
       "      <td>2017-01-21 22:30:00</td>\n",
       "      <td>2291</td>\n",
       "      <td>SABE</td>\n",
       "      <td>AUT</td>\n",
       "      <td>2017-01-21 22:28:00</td>\n",
       "      <td>2291</td>\n",
       "      <td>SABE</td>\n",
       "      <td>ARG</td>\n",
       "      <td>Sabado</td>\n",
       "      <td>I</td>\n",
       "      <td>Austral</td>\n",
       "      <td>Buenos Aires</td>\n",
       "      <td>2017</td>\n",
       "      <td>2017</td>\n",
       "      <td>1</td>\n",
       "      <td>1</td>\n",
       "      <td>21</td>\n",
       "      <td>21</td>\n",
       "      <td>True</td>\n",
       "      <td>False</td>\n",
       "    </tr>\n",
       "    <tr>\n",
       "      <th>814</th>\n",
       "      <td>2017-01-01 07:14:00</td>\n",
       "      <td>624</td>\n",
       "      <td>SPJC</td>\n",
       "      <td>AVA</td>\n",
       "      <td>2017-01-01 07:11:00</td>\n",
       "      <td>624</td>\n",
       "      <td>SPJC</td>\n",
       "      <td>LRC</td>\n",
       "      <td>Domingo</td>\n",
       "      <td>I</td>\n",
       "      <td>Avianca</td>\n",
       "      <td>Lima</td>\n",
       "      <td>2017</td>\n",
       "      <td>2017</td>\n",
       "      <td>1</td>\n",
       "      <td>1</td>\n",
       "      <td>1</td>\n",
       "      <td>1</td>\n",
       "      <td>True</td>\n",
       "      <td>False</td>\n",
       "    </tr>\n",
       "    <tr>\n",
       "      <th>815</th>\n",
       "      <td>2017-01-02 07:00:00</td>\n",
       "      <td>624</td>\n",
       "      <td>SPJC</td>\n",
       "      <td>AVA</td>\n",
       "      <td>2017-01-02 07:05:00</td>\n",
       "      <td>624</td>\n",
       "      <td>SPJC</td>\n",
       "      <td>LRC</td>\n",
       "      <td>Lunes</td>\n",
       "      <td>I</td>\n",
       "      <td>Avianca</td>\n",
       "      <td>Lima</td>\n",
       "      <td>2017</td>\n",
       "      <td>2017</td>\n",
       "      <td>1</td>\n",
       "      <td>1</td>\n",
       "      <td>2</td>\n",
       "      <td>2</td>\n",
       "      <td>True</td>\n",
       "      <td>False</td>\n",
       "    </tr>\n",
       "    <tr>\n",
       "      <th>816</th>\n",
       "      <td>2017-01-03 07:14:00</td>\n",
       "      <td>624</td>\n",
       "      <td>SPJC</td>\n",
       "      <td>AVA</td>\n",
       "      <td>2017-01-03 07:14:00</td>\n",
       "      <td>624</td>\n",
       "      <td>SPJC</td>\n",
       "      <td>LRC</td>\n",
       "      <td>Martes</td>\n",
       "      <td>I</td>\n",
       "      <td>Avianca</td>\n",
       "      <td>Lima</td>\n",
       "      <td>2017</td>\n",
       "      <td>2017</td>\n",
       "      <td>1</td>\n",
       "      <td>1</td>\n",
       "      <td>3</td>\n",
       "      <td>3</td>\n",
       "      <td>True</td>\n",
       "      <td>False</td>\n",
       "    </tr>\n",
       "    <tr>\n",
       "      <th>817</th>\n",
       "      <td>2017-01-04 07:00:00</td>\n",
       "      <td>624</td>\n",
       "      <td>SPJC</td>\n",
       "      <td>AVA</td>\n",
       "      <td>2017-01-04 07:24:00</td>\n",
       "      <td>624</td>\n",
       "      <td>SPJC</td>\n",
       "      <td>LRC</td>\n",
       "      <td>Miercoles</td>\n",
       "      <td>I</td>\n",
       "      <td>Avianca</td>\n",
       "      <td>Lima</td>\n",
       "      <td>2017</td>\n",
       "      <td>2017</td>\n",
       "      <td>1</td>\n",
       "      <td>1</td>\n",
       "      <td>4</td>\n",
       "      <td>4</td>\n",
       "      <td>True</td>\n",
       "      <td>False</td>\n",
       "    </tr>\n",
       "  </tbody>\n",
       "</table>\n",
       "</div>"
      ],
      "text/plain": [
       "                Fecha-I Vlo-I Des-I Emp-I             Fecha-O Vlo-O Des-O  \\\n",
       "345 2017-01-21 22:30:00  2291  SABE   AUT 2017-01-21 22:28:00  2291  SABE   \n",
       "814 2017-01-01 07:14:00   624  SPJC   AVA 2017-01-01 07:11:00   624  SPJC   \n",
       "815 2017-01-02 07:00:00   624  SPJC   AVA 2017-01-02 07:05:00   624  SPJC   \n",
       "816 2017-01-03 07:14:00   624  SPJC   AVA 2017-01-03 07:14:00   624  SPJC   \n",
       "817 2017-01-04 07:00:00   624  SPJC   AVA 2017-01-04 07:24:00   624  SPJC   \n",
       "\n",
       "    Emp-O     DIANOM TIPOVUELO    OPERA      SIGLADES  year-I  year-O  \\\n",
       "345   ARG     Sabado         I  Austral  Buenos Aires    2017    2017   \n",
       "814   LRC    Domingo         I  Avianca          Lima    2017    2017   \n",
       "815   LRC      Lunes         I  Avianca          Lima    2017    2017   \n",
       "816   LRC     Martes         I  Avianca          Lima    2017    2017   \n",
       "817   LRC  Miercoles         I  Avianca          Lima    2017    2017   \n",
       "\n",
       "     month-I  month-O  day-I  day-O  DestVerificacion  EmpVer  \n",
       "345        1        1     21     21              True   False  \n",
       "814        1        1      1      1              True   False  \n",
       "815        1        1      2      2              True   False  \n",
       "816        1        1      3      3              True   False  \n",
       "817        1        1      4      4              True   False  "
      ]
     },
     "execution_count": 24,
     "metadata": {},
     "output_type": "execute_result"
    }
   ],
   "source": [
    "data[data.EmpVer == False].head()"
   ]
  },
  {
   "cell_type": "markdown",
   "metadata": {},
   "source": [
    "Aquí notamos otra característica interesante de los datos. Existe una gran cantidad de vuelos en los que la empresa que en realidad operó fue diferente a la que debió haber operado. Sin embargo, puede que la aerolínea que en realidad operó sea parte de un Grupo, por lo que la tesis anterior estaría equivocada. Para lo anterior creamos una columna que mapea código de aerolínea con nombre de la aerolínea"
   ]
  },
  {
   "cell_type": "code",
   "execution_count": 25,
   "metadata": {},
   "outputs": [],
   "source": [
    "aerodict = data[[\"Emp-I\" , \"OPERA\"]].drop_duplicates()\n",
    "aerodict.rename(columns = {\n",
    "    'Emp-I' : 'Emp-O',\n",
    "    'OPERA' : 'OPERA-O'\n",
    "} , inplace = True)"
   ]
  },
  {
   "cell_type": "code",
   "execution_count": 26,
   "metadata": {},
   "outputs": [],
   "source": [
    "data = pd.merge(data,aerodict, how = \"left\")\n",
    "data['OPERA-O'] = data[\"OPERA-O\"].fillna(value = \"Unknown\")"
   ]
  },
  {
   "cell_type": "code",
   "execution_count": 27,
   "metadata": {},
   "outputs": [
    {
     "data": {
      "text/plain": [
       "Emp-I\n",
       "AVA      2\n",
       "LAW     27\n",
       "QFU    194\n",
       "dtype: int64"
      ]
     },
     "execution_count": 27,
     "metadata": {},
     "output_type": "execute_result"
    }
   ],
   "source": [
    "data[data['OPERA-O'] == \"Unknown\"].groupby(\"Emp-I\").size()"
   ]
  },
  {
   "cell_type": "code",
   "execution_count": 28,
   "metadata": {},
   "outputs": [
    {
     "data": {
      "text/html": [
       "<div>\n",
       "<style scoped>\n",
       "    .dataframe tbody tr th:only-of-type {\n",
       "        vertical-align: middle;\n",
       "    }\n",
       "\n",
       "    .dataframe tbody tr th {\n",
       "        vertical-align: top;\n",
       "    }\n",
       "\n",
       "    .dataframe thead th {\n",
       "        text-align: right;\n",
       "    }\n",
       "</style>\n",
       "<table border=\"1\" class=\"dataframe\">\n",
       "  <thead>\n",
       "    <tr style=\"text-align: right;\">\n",
       "      <th></th>\n",
       "      <th>Fecha-I</th>\n",
       "      <th>Vlo-I</th>\n",
       "      <th>Des-I</th>\n",
       "      <th>Emp-I</th>\n",
       "      <th>Fecha-O</th>\n",
       "      <th>Vlo-O</th>\n",
       "      <th>Des-O</th>\n",
       "      <th>Emp-O</th>\n",
       "      <th>DIANOM</th>\n",
       "      <th>TIPOVUELO</th>\n",
       "      <th>OPERA</th>\n",
       "      <th>SIGLADES</th>\n",
       "      <th>year-I</th>\n",
       "      <th>year-O</th>\n",
       "      <th>month-I</th>\n",
       "      <th>month-O</th>\n",
       "      <th>day-I</th>\n",
       "      <th>day-O</th>\n",
       "      <th>DestVerificacion</th>\n",
       "      <th>EmpVer</th>\n",
       "      <th>OPERA-O</th>\n",
       "    </tr>\n",
       "  </thead>\n",
       "  <tbody>\n",
       "    <tr>\n",
       "      <th>39174</th>\n",
       "      <td>2017-08-11 06:14:00</td>\n",
       "      <td>624</td>\n",
       "      <td>SPJC</td>\n",
       "      <td>AVA</td>\n",
       "      <td>2017-08-11 08:14:00</td>\n",
       "      <td>922</td>\n",
       "      <td>SPJC</td>\n",
       "      <td>TPU</td>\n",
       "      <td>Viernes</td>\n",
       "      <td>I</td>\n",
       "      <td>Avianca</td>\n",
       "      <td>Lima</td>\n",
       "      <td>2017</td>\n",
       "      <td>2017</td>\n",
       "      <td>8</td>\n",
       "      <td>8</td>\n",
       "      <td>11</td>\n",
       "      <td>11</td>\n",
       "      <td>True</td>\n",
       "      <td>False</td>\n",
       "      <td>Unknown</td>\n",
       "    </tr>\n",
       "    <tr>\n",
       "      <th>39180</th>\n",
       "      <td>2017-08-17 17:25:00</td>\n",
       "      <td>624</td>\n",
       "      <td>SPJC</td>\n",
       "      <td>AVA</td>\n",
       "      <td>2017-08-17 19:21:00</td>\n",
       "      <td>5924</td>\n",
       "      <td>SPJC</td>\n",
       "      <td>TPU</td>\n",
       "      <td>Jueves</td>\n",
       "      <td>I</td>\n",
       "      <td>Avianca</td>\n",
       "      <td>Lima</td>\n",
       "      <td>2017</td>\n",
       "      <td>2017</td>\n",
       "      <td>8</td>\n",
       "      <td>8</td>\n",
       "      <td>17</td>\n",
       "      <td>17</td>\n",
       "      <td>True</td>\n",
       "      <td>False</td>\n",
       "      <td>Unknown</td>\n",
       "    </tr>\n",
       "  </tbody>\n",
       "</table>\n",
       "</div>"
      ],
      "text/plain": [
       "                  Fecha-I Vlo-I Des-I Emp-I             Fecha-O Vlo-O Des-O  \\\n",
       "39174 2017-08-11 06:14:00   624  SPJC   AVA 2017-08-11 08:14:00   922  SPJC   \n",
       "39180 2017-08-17 17:25:00   624  SPJC   AVA 2017-08-17 19:21:00  5924  SPJC   \n",
       "\n",
       "      Emp-O   DIANOM TIPOVUELO    OPERA SIGLADES  year-I  year-O  month-I  \\\n",
       "39174   TPU  Viernes         I  Avianca     Lima    2017    2017        8   \n",
       "39180   TPU   Jueves         I  Avianca     Lima    2017    2017        8   \n",
       "\n",
       "       month-O  day-I  day-O  DestVerificacion  EmpVer  OPERA-O  \n",
       "39174        8     11     11              True   False  Unknown  \n",
       "39180        8     17     17              True   False  Unknown  "
      ]
     },
     "execution_count": 28,
     "metadata": {},
     "output_type": "execute_result"
    }
   ],
   "source": [
    "data[(data['OPERA-O'] == \"Unknown\") & (data[\"Emp-I\"] == \"AVA\")]"
   ]
  },
  {
   "cell_type": "code",
   "execution_count": 29,
   "metadata": {},
   "outputs": [
    {
     "data": {
      "text/html": [
       "<div>\n",
       "<style scoped>\n",
       "    .dataframe tbody tr th:only-of-type {\n",
       "        vertical-align: middle;\n",
       "    }\n",
       "\n",
       "    .dataframe tbody tr th {\n",
       "        vertical-align: top;\n",
       "    }\n",
       "\n",
       "    .dataframe thead th {\n",
       "        text-align: right;\n",
       "    }\n",
       "</style>\n",
       "<table border=\"1\" class=\"dataframe\">\n",
       "  <thead>\n",
       "    <tr style=\"text-align: right;\">\n",
       "      <th></th>\n",
       "      <th>Fecha-I</th>\n",
       "      <th>Vlo-I</th>\n",
       "      <th>Des-I</th>\n",
       "      <th>Emp-I</th>\n",
       "      <th>Fecha-O</th>\n",
       "      <th>Vlo-O</th>\n",
       "      <th>Des-O</th>\n",
       "      <th>Emp-O</th>\n",
       "      <th>DIANOM</th>\n",
       "      <th>TIPOVUELO</th>\n",
       "      <th>OPERA</th>\n",
       "      <th>SIGLADES</th>\n",
       "      <th>year-I</th>\n",
       "      <th>year-O</th>\n",
       "      <th>month-I</th>\n",
       "      <th>month-O</th>\n",
       "      <th>day-I</th>\n",
       "      <th>day-O</th>\n",
       "      <th>DestVerificacion</th>\n",
       "      <th>EmpVer</th>\n",
       "      <th>OPERA-O</th>\n",
       "    </tr>\n",
       "  </thead>\n",
       "  <tbody>\n",
       "    <tr>\n",
       "      <th>845</th>\n",
       "      <td>2017-01-01 13:35:00</td>\n",
       "      <td>28</td>\n",
       "      <td>YSSY</td>\n",
       "      <td>QFU</td>\n",
       "      <td>2017-01-01 14:56:00</td>\n",
       "      <td>28</td>\n",
       "      <td>YSSY</td>\n",
       "      <td>QFA</td>\n",
       "      <td>Domingo</td>\n",
       "      <td>I</td>\n",
       "      <td>Qantas Airways</td>\n",
       "      <td>Sydney</td>\n",
       "      <td>2017</td>\n",
       "      <td>2017</td>\n",
       "      <td>1</td>\n",
       "      <td>1</td>\n",
       "      <td>1</td>\n",
       "      <td>1</td>\n",
       "      <td>True</td>\n",
       "      <td>False</td>\n",
       "      <td>Unknown</td>\n",
       "    </tr>\n",
       "    <tr>\n",
       "      <th>846</th>\n",
       "      <td>2017-01-03 13:35:00</td>\n",
       "      <td>28</td>\n",
       "      <td>YSSY</td>\n",
       "      <td>QFU</td>\n",
       "      <td>2017-01-03 14:12:00</td>\n",
       "      <td>28</td>\n",
       "      <td>YSSY</td>\n",
       "      <td>QFA</td>\n",
       "      <td>Martes</td>\n",
       "      <td>I</td>\n",
       "      <td>Qantas Airways</td>\n",
       "      <td>Sydney</td>\n",
       "      <td>2017</td>\n",
       "      <td>2017</td>\n",
       "      <td>1</td>\n",
       "      <td>1</td>\n",
       "      <td>3</td>\n",
       "      <td>3</td>\n",
       "      <td>True</td>\n",
       "      <td>False</td>\n",
       "      <td>Unknown</td>\n",
       "    </tr>\n",
       "  </tbody>\n",
       "</table>\n",
       "</div>"
      ],
      "text/plain": [
       "                Fecha-I Vlo-I Des-I Emp-I             Fecha-O Vlo-O Des-O  \\\n",
       "845 2017-01-01 13:35:00    28  YSSY   QFU 2017-01-01 14:56:00    28  YSSY   \n",
       "846 2017-01-03 13:35:00    28  YSSY   QFU 2017-01-03 14:12:00    28  YSSY   \n",
       "\n",
       "    Emp-O   DIANOM TIPOVUELO           OPERA SIGLADES  year-I  year-O  \\\n",
       "845   QFA  Domingo         I  Qantas Airways   Sydney    2017    2017   \n",
       "846   QFA   Martes         I  Qantas Airways   Sydney    2017    2017   \n",
       "\n",
       "     month-I  month-O  day-I  day-O  DestVerificacion  EmpVer  OPERA-O  \n",
       "845        1        1      1      1              True   False  Unknown  \n",
       "846        1        1      3      3              True   False  Unknown  "
      ]
     },
     "execution_count": 29,
     "metadata": {},
     "output_type": "execute_result"
    }
   ],
   "source": [
    "data[(data['OPERA-O'] == \"Unknown\") & (data[\"Emp-I\"] == \"QFU\")].head(2)"
   ]
  },
  {
   "cell_type": "markdown",
   "metadata": {},
   "source": [
    "Existen 3 códigos de aerolíneas que no cuentan con un nombre en particular. Notamos que uno de ellos es __QFA__ que podemos intuir que pertenece a la misma aerolínea que __QFU__ por lo que haremos ese reemplazo. Los otros vuelos de las aerolíneas AVA y LAW, al ser una cantidad muy pequeña los omitiremos"
   ]
  },
  {
   "cell_type": "code",
   "execution_count": 30,
   "metadata": {},
   "outputs": [
    {
     "name": "stderr",
     "output_type": "stream",
     "text": [
      "<ipython-input-30-cae10daab30d>:3: SettingWithCopyWarning: \n",
      "A value is trying to be set on a copy of a slice from a DataFrame.\n",
      "Try using .loc[row_indexer,col_indexer] = value instead\n",
      "\n",
      "See the caveats in the documentation: https://pandas.pydata.org/pandas-docs/stable/user_guide/indexing.html#returning-a-view-versus-a-copy\n",
      "  data2[\"OPERA-O\"] = \"Qantas Airways\"\n"
     ]
    },
    {
     "data": {
      "text/plain": [
       "EmpVer2\n",
       "False      272\n",
       "True     67877\n",
       "dtype: int64"
      ]
     },
     "execution_count": 30,
     "metadata": {},
     "output_type": "execute_result"
    }
   ],
   "source": [
    "data1 = data[data[\"OPERA-O\"] != \"Unknown\"]\n",
    "data2 = data[(data[\"OPERA-O\"] == \"Unknown\") & (data[\"Emp-I\"] == \"QFU\")]\n",
    "data2[\"OPERA-O\"] = \"Qantas Airways\"\n",
    "data = pd.concat([data1 , data2])\n",
    "data[\"EmpVer2\"] = data[\"OPERA\"] == data[\"OPERA-O\"]\n",
    "data.groupby(\"EmpVer2\").size()"
   ]
  },
  {
   "cell_type": "code",
   "execution_count": 36,
   "metadata": {},
   "outputs": [
    {
     "data": {
      "text/plain": [
       "Emp-I\n",
       "ARG      5\n",
       "AUT      2\n",
       "AVA    265\n",
       "dtype: int64"
      ]
     },
     "execution_count": 36,
     "metadata": {},
     "output_type": "execute_result"
    }
   ],
   "source": [
    "data[data.EmpVer2 == False].groupby(\"Emp-I\").size()"
   ]
  },
  {
   "cell_type": "code",
   "execution_count": 31,
   "metadata": {},
   "outputs": [
    {
     "data": {
      "text/html": [
       "<div>\n",
       "<style scoped>\n",
       "    .dataframe tbody tr th:only-of-type {\n",
       "        vertical-align: middle;\n",
       "    }\n",
       "\n",
       "    .dataframe tbody tr th {\n",
       "        vertical-align: top;\n",
       "    }\n",
       "\n",
       "    .dataframe thead th {\n",
       "        text-align: right;\n",
       "    }\n",
       "</style>\n",
       "<table border=\"1\" class=\"dataframe\">\n",
       "  <thead>\n",
       "    <tr style=\"text-align: right;\">\n",
       "      <th></th>\n",
       "      <th>Fecha-I</th>\n",
       "      <th>Vlo-I</th>\n",
       "      <th>Des-I</th>\n",
       "      <th>Emp-I</th>\n",
       "      <th>Fecha-O</th>\n",
       "      <th>Vlo-O</th>\n",
       "      <th>Des-O</th>\n",
       "      <th>Emp-O</th>\n",
       "      <th>DIANOM</th>\n",
       "      <th>TIPOVUELO</th>\n",
       "      <th>OPERA</th>\n",
       "      <th>SIGLADES</th>\n",
       "      <th>year-I</th>\n",
       "      <th>year-O</th>\n",
       "      <th>month-I</th>\n",
       "      <th>month-O</th>\n",
       "      <th>day-I</th>\n",
       "      <th>day-O</th>\n",
       "      <th>DestVerificacion</th>\n",
       "      <th>EmpVer</th>\n",
       "      <th>OPERA-O</th>\n",
       "      <th>EmpVer2</th>\n",
       "    </tr>\n",
       "  </thead>\n",
       "  <tbody>\n",
       "    <tr>\n",
       "      <th>345</th>\n",
       "      <td>2017-01-21 22:30:00</td>\n",
       "      <td>2291</td>\n",
       "      <td>SABE</td>\n",
       "      <td>AUT</td>\n",
       "      <td>2017-01-21 22:28:00</td>\n",
       "      <td>2291</td>\n",
       "      <td>SABE</td>\n",
       "      <td>ARG</td>\n",
       "      <td>Sabado</td>\n",
       "      <td>I</td>\n",
       "      <td>Austral</td>\n",
       "      <td>Buenos Aires</td>\n",
       "      <td>2017</td>\n",
       "      <td>2017</td>\n",
       "      <td>1</td>\n",
       "      <td>1</td>\n",
       "      <td>21</td>\n",
       "      <td>21</td>\n",
       "      <td>True</td>\n",
       "      <td>False</td>\n",
       "      <td>Aerolineas Argentinas</td>\n",
       "      <td>False</td>\n",
       "    </tr>\n",
       "    <tr>\n",
       "      <th>11987</th>\n",
       "      <td>2017-03-04 22:30:00</td>\n",
       "      <td>2291</td>\n",
       "      <td>SABE</td>\n",
       "      <td>ARG</td>\n",
       "      <td>2017-03-04 22:34:00</td>\n",
       "      <td>2291</td>\n",
       "      <td>SABE</td>\n",
       "      <td>AUT</td>\n",
       "      <td>Sabado</td>\n",
       "      <td>I</td>\n",
       "      <td>Aerolineas Argentinas</td>\n",
       "      <td>Buenos Aires</td>\n",
       "      <td>2017</td>\n",
       "      <td>2017</td>\n",
       "      <td>3</td>\n",
       "      <td>3</td>\n",
       "      <td>4</td>\n",
       "      <td>4</td>\n",
       "      <td>True</td>\n",
       "      <td>False</td>\n",
       "      <td>Austral</td>\n",
       "      <td>False</td>\n",
       "    </tr>\n",
       "    <tr>\n",
       "      <th>11988</th>\n",
       "      <td>2017-03-11 22:30:00</td>\n",
       "      <td>2291</td>\n",
       "      <td>SABE</td>\n",
       "      <td>ARG</td>\n",
       "      <td>2017-03-11 22:39:00</td>\n",
       "      <td>2291</td>\n",
       "      <td>SABE</td>\n",
       "      <td>AUT</td>\n",
       "      <td>Sabado</td>\n",
       "      <td>I</td>\n",
       "      <td>Aerolineas Argentinas</td>\n",
       "      <td>Buenos Aires</td>\n",
       "      <td>2017</td>\n",
       "      <td>2017</td>\n",
       "      <td>3</td>\n",
       "      <td>3</td>\n",
       "      <td>11</td>\n",
       "      <td>11</td>\n",
       "      <td>True</td>\n",
       "      <td>False</td>\n",
       "      <td>Austral</td>\n",
       "      <td>False</td>\n",
       "    </tr>\n",
       "    <tr>\n",
       "      <th>11989</th>\n",
       "      <td>2017-03-25 22:30:00</td>\n",
       "      <td>2291</td>\n",
       "      <td>SABE</td>\n",
       "      <td>ARG</td>\n",
       "      <td>2017-03-25 22:39:00</td>\n",
       "      <td>2291</td>\n",
       "      <td>SABE</td>\n",
       "      <td>AUT</td>\n",
       "      <td>Sabado</td>\n",
       "      <td>I</td>\n",
       "      <td>Aerolineas Argentinas</td>\n",
       "      <td>Buenos Aires</td>\n",
       "      <td>2017</td>\n",
       "      <td>2017</td>\n",
       "      <td>3</td>\n",
       "      <td>3</td>\n",
       "      <td>25</td>\n",
       "      <td>25</td>\n",
       "      <td>True</td>\n",
       "      <td>False</td>\n",
       "      <td>Austral</td>\n",
       "      <td>False</td>\n",
       "    </tr>\n",
       "    <tr>\n",
       "      <th>32735</th>\n",
       "      <td>2017-07-22 19:50:00</td>\n",
       "      <td>2297</td>\n",
       "      <td>SABE</td>\n",
       "      <td>AUT</td>\n",
       "      <td>2017-07-22 19:46:00</td>\n",
       "      <td>1297</td>\n",
       "      <td>SABE</td>\n",
       "      <td>ARG</td>\n",
       "      <td>Sabado</td>\n",
       "      <td>I</td>\n",
       "      <td>Austral</td>\n",
       "      <td>Buenos Aires</td>\n",
       "      <td>2017</td>\n",
       "      <td>2017</td>\n",
       "      <td>7</td>\n",
       "      <td>7</td>\n",
       "      <td>22</td>\n",
       "      <td>22</td>\n",
       "      <td>True</td>\n",
       "      <td>False</td>\n",
       "      <td>Aerolineas Argentinas</td>\n",
       "      <td>False</td>\n",
       "    </tr>\n",
       "    <tr>\n",
       "      <th>62152</th>\n",
       "      <td>2017-12-20 19:25:00</td>\n",
       "      <td>2287</td>\n",
       "      <td>SAEZ</td>\n",
       "      <td>ARG</td>\n",
       "      <td>2017-12-20 20:17:00</td>\n",
       "      <td>1287</td>\n",
       "      <td>SAEZ</td>\n",
       "      <td>AUT</td>\n",
       "      <td>Miercoles</td>\n",
       "      <td>I</td>\n",
       "      <td>Aerolineas Argentinas</td>\n",
       "      <td>Buenos Aires</td>\n",
       "      <td>2017</td>\n",
       "      <td>2017</td>\n",
       "      <td>12</td>\n",
       "      <td>12</td>\n",
       "      <td>20</td>\n",
       "      <td>20</td>\n",
       "      <td>True</td>\n",
       "      <td>False</td>\n",
       "      <td>Austral</td>\n",
       "      <td>False</td>\n",
       "    </tr>\n",
       "    <tr>\n",
       "      <th>62153</th>\n",
       "      <td>2017-12-22 19:25:00</td>\n",
       "      <td>2287</td>\n",
       "      <td>SAEZ</td>\n",
       "      <td>ARG</td>\n",
       "      <td>2017-12-22 21:30:00</td>\n",
       "      <td>2287</td>\n",
       "      <td>SAEZ</td>\n",
       "      <td>AUT</td>\n",
       "      <td>Viernes</td>\n",
       "      <td>I</td>\n",
       "      <td>Aerolineas Argentinas</td>\n",
       "      <td>Buenos Aires</td>\n",
       "      <td>2017</td>\n",
       "      <td>2017</td>\n",
       "      <td>12</td>\n",
       "      <td>12</td>\n",
       "      <td>22</td>\n",
       "      <td>22</td>\n",
       "      <td>True</td>\n",
       "      <td>False</td>\n",
       "      <td>Austral</td>\n",
       "      <td>False</td>\n",
       "    </tr>\n",
       "  </tbody>\n",
       "</table>\n",
       "</div>"
      ],
      "text/plain": [
       "                  Fecha-I Vlo-I Des-I Emp-I             Fecha-O Vlo-O Des-O  \\\n",
       "345   2017-01-21 22:30:00  2291  SABE   AUT 2017-01-21 22:28:00  2291  SABE   \n",
       "11987 2017-03-04 22:30:00  2291  SABE   ARG 2017-03-04 22:34:00  2291  SABE   \n",
       "11988 2017-03-11 22:30:00  2291  SABE   ARG 2017-03-11 22:39:00  2291  SABE   \n",
       "11989 2017-03-25 22:30:00  2291  SABE   ARG 2017-03-25 22:39:00  2291  SABE   \n",
       "32735 2017-07-22 19:50:00  2297  SABE   AUT 2017-07-22 19:46:00  1297  SABE   \n",
       "62152 2017-12-20 19:25:00  2287  SAEZ   ARG 2017-12-20 20:17:00  1287  SAEZ   \n",
       "62153 2017-12-22 19:25:00  2287  SAEZ   ARG 2017-12-22 21:30:00  2287  SAEZ   \n",
       "\n",
       "      Emp-O     DIANOM TIPOVUELO                  OPERA      SIGLADES  year-I  \\\n",
       "345     ARG     Sabado         I                Austral  Buenos Aires    2017   \n",
       "11987   AUT     Sabado         I  Aerolineas Argentinas  Buenos Aires    2017   \n",
       "11988   AUT     Sabado         I  Aerolineas Argentinas  Buenos Aires    2017   \n",
       "11989   AUT     Sabado         I  Aerolineas Argentinas  Buenos Aires    2017   \n",
       "32735   ARG     Sabado         I                Austral  Buenos Aires    2017   \n",
       "62152   AUT  Miercoles         I  Aerolineas Argentinas  Buenos Aires    2017   \n",
       "62153   AUT    Viernes         I  Aerolineas Argentinas  Buenos Aires    2017   \n",
       "\n",
       "       year-O  month-I  month-O  day-I  day-O  DestVerificacion  EmpVer  \\\n",
       "345      2017        1        1     21     21              True   False   \n",
       "11987    2017        3        3      4      4              True   False   \n",
       "11988    2017        3        3     11     11              True   False   \n",
       "11989    2017        3        3     25     25              True   False   \n",
       "32735    2017        7        7     22     22              True   False   \n",
       "62152    2017       12       12     20     20              True   False   \n",
       "62153    2017       12       12     22     22              True   False   \n",
       "\n",
       "                     OPERA-O  EmpVer2  \n",
       "345    Aerolineas Argentinas    False  \n",
       "11987                Austral    False  \n",
       "11988                Austral    False  \n",
       "11989                Austral    False  \n",
       "32735  Aerolineas Argentinas    False  \n",
       "62152                Austral    False  \n",
       "62153                Austral    False  "
      ]
     },
     "execution_count": 31,
     "metadata": {},
     "output_type": "execute_result"
    }
   ],
   "source": [
    "data[(data.EmpVer2 == False) & (data[\"Emp-I\"] != \"AVA\")]"
   ]
  },
  {
   "cell_type": "markdown",
   "metadata": {},
   "source": [
    "Realizando un poco de investigación, resulta que el nombre anterior de __AVIANCA__ era __LACSA__. Por otra parte notamos de la tabla superior que __Austral__ y __Aerolíneas Argentinas__ corresponden al mismo grupo. De ésta forma logramos rearmar el conjunto de datos verificando que aerolíneas de operación y programadas son correctas. Limpiamos el dataset eliminando variables que no utilizaremos y luego procedemos con la sección 2."
   ]
  },
  {
   "cell_type": "code",
   "execution_count": 42,
   "metadata": {},
   "outputs": [],
   "source": [
    "data = data.drop([ \"DestVerificacion\" , \"EmpVer\" , \"OPERA-O\" , \"EmpVer2\"] , axis = 1)"
   ]
  },
  {
   "cell_type": "markdown",
   "metadata": {},
   "source": [
    "# Sección 2 : Synthetic Features"
   ]
  },
  {
   "cell_type": "code",
   "execution_count": 148,
   "metadata": {},
   "outputs": [],
   "source": [
    "synthetic_features = pd.DataFrame(columns = ['fecha_I' , 'fecha_O','temporada_alta', 'dif_min', 'atraso_15' , 'periodo_dia'])"
   ]
  },
  {
   "cell_type": "code",
   "execution_count": 149,
   "metadata": {},
   "outputs": [],
   "source": [
    "synthetic_features['fecha_I'] = data['Fecha-I']\n",
    "synthetic_features['fecha_O'] = data['Fecha-O']"
   ]
  },
  {
   "cell_type": "markdown",
   "metadata": {},
   "source": [
    "## Sección 2.1 : Temporada Alta"
   ]
  },
  {
   "cell_type": "code",
   "execution_count": 150,
   "metadata": {},
   "outputs": [],
   "source": [
    "i1 = pd.Timestamp('2017-12-15T235959')\n",
    "i2 = pd.Timestamp('2017-03-03T0000')\n",
    "i3 = pd.Timestamp('2017-07-15T0000')\n",
    "i4 = pd.Timestamp('2017-07-31T235959')\n",
    "i5 = pd.Timestamp('2017-09-11T0000')\n",
    "i6 = pd.Timestamp('2017-09-30T235959')"
   ]
  },
  {
   "cell_type": "code",
   "execution_count": 151,
   "metadata": {},
   "outputs": [],
   "source": [
    "temporada_alta = []\n",
    "for i in data['Fecha-I']:\n",
    "    if (i > i1) | (i < i2) | (i3 <= i <= i4) | (i5 <= i <= i6):\n",
    "        temporada_alta.append(1)\n",
    "    else:\n",
    "        temporada_alta.append(0)\n",
    "synthetic_features['temporada_alta'] = temporada_alta"
   ]
  },
  {
   "cell_type": "markdown",
   "metadata": {},
   "source": [
    "## Sección 2.2 : Diferencia Minutos"
   ]
  },
  {
   "cell_type": "code",
   "execution_count": 153,
   "metadata": {},
   "outputs": [],
   "source": [
    "synthetic_features[\"late\"] = [1 if i.fecha_I <= i.fecha_O else 0 for i in synthetic_features.itertuples()]\n",
    "synthetic_features[\"dif_min\"] = [int(np.round((i.fecha_I - i.fecha_O).seconds / 60 , 0)) if i.late == 0 else int(np.round((i.fecha_O - i.fecha_I).seconds / 60 , 0)) for i in synthetic_features.itertuples()]\n",
    "synthetic_features.drop([\"late\"] , axis = 1 , inplace = True)"
   ]
  },
  {
   "cell_type": "markdown",
   "metadata": {},
   "source": [
    "## Sección 2.3 : Atraso 15"
   ]
  },
  {
   "cell_type": "code",
   "execution_count": 157,
   "metadata": {},
   "outputs": [],
   "source": [
    "synthetic_features[\"atraso_15\"] = [1 if x > 15 else 0 for x in synthetic_features.dif_min]"
   ]
  },
  {
   "cell_type": "markdown",
   "metadata": {},
   "source": [
    "## Sección 2.4 : Periodo Dia"
   ]
  },
  {
   "cell_type": "code",
   "execution_count": 169,
   "metadata": {},
   "outputs": [],
   "source": [
    "periodo_dia = []\n",
    "for i in synthetic_features.itertuples():\n",
    "    if (5 <= i.fecha_I.hour < 12):\n",
    "        periodo_dia.append(\"mañana\")\n",
    "    elif (12 <= i.fecha_I.hour < 19):\n",
    "        periodo_dia.append(\"tarde\")\n",
    "    else:\n",
    "        periodo_dia.append(\"noche\")\n",
    "synthetic_features[\"periodo_dia\"] = periodo_dia"
   ]
  },
  {
   "cell_type": "code",
   "execution_count": 171,
   "metadata": {},
   "outputs": [],
   "source": [
    "synthetic_features.to_csv(\"synthetic_features.csv\")"
   ]
  },
  {
   "cell_type": "code",
   "execution_count": 174,
   "metadata": {},
   "outputs": [],
   "source": [
    "synthetic_features.drop([\"fecha_I\" , \"fecha_O\"] , axis = 1 , inplace = True)"
   ]
  },
  {
   "cell_type": "code",
   "execution_count": 176,
   "metadata": {},
   "outputs": [],
   "source": [
    "data = pd.concat([data , synthetic_features] , axis = 1)"
   ]
  },
  {
   "cell_type": "markdown",
   "metadata": {},
   "source": [
    "# Sección 3 : Tasas de Atrasos"
   ]
  },
  {
   "cell_type": "code",
   "execution_count": 183,
   "metadata": {},
   "outputs": [
    {
     "data": {
      "image/png": "[encoded data removed]",
      "text/plain": [
       "<Figure size 432x288 with 1 Axes>"
      ]
     },
     "metadata": {
      "needs_background": "light"
     },
     "output_type": "display_data"
    }
   ],
   "source": [
    "plt.title(\"Atrasos de Vuelos\")\n",
    "sns.countplot(x='atraso_15' , data=data);\n",
    "plt.xlabel(\"Atrasos\");"
   ]
  },
  {
   "cell_type": "code",
   "execution_count": 247,
   "metadata": {},
   "outputs": [],
   "source": [
    "def rates(data , category):\n",
    "    vuelos = pd.crosstab(data[category], data['atraso_15'])\n",
    "    vuelos.columns = [\"no_atrasado\" , \"atrasado\"]\n",
    "    vuelos['total_vuelos'] = vuelos.no_atrasado + vuelos.atrasado\n",
    "    tasas = pd.crosstab(data[category], data['atraso_15']).apply(lambda r: (r/r.sum()).round(2) * 100, axis=1)\n",
    "    tasas.columns = [\"rate_no_atrasado\" , \"rate_atrasado\"]\n",
    "    df = pd.concat([vuelos , tasas] , axis = 1)\n",
    "    return df"
   ]
  },
  {
   "cell_type": "markdown",
   "metadata": {},
   "source": [
    "## Sección 3.1 : Destino"
   ]
  },
  {
   "cell_type": "code",
   "execution_count": 248,
   "metadata": {},
   "outputs": [],
   "source": [
    "dest_rates = rates(data , 'SIGLADES')"
   ]
  },
  {
   "cell_type": "code",
   "execution_count": 250,
   "metadata": {},
   "outputs": [],
   "source": [
    "dest_rates = dest_rates.sort_values(by = \"rate_atrasado\" , ascending = False)[:15]"
   ]
  },
  {
   "cell_type": "code",
   "execution_count": 264,
   "metadata": {},
   "outputs": [
    {
     "data": {
      "image/png": "[encoded data removed]",
      "text/plain": [
       "<Figure size 1440x576 with 2 Axes>"
      ]
     },
     "metadata": {
      "needs_background": "light"
     },
     "output_type": "display_data"
    }
   ],
   "source": [
    "plt.figure(figsize = (20,8))\n",
    "plt.title(\"15 Destinos con Mayor Tasa de Atraso y Número de Vuelos\")\n",
    "sns.barplot(x = dest_rates.index, y = \"rate_atrasado\" , data = dest_rates)\n",
    "dest_rates['total_vuelos'].plot(secondary_y=True)\n",
    "plt.legend(loc=\"upper center\");"
   ]
  },
  {
   "cell_type": "markdown",
   "metadata": {},
   "source": [
    "## Sección 3.2 : Aerolínea"
   ]
  },
  {
   "cell_type": "code",
   "execution_count": 269,
   "metadata": {},
   "outputs": [],
   "source": [
    "aero_rates = rates(data , 'OPERA')"
   ]
  },
  {
   "cell_type": "code",
   "execution_count": 274,
   "metadata": {},
   "outputs": [
    {
     "data": {
      "text/html": [
       "<div>\n",
       "<style scoped>\n",
       "    .dataframe tbody tr th:only-of-type {\n",
       "        vertical-align: middle;\n",
       "    }\n",
       "\n",
       "    .dataframe tbody tr th {\n",
       "        vertical-align: top;\n",
       "    }\n",
       "\n",
       "    .dataframe thead th {\n",
       "        text-align: right;\n",
       "    }\n",
       "</style>\n",
       "<table border=\"1\" class=\"dataframe\">\n",
       "  <thead>\n",
       "    <tr style=\"text-align: right;\">\n",
       "      <th></th>\n",
       "      <th>no_atrasado</th>\n",
       "      <th>atrasado</th>\n",
       "      <th>total_vuelos</th>\n",
       "      <th>rate_no_atrasado</th>\n",
       "      <th>rate_atrasado</th>\n",
       "    </tr>\n",
       "    <tr>\n",
       "      <th>OPERA</th>\n",
       "      <th></th>\n",
       "      <th></th>\n",
       "      <th></th>\n",
       "      <th></th>\n",
       "      <th></th>\n",
       "    </tr>\n",
       "  </thead>\n",
       "  <tbody>\n",
       "    <tr>\n",
       "      <th>Plus Ultra Lineas Aereas</th>\n",
       "      <td>19</td>\n",
       "      <td>30</td>\n",
       "      <td>49</td>\n",
       "      <td>39.0</td>\n",
       "      <td>61.0</td>\n",
       "    </tr>\n",
       "    <tr>\n",
       "      <th>Qantas Airways</th>\n",
       "      <td>81</td>\n",
       "      <td>113</td>\n",
       "      <td>194</td>\n",
       "      <td>42.0</td>\n",
       "      <td>58.0</td>\n",
       "    </tr>\n",
       "    <tr>\n",
       "      <th>Air Canada</th>\n",
       "      <td>307</td>\n",
       "      <td>258</td>\n",
       "      <td>565</td>\n",
       "      <td>54.0</td>\n",
       "      <td>46.0</td>\n",
       "    </tr>\n",
       "    <tr>\n",
       "      <th>Latin American Wings</th>\n",
       "      <td>979</td>\n",
       "      <td>667</td>\n",
       "      <td>1646</td>\n",
       "      <td>59.0</td>\n",
       "      <td>41.0</td>\n",
       "    </tr>\n",
       "    <tr>\n",
       "      <th>Gol Trans</th>\n",
       "      <td>518</td>\n",
       "      <td>287</td>\n",
       "      <td>805</td>\n",
       "      <td>64.0</td>\n",
       "      <td>36.0</td>\n",
       "    </tr>\n",
       "    <tr>\n",
       "      <th>Avianca</th>\n",
       "      <td>846</td>\n",
       "      <td>304</td>\n",
       "      <td>1150</td>\n",
       "      <td>74.0</td>\n",
       "      <td>26.0</td>\n",
       "    </tr>\n",
       "    <tr>\n",
       "      <th>Aerolineas Argentinas</th>\n",
       "      <td>1481</td>\n",
       "      <td>468</td>\n",
       "      <td>1949</td>\n",
       "      <td>76.0</td>\n",
       "      <td>24.0</td>\n",
       "    </tr>\n",
       "    <tr>\n",
       "      <th>Austral</th>\n",
       "      <td>59</td>\n",
       "      <td>15</td>\n",
       "      <td>74</td>\n",
       "      <td>80.0</td>\n",
       "      <td>20.0</td>\n",
       "    </tr>\n",
       "    <tr>\n",
       "      <th>Grupo LATAM</th>\n",
       "      <td>33573</td>\n",
       "      <td>7301</td>\n",
       "      <td>40874</td>\n",
       "      <td>82.0</td>\n",
       "      <td>18.0</td>\n",
       "    </tr>\n",
       "    <tr>\n",
       "      <th>JetSmart SPA</th>\n",
       "      <td>899</td>\n",
       "      <td>196</td>\n",
       "      <td>1095</td>\n",
       "      <td>82.0</td>\n",
       "      <td>18.0</td>\n",
       "    </tr>\n",
       "  </tbody>\n",
       "</table>\n",
       "</div>"
      ],
      "text/plain": [
       "                          no_atrasado  atrasado  total_vuelos  \\\n",
       "OPERA                                                           \n",
       "Plus Ultra Lineas Aereas           19        30            49   \n",
       "Qantas Airways                     81       113           194   \n",
       "Air Canada                        307       258           565   \n",
       "Latin American Wings              979       667          1646   \n",
       "Gol Trans                         518       287           805   \n",
       "Avianca                           846       304          1150   \n",
       "Aerolineas Argentinas            1481       468          1949   \n",
       "Austral                            59        15            74   \n",
       "Grupo LATAM                     33573      7301         40874   \n",
       "JetSmart SPA                      899       196          1095   \n",
       "\n",
       "                          rate_no_atrasado  rate_atrasado  \n",
       "OPERA                                                      \n",
       "Plus Ultra Lineas Aereas              39.0           61.0  \n",
       "Qantas Airways                        42.0           58.0  \n",
       "Air Canada                            54.0           46.0  \n",
       "Latin American Wings                  59.0           41.0  \n",
       "Gol Trans                             64.0           36.0  \n",
       "Avianca                               74.0           26.0  \n",
       "Aerolineas Argentinas                 76.0           24.0  \n",
       "Austral                               80.0           20.0  \n",
       "Grupo LATAM                           82.0           18.0  \n",
       "JetSmart SPA                          82.0           18.0  "
      ]
     },
     "execution_count": 274,
     "metadata": {},
     "output_type": "execute_result"
    }
   ],
   "source": [
    "aero_rates.sort_values(by = \"rate_atrasado\" , ascending = False).head(10)"
   ]
  },
  {
   "cell_type": "markdown",
   "metadata": {},
   "source": [
    "## Sección 3.3 : Mes"
   ]
  },
  {
   "cell_type": "code",
   "execution_count": 281,
   "metadata": {},
   "outputs": [],
   "source": [
    "mes_rates = rates(data , 'month-O')"
   ]
  },
  {
   "cell_type": "code",
   "execution_count": 282,
   "metadata": {},
   "outputs": [
    {
     "data": {
      "text/html": [
       "<div>\n",
       "<style scoped>\n",
       "    .dataframe tbody tr th:only-of-type {\n",
       "        vertical-align: middle;\n",
       "    }\n",
       "\n",
       "    .dataframe tbody tr th {\n",
       "        vertical-align: top;\n",
       "    }\n",
       "\n",
       "    .dataframe thead th {\n",
       "        text-align: right;\n",
       "    }\n",
       "</style>\n",
       "<table border=\"1\" class=\"dataframe\">\n",
       "  <thead>\n",
       "    <tr style=\"text-align: right;\">\n",
       "      <th></th>\n",
       "      <th>no_atrasado</th>\n",
       "      <th>atrasado</th>\n",
       "      <th>total_vuelos</th>\n",
       "      <th>rate_no_atrasado</th>\n",
       "      <th>rate_atrasado</th>\n",
       "    </tr>\n",
       "    <tr>\n",
       "      <th>month-O</th>\n",
       "      <th></th>\n",
       "      <th></th>\n",
       "      <th></th>\n",
       "      <th></th>\n",
       "      <th></th>\n",
       "    </tr>\n",
       "  </thead>\n",
       "  <tbody>\n",
       "    <tr>\n",
       "      <th>1</th>\n",
       "      <td>5116</td>\n",
       "      <td>964</td>\n",
       "      <td>6080</td>\n",
       "      <td>84.0</td>\n",
       "      <td>16.0</td>\n",
       "    </tr>\n",
       "    <tr>\n",
       "      <th>2</th>\n",
       "      <td>4716</td>\n",
       "      <td>842</td>\n",
       "      <td>5558</td>\n",
       "      <td>85.0</td>\n",
       "      <td>15.0</td>\n",
       "    </tr>\n",
       "    <tr>\n",
       "      <th>3</th>\n",
       "      <td>4848</td>\n",
       "      <td>630</td>\n",
       "      <td>5478</td>\n",
       "      <td>88.0</td>\n",
       "      <td>12.0</td>\n",
       "    </tr>\n",
       "    <tr>\n",
       "      <th>4</th>\n",
       "      <td>4433</td>\n",
       "      <td>585</td>\n",
       "      <td>5018</td>\n",
       "      <td>88.0</td>\n",
       "      <td>12.0</td>\n",
       "    </tr>\n",
       "    <tr>\n",
       "      <th>5</th>\n",
       "      <td>4409</td>\n",
       "      <td>827</td>\n",
       "      <td>5236</td>\n",
       "      <td>84.0</td>\n",
       "      <td>16.0</td>\n",
       "    </tr>\n",
       "    <tr>\n",
       "      <th>6</th>\n",
       "      <td>4129</td>\n",
       "      <td>852</td>\n",
       "      <td>4981</td>\n",
       "      <td>83.0</td>\n",
       "      <td>17.0</td>\n",
       "    </tr>\n",
       "    <tr>\n",
       "      <th>7</th>\n",
       "      <td>4232</td>\n",
       "      <td>1755</td>\n",
       "      <td>5987</td>\n",
       "      <td>71.0</td>\n",
       "      <td>29.0</td>\n",
       "    </tr>\n",
       "    <tr>\n",
       "      <th>8</th>\n",
       "      <td>4746</td>\n",
       "      <td>994</td>\n",
       "      <td>5740</td>\n",
       "      <td>83.0</td>\n",
       "      <td>17.0</td>\n",
       "    </tr>\n",
       "    <tr>\n",
       "      <th>9</th>\n",
       "      <td>4643</td>\n",
       "      <td>967</td>\n",
       "      <td>5610</td>\n",
       "      <td>83.0</td>\n",
       "      <td>17.0</td>\n",
       "    </tr>\n",
       "    <tr>\n",
       "      <th>10</th>\n",
       "      <td>4669</td>\n",
       "      <td>1362</td>\n",
       "      <td>6031</td>\n",
       "      <td>77.0</td>\n",
       "      <td>23.0</td>\n",
       "    </tr>\n",
       "    <tr>\n",
       "      <th>11</th>\n",
       "      <td>4881</td>\n",
       "      <td>1198</td>\n",
       "      <td>6079</td>\n",
       "      <td>80.0</td>\n",
       "      <td>20.0</td>\n",
       "    </tr>\n",
       "    <tr>\n",
       "      <th>12</th>\n",
       "      <td>4736</td>\n",
       "      <td>1615</td>\n",
       "      <td>6351</td>\n",
       "      <td>75.0</td>\n",
       "      <td>25.0</td>\n",
       "    </tr>\n",
       "  </tbody>\n",
       "</table>\n",
       "</div>"
      ],
      "text/plain": [
       "         no_atrasado  atrasado  total_vuelos  rate_no_atrasado  rate_atrasado\n",
       "month-O                                                                      \n",
       "1               5116       964          6080              84.0           16.0\n",
       "2               4716       842          5558              85.0           15.0\n",
       "3               4848       630          5478              88.0           12.0\n",
       "4               4433       585          5018              88.0           12.0\n",
       "5               4409       827          5236              84.0           16.0\n",
       "6               4129       852          4981              83.0           17.0\n",
       "7               4232      1755          5987              71.0           29.0\n",
       "8               4746       994          5740              83.0           17.0\n",
       "9               4643       967          5610              83.0           17.0\n",
       "10              4669      1362          6031              77.0           23.0\n",
       "11              4881      1198          6079              80.0           20.0\n",
       "12              4736      1615          6351              75.0           25.0"
      ]
     },
     "execution_count": 282,
     "metadata": {},
     "output_type": "execute_result"
    }
   ],
   "source": [
    "mes_rates"
   ]
  },
  {
   "cell_type": "markdown",
   "metadata": {},
   "source": [
    "## Sección 3.4 : Día"
   ]
  },
  {
   "cell_type": "code",
   "execution_count": 284,
   "metadata": {},
   "outputs": [],
   "source": [
    "day_rates = rates(data , 'DIANOM')"
   ]
  },
  {
   "cell_type": "code",
   "execution_count": 286,
   "metadata": {},
   "outputs": [
    {
     "data": {
      "text/html": [
       "<div>\n",
       "<style scoped>\n",
       "    .dataframe tbody tr th:only-of-type {\n",
       "        vertical-align: middle;\n",
       "    }\n",
       "\n",
       "    .dataframe tbody tr th {\n",
       "        vertical-align: top;\n",
       "    }\n",
       "\n",
       "    .dataframe thead th {\n",
       "        text-align: right;\n",
       "    }\n",
       "</style>\n",
       "<table border=\"1\" class=\"dataframe\">\n",
       "  <thead>\n",
       "    <tr style=\"text-align: right;\">\n",
       "      <th></th>\n",
       "      <th>no_atrasado</th>\n",
       "      <th>atrasado</th>\n",
       "      <th>total_vuelos</th>\n",
       "      <th>rate_no_atrasado</th>\n",
       "      <th>rate_atrasado</th>\n",
       "    </tr>\n",
       "    <tr>\n",
       "      <th>DIANOM</th>\n",
       "      <th></th>\n",
       "      <th></th>\n",
       "      <th></th>\n",
       "      <th></th>\n",
       "      <th></th>\n",
       "    </tr>\n",
       "  </thead>\n",
       "  <tbody>\n",
       "    <tr>\n",
       "      <th>Domingo</th>\n",
       "      <td>8214</td>\n",
       "      <td>1576</td>\n",
       "      <td>9790</td>\n",
       "      <td>84.0</td>\n",
       "      <td>16.0</td>\n",
       "    </tr>\n",
       "    <tr>\n",
       "      <th>Jueves</th>\n",
       "      <td>8202</td>\n",
       "      <td>2043</td>\n",
       "      <td>10245</td>\n",
       "      <td>80.0</td>\n",
       "      <td>20.0</td>\n",
       "    </tr>\n",
       "    <tr>\n",
       "      <th>Lunes</th>\n",
       "      <td>8078</td>\n",
       "      <td>2043</td>\n",
       "      <td>10121</td>\n",
       "      <td>80.0</td>\n",
       "      <td>20.0</td>\n",
       "    </tr>\n",
       "    <tr>\n",
       "      <th>Martes</th>\n",
       "      <td>8025</td>\n",
       "      <td>1627</td>\n",
       "      <td>9652</td>\n",
       "      <td>83.0</td>\n",
       "      <td>17.0</td>\n",
       "    </tr>\n",
       "    <tr>\n",
       "      <th>Miercoles</th>\n",
       "      <td>8054</td>\n",
       "      <td>1658</td>\n",
       "      <td>9712</td>\n",
       "      <td>83.0</td>\n",
       "      <td>17.0</td>\n",
       "    </tr>\n",
       "    <tr>\n",
       "      <th>Sabado</th>\n",
       "      <td>6984</td>\n",
       "      <td>1363</td>\n",
       "      <td>8347</td>\n",
       "      <td>84.0</td>\n",
       "      <td>16.0</td>\n",
       "    </tr>\n",
       "    <tr>\n",
       "      <th>Viernes</th>\n",
       "      <td>8001</td>\n",
       "      <td>2281</td>\n",
       "      <td>10282</td>\n",
       "      <td>78.0</td>\n",
       "      <td>22.0</td>\n",
       "    </tr>\n",
       "  </tbody>\n",
       "</table>\n",
       "</div>"
      ],
      "text/plain": [
       "           no_atrasado  atrasado  total_vuelos  rate_no_atrasado  \\\n",
       "DIANOM                                                             \n",
       "Domingo           8214      1576          9790              84.0   \n",
       "Jueves            8202      2043         10245              80.0   \n",
       "Lunes             8078      2043         10121              80.0   \n",
       "Martes            8025      1627          9652              83.0   \n",
       "Miercoles         8054      1658          9712              83.0   \n",
       "Sabado            6984      1363          8347              84.0   \n",
       "Viernes           8001      2281         10282              78.0   \n",
       "\n",
       "           rate_atrasado  \n",
       "DIANOM                    \n",
       "Domingo             16.0  \n",
       "Jueves              20.0  \n",
       "Lunes               20.0  \n",
       "Martes              17.0  \n",
       "Miercoles           17.0  \n",
       "Sabado              16.0  \n",
       "Viernes             22.0  "
      ]
     },
     "execution_count": 286,
     "metadata": {},
     "output_type": "execute_result"
    }
   ],
   "source": [
    "day_rates"
   ]
  },
  {
   "cell_type": "markdown",
   "metadata": {},
   "source": [
    "## Sección 3.5 : Temporada"
   ]
  },
  {
   "cell_type": "code",
   "execution_count": 288,
   "metadata": {},
   "outputs": [],
   "source": [
    "temp_rates = rates(data , 'temporada_alta')"
   ]
  },
  {
   "cell_type": "code",
   "execution_count": 289,
   "metadata": {},
   "outputs": [
    {
     "data": {
      "text/html": [
       "<div>\n",
       "<style scoped>\n",
       "    .dataframe tbody tr th:only-of-type {\n",
       "        vertical-align: middle;\n",
       "    }\n",
       "\n",
       "    .dataframe tbody tr th {\n",
       "        vertical-align: top;\n",
       "    }\n",
       "\n",
       "    .dataframe thead th {\n",
       "        text-align: right;\n",
       "    }\n",
       "</style>\n",
       "<table border=\"1\" class=\"dataframe\">\n",
       "  <thead>\n",
       "    <tr style=\"text-align: right;\">\n",
       "      <th></th>\n",
       "      <th>no_atrasado</th>\n",
       "      <th>atrasado</th>\n",
       "      <th>total_vuelos</th>\n",
       "      <th>rate_no_atrasado</th>\n",
       "      <th>rate_atrasado</th>\n",
       "    </tr>\n",
       "    <tr>\n",
       "      <th>temporada_alta</th>\n",
       "      <th></th>\n",
       "      <th></th>\n",
       "      <th></th>\n",
       "      <th></th>\n",
       "      <th></th>\n",
       "    </tr>\n",
       "  </thead>\n",
       "  <tbody>\n",
       "    <tr>\n",
       "      <th>0</th>\n",
       "      <td>37590</td>\n",
       "      <td>8239</td>\n",
       "      <td>45829</td>\n",
       "      <td>82.0</td>\n",
       "      <td>18.0</td>\n",
       "    </tr>\n",
       "    <tr>\n",
       "      <th>1</th>\n",
       "      <td>17968</td>\n",
       "      <td>4352</td>\n",
       "      <td>22320</td>\n",
       "      <td>81.0</td>\n",
       "      <td>19.0</td>\n",
       "    </tr>\n",
       "  </tbody>\n",
       "</table>\n",
       "</div>"
      ],
      "text/plain": [
       "                no_atrasado  atrasado  total_vuelos  rate_no_atrasado  \\\n",
       "temporada_alta                                                          \n",
       "0                     37590      8239         45829              82.0   \n",
       "1                     17968      4352         22320              81.0   \n",
       "\n",
       "                rate_atrasado  \n",
       "temporada_alta                 \n",
       "0                        18.0  \n",
       "1                        19.0  "
      ]
     },
     "execution_count": 289,
     "metadata": {},
     "output_type": "execute_result"
    }
   ],
   "source": [
    "temp_rates"
   ]
  },
  {
   "cell_type": "markdown",
   "metadata": {},
   "source": [
    "## Sección 3.6 : Tipo de Vuelo"
   ]
  },
  {
   "cell_type": "code",
   "execution_count": 291,
   "metadata": {},
   "outputs": [],
   "source": [
    "tipo_rates = rates(data , 'TIPOVUELO')"
   ]
  },
  {
   "cell_type": "code",
   "execution_count": 293,
   "metadata": {},
   "outputs": [
    {
     "data": {
      "text/html": [
       "<div>\n",
       "<style scoped>\n",
       "    .dataframe tbody tr th:only-of-type {\n",
       "        vertical-align: middle;\n",
       "    }\n",
       "\n",
       "    .dataframe tbody tr th {\n",
       "        vertical-align: top;\n",
       "    }\n",
       "\n",
       "    .dataframe thead th {\n",
       "        text-align: right;\n",
       "    }\n",
       "</style>\n",
       "<table border=\"1\" class=\"dataframe\">\n",
       "  <thead>\n",
       "    <tr style=\"text-align: right;\">\n",
       "      <th></th>\n",
       "      <th>no_atrasado</th>\n",
       "      <th>atrasado</th>\n",
       "      <th>total_vuelos</th>\n",
       "      <th>rate_no_atrasado</th>\n",
       "      <th>rate_atrasado</th>\n",
       "    </tr>\n",
       "    <tr>\n",
       "      <th>TIPOVUELO</th>\n",
       "      <th></th>\n",
       "      <th></th>\n",
       "      <th></th>\n",
       "      <th></th>\n",
       "      <th></th>\n",
       "    </tr>\n",
       "  </thead>\n",
       "  <tbody>\n",
       "    <tr>\n",
       "      <th>I</th>\n",
       "      <td>24169</td>\n",
       "      <td>7028</td>\n",
       "      <td>31197</td>\n",
       "      <td>77.0</td>\n",
       "      <td>23.0</td>\n",
       "    </tr>\n",
       "    <tr>\n",
       "      <th>N</th>\n",
       "      <td>31389</td>\n",
       "      <td>5563</td>\n",
       "      <td>36952</td>\n",
       "      <td>85.0</td>\n",
       "      <td>15.0</td>\n",
       "    </tr>\n",
       "  </tbody>\n",
       "</table>\n",
       "</div>"
      ],
      "text/plain": [
       "           no_atrasado  atrasado  total_vuelos  rate_no_atrasado  \\\n",
       "TIPOVUELO                                                          \n",
       "I                24169      7028         31197              77.0   \n",
       "N                31389      5563         36952              85.0   \n",
       "\n",
       "           rate_atrasado  \n",
       "TIPOVUELO                 \n",
       "I                   23.0  \n",
       "N                   15.0  "
      ]
     },
     "execution_count": 293,
     "metadata": {},
     "output_type": "execute_result"
    }
   ],
   "source": [
    "tipo_rates"
   ]
  },
  {
   "cell_type": "code",
   "execution_count": null,
   "metadata": {},
   "outputs": [],
   "source": []
  },
  {
   "cell_type": "markdown",
   "metadata": {},
   "source": [
    "# Sección 4 : Desarrollo de Modelos"
   ]
  },
  {
   "cell_type": "markdown",
   "metadata": {},
   "source": [
    "# Sección 5 : Evaluación de Modelos"
   ]
  },
  {
   "cell_type": "code",
   "execution_count": null,
   "metadata": {},
   "outputs": [],
   "source": []
  },
  {
   "cell_type": "code",
   "execution_count": null,
   "metadata": {},
   "outputs": [],
   "source": []
  },
  {
   "cell_type": "code",
   "execution_count": null,
   "metadata": {},
   "outputs": [],
   "source": []
  },
  {
   "cell_type": "code",
   "execution_count": null,
   "metadata": {},
   "outputs": [],
   "source": []
  },
  {
   "cell_type": "code",
   "execution_count": null,
   "metadata": {},
   "outputs": [],
   "source": []
  },
  {
   "cell_type": "code",
   "execution_count": null,
   "metadata": {},
   "outputs": [],
   "source": []
  },
  {
   "cell_type": "code",
   "execution_count": null,
   "metadata": {},
   "outputs": [],
   "source": []
  },
  {
   "cell_type": "code",
   "execution_count": null,
   "metadata": {},
   "outputs": [],
   "source": []
  },
  {
   "cell_type": "code",
   "execution_count": null,
   "metadata": {},
   "outputs": [],
   "source": []
  },
  {
   "cell_type": "code",
   "execution_count": null,
   "metadata": {},
   "outputs": [],
   "source": []
  },
  {
   "cell_type": "code",
   "execution_count": null,
   "metadata": {},
   "outputs": [],
   "source": []
  },
  {
   "cell_type": "code",
   "execution_count": null,
   "metadata": {},
   "outputs": [],
   "source": []
  },
  {
   "cell_type": "code",
   "execution_count": null,
   "metadata": {},
   "outputs": [],
   "source": []
  },
  {
   "cell_type": "code",
   "execution_count": null,
   "metadata": {},
   "outputs": [],
   "source": []
  },
  {
   "cell_type": "code",
   "execution_count": null,
   "metadata": {},
   "outputs": [],
   "source": []
  },
  {
   "cell_type": "code",
   "execution_count": null,
   "metadata": {},
   "outputs": [],
   "source": []
  },
  {
   "cell_type": "code",
   "execution_count": null,
   "metadata": {},
   "outputs": [],
   "source": []
  },
  {
   "cell_type": "code",
   "execution_count": null,
   "metadata": {},
   "outputs": [],
   "source": []
  },
  {
   "cell_type": "markdown",
   "metadata": {},
   "source": [
    "[Another Cell](#another_cell)"
   ]
  },
  {
   "cell_type": "code",
   "execution_count": null,
   "metadata": {},
   "outputs": [],
   "source": []
  }
 ],
 "metadata": {
  "kernelspec": {
   "display_name": "Python 3",
   "language": "python",
   "name": "python3"
  },
  "language_info": {
   "codemirror_mode": {
    "name": "ipython",
    "version": 3
   },
   "file_extension": ".py",
   "mimetype": "text/x-python",
   "name": "python",
   "nbconvert_exporter": "python",
   "pygments_lexer": "ipython3",
   "version": "3.8.3"
  }
 },
 "nbformat": 4,
 "nbformat_minor": 4
}
